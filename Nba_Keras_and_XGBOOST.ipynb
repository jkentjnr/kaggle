{
 "cells": [
  {
   "cell_type": "code",
   "execution_count": 1,
   "metadata": {},
   "outputs": [],
   "source": [
    "import json \n",
    "import pandas as pd\n",
    "import numpy as np \n",
    "import geopy.distance\n",
    "\n",
    "#package for flattening json in pandas df\n",
    "from pandas.io.json import json_normalize"
   ]
  },
  {
   "cell_type": "code",
   "execution_count": 2,
   "metadata": {},
   "outputs": [],
   "source": [
    "from sklearn.linear_model import LogisticRegression\n",
    "from sklearn.svm import SVC, LinearSVC\n",
    "from sklearn.ensemble import RandomForestClassifier\n",
    "from sklearn.neighbors import KNeighborsClassifier\n",
    "from sklearn.naive_bayes import GaussianNB\n",
    "from sklearn.linear_model import Perceptron\n",
    "from sklearn.linear_model import SGDClassifier\n",
    "from sklearn.tree import DecisionTreeClassifier"
   ]
  },
  {
   "cell_type": "code",
   "execution_count": 3,
   "metadata": {},
   "outputs": [],
   "source": [
    "calc_last_5_games = True\n",
    "calc_win_loss = True\n",
    "calc_win_loss_write_all = True\n",
    "use_team_keys = False\n",
    "use_team_hot_encoding = False\n",
    "use_team_home_away_hot_encoding = False\n",
    "\n"
   ]
  },
  {
   "cell_type": "code",
   "execution_count": 4,
   "metadata": {},
   "outputs": [],
   "source": [
    "#load games - json object\n",
    "with open('games.json') as gamesJsonRaw:\n",
    "    d = json.load(gamesJsonRaw)\n",
    "\n",
    "games = json_normalize(d['games'])"
   ]
  },
  {
   "cell_type": "code",
   "execution_count": 5,
   "metadata": {},
   "outputs": [],
   "source": [
    "with open('stadiums.json') as stadiumsJsonRaw:\n",
    "    stadiumsJson = json.load(stadiumsJsonRaw)\n",
    "\n",
    "stadiums = json_normalize(stadiumsJson['stadiums'])"
   ]
  },
  {
   "cell_type": "code",
   "execution_count": 6,
   "metadata": {},
   "outputs": [
    {
     "data": {
      "text/html": [
       "<div>\n",
       "<style scoped>\n",
       "    .dataframe tbody tr th:only-of-type {\n",
       "        vertical-align: middle;\n",
       "    }\n",
       "\n",
       "    .dataframe tbody tr th {\n",
       "        vertical-align: top;\n",
       "    }\n",
       "\n",
       "    .dataframe thead th {\n",
       "        text-align: right;\n",
       "    }\n",
       "</style>\n",
       "<table border=\"1\" class=\"dataframe\">\n",
       "  <thead>\n",
       "    <tr style=\"text-align: right;\">\n",
       "      <th></th>\n",
       "      <th>lat</th>\n",
       "      <th>lng</th>\n",
       "      <th>team</th>\n",
       "    </tr>\n",
       "  </thead>\n",
       "  <tbody>\n",
       "    <tr>\n",
       "      <th>0</th>\n",
       "      <td>33.757183</td>\n",
       "      <td>-84.396278</td>\n",
       "      <td>ATL</td>\n",
       "    </tr>\n",
       "    <tr>\n",
       "      <th>1</th>\n",
       "      <td>42.366281</td>\n",
       "      <td>-71.062266</td>\n",
       "      <td>BOS</td>\n",
       "    </tr>\n",
       "    <tr>\n",
       "      <th>2</th>\n",
       "      <td>40.682650</td>\n",
       "      <td>-73.974689</td>\n",
       "      <td>BRO</td>\n",
       "    </tr>\n",
       "    <tr>\n",
       "      <th>3</th>\n",
       "      <td>35.224519</td>\n",
       "      <td>-80.841053</td>\n",
       "      <td>CHA</td>\n",
       "    </tr>\n",
       "    <tr>\n",
       "      <th>4</th>\n",
       "      <td>41.880589</td>\n",
       "      <td>-87.674149</td>\n",
       "      <td>CHI</td>\n",
       "    </tr>\n",
       "  </tbody>\n",
       "</table>\n",
       "</div>"
      ],
      "text/plain": [
       "         lat        lng team\n",
       "0  33.757183 -84.396278  ATL\n",
       "1  42.366281 -71.062266  BOS\n",
       "2  40.682650 -73.974689  BRO\n",
       "3  35.224519 -80.841053  CHA\n",
       "4  41.880589 -87.674149  CHI"
      ]
     },
     "execution_count": 6,
     "metadata": {},
     "output_type": "execute_result"
    }
   ],
   "source": [
    "stadiums.head(5)"
   ]
  },
  {
   "cell_type": "code",
   "execution_count": 7,
   "metadata": {},
   "outputs": [
    {
     "data": {
      "text/html": [
       "<div>\n",
       "<style scoped>\n",
       "    .dataframe tbody tr th:only-of-type {\n",
       "        vertical-align: middle;\n",
       "    }\n",
       "\n",
       "    .dataframe tbody tr th {\n",
       "        vertical-align: top;\n",
       "    }\n",
       "\n",
       "    .dataframe thead th {\n",
       "        text-align: right;\n",
       "    }\n",
       "</style>\n",
       "<table border=\"1\" class=\"dataframe\">\n",
       "  <thead>\n",
       "    <tr style=\"text-align: right;\">\n",
       "      <th></th>\n",
       "      <th>id</th>\n",
       "      <th>location</th>\n",
       "      <th>oddsBet365Away</th>\n",
       "      <th>oddsBet365Home</th>\n",
       "      <th>scoreAway</th>\n",
       "      <th>scoreHome</th>\n",
       "      <th>scoreQuarters</th>\n",
       "      <th>season</th>\n",
       "      <th>teamAwayCode</th>\n",
       "      <th>teamAwayId</th>\n",
       "      <th>teamHomeCode</th>\n",
       "      <th>teamHomeId</th>\n",
       "      <th>time</th>\n",
       "    </tr>\n",
       "  </thead>\n",
       "  <tbody>\n",
       "    <tr>\n",
       "      <th>0</th>\n",
       "      <td>33941</td>\n",
       "      <td>Quicken Loans Arena</td>\n",
       "      <td>5.25</td>\n",
       "      <td>1.18</td>\n",
       "      <td>88</td>\n",
       "      <td>117</td>\n",
       "      <td>[{u'scoreAway': 18, u'number': 1, u'scoreHome'...</td>\n",
       "      <td>2016</td>\n",
       "      <td>NYK</td>\n",
       "      <td>83</td>\n",
       "      <td>CLE</td>\n",
       "      <td>86</td>\n",
       "      <td>2016-10-25T19:30:00.000Z</td>\n",
       "    </tr>\n",
       "    <tr>\n",
       "      <th>1</th>\n",
       "      <td>33942</td>\n",
       "      <td>Moda Center</td>\n",
       "      <td>3.15</td>\n",
       "      <td>1.38</td>\n",
       "      <td>104</td>\n",
       "      <td>113</td>\n",
       "      <td>[{u'scoreAway': 26, u'number': 1, u'scoreHome'...</td>\n",
       "      <td>2016</td>\n",
       "      <td>UTA</td>\n",
       "      <td>98</td>\n",
       "      <td>POR</td>\n",
       "      <td>97</td>\n",
       "      <td>2016-10-25T22:00:00.000Z</td>\n",
       "    </tr>\n",
       "    <tr>\n",
       "      <th>2</th>\n",
       "      <td>33943</td>\n",
       "      <td>Oracle Arena</td>\n",
       "      <td>4.25</td>\n",
       "      <td>1.23</td>\n",
       "      <td>129</td>\n",
       "      <td>100</td>\n",
       "      <td>[{u'scoreAway': 31, u'number': 1, u'scoreHome'...</td>\n",
       "      <td>2016</td>\n",
       "      <td>SAS</td>\n",
       "      <td>106</td>\n",
       "      <td>GSW</td>\n",
       "      <td>101</td>\n",
       "      <td>2016-10-25T22:30:00.000Z</td>\n",
       "    </tr>\n",
       "    <tr>\n",
       "      <th>3</th>\n",
       "      <td>33944</td>\n",
       "      <td>Amway Center</td>\n",
       "      <td>2.60</td>\n",
       "      <td>1.55</td>\n",
       "      <td>108</td>\n",
       "      <td>96</td>\n",
       "      <td>[{u'scoreAway': 23, u'number': 1, u'scoreHome'...</td>\n",
       "      <td>2016</td>\n",
       "      <td>MIA</td>\n",
       "      <td>92</td>\n",
       "      <td>ORL</td>\n",
       "      <td>95</td>\n",
       "      <td>2016-10-26T19:00:00.000Z</td>\n",
       "    </tr>\n",
       "    <tr>\n",
       "      <th>4</th>\n",
       "      <td>33945</td>\n",
       "      <td>Bankers Life Fieldhouse</td>\n",
       "      <td>3.20</td>\n",
       "      <td>1.37</td>\n",
       "      <td>121</td>\n",
       "      <td>130</td>\n",
       "      <td>[{u'scoreAway': 21, u'number': 1, u'scoreHome'...</td>\n",
       "      <td>2016</td>\n",
       "      <td>DAL</td>\n",
       "      <td>108</td>\n",
       "      <td>IND</td>\n",
       "      <td>87</td>\n",
       "      <td>2016-10-26T19:00:00.000Z</td>\n",
       "    </tr>\n",
       "  </tbody>\n",
       "</table>\n",
       "</div>"
      ],
      "text/plain": [
       "      id                 location  oddsBet365Away  oddsBet365Home  scoreAway  \\\n",
       "0  33941      Quicken Loans Arena            5.25            1.18         88   \n",
       "1  33942              Moda Center            3.15            1.38        104   \n",
       "2  33943             Oracle Arena            4.25            1.23        129   \n",
       "3  33944             Amway Center            2.60            1.55        108   \n",
       "4  33945  Bankers Life Fieldhouse            3.20            1.37        121   \n",
       "\n",
       "   scoreHome                                      scoreQuarters  season  \\\n",
       "0        117  [{u'scoreAway': 18, u'number': 1, u'scoreHome'...    2016   \n",
       "1        113  [{u'scoreAway': 26, u'number': 1, u'scoreHome'...    2016   \n",
       "2        100  [{u'scoreAway': 31, u'number': 1, u'scoreHome'...    2016   \n",
       "3         96  [{u'scoreAway': 23, u'number': 1, u'scoreHome'...    2016   \n",
       "4        130  [{u'scoreAway': 21, u'number': 1, u'scoreHome'...    2016   \n",
       "\n",
       "  teamAwayCode  teamAwayId teamHomeCode  teamHomeId                      time  \n",
       "0          NYK          83          CLE          86  2016-10-25T19:30:00.000Z  \n",
       "1          UTA          98          POR          97  2016-10-25T22:00:00.000Z  \n",
       "2          SAS         106          GSW         101  2016-10-25T22:30:00.000Z  \n",
       "3          MIA          92          ORL          95  2016-10-26T19:00:00.000Z  \n",
       "4          DAL         108          IND          87  2016-10-26T19:00:00.000Z  "
      ]
     },
     "execution_count": 7,
     "metadata": {},
     "output_type": "execute_result"
    }
   ],
   "source": [
    "games.head()"
   ]
  },
  {
   "cell_type": "code",
   "execution_count": 8,
   "metadata": {},
   "outputs": [],
   "source": [
    "\n",
    "\n",
    "#games['season'] = games['season'].astype('float')\n",
    "games['scoreAway'] = games['scoreAway'].astype('uint8')\n",
    "games['scoreHome'] = games['scoreHome'].astype('uint8')\n",
    "games['teamAwayId'] = games['teamAwayId'].astype('uint8')\n",
    "games['teamHomeId'] = games['teamHomeId'].astype('uint8')\n",
    "\n",
    "#scoreQuarters          object\n",
    "#teamAwayCode           object\n",
    "#teamHomeCode           object\n",
    "\n"
   ]
  },
  {
   "cell_type": "code",
   "execution_count": 9,
   "metadata": {},
   "outputs": [],
   "source": [
    "\n",
    "\n",
    "# Create a dataframe for the results - same size as dataset\n",
    "data = pd.DataFrame(index=range(0,len(games)), columns=['gamesPlayedHome', 'gamesPlayedAway'])\n",
    "\n",
    "# Iterate through every team\n",
    "for team in games.teamAwayCode.unique():\n",
    "    gameCount = 0\n",
    "    homeGameCount = 0;\n",
    "    \n",
    "    # Iterate through each game the team is present in.\n",
    "    for index, game in games[(games['teamAwayCode'] == team) | (games['teamHomeCode'] == team)].iterrows():\n",
    "        gameCount += 1\n",
    "        \n",
    "        # Update game count for team - whether away or home.\n",
    "        if game.teamAwayCode == team:\n",
    "            data.loc[index]['gamesPlayedAway'] = gameCount\n",
    "        else:\n",
    "            data.loc[index]['gamesPlayedHome'] = gameCount\n",
    "\n",
    "data['gamesPlayedAway'] = data['gamesPlayedAway'].astype('uint8')\n",
    "data['gamesPlayedHome'] = data['gamesPlayedHome'].astype('uint8')\n",
    "            \n",
    "# Append the results to the dataset\n",
    "games = pd.merge(games, data, left_index=True, right_index=True)\n",
    "\n"
   ]
  },
  {
   "cell_type": "code",
   "execution_count": 10,
   "metadata": {},
   "outputs": [
    {
     "data": {
      "text/html": [
       "<div>\n",
       "<style scoped>\n",
       "    .dataframe tbody tr th:only-of-type {\n",
       "        vertical-align: middle;\n",
       "    }\n",
       "\n",
       "    .dataframe tbody tr th {\n",
       "        vertical-align: top;\n",
       "    }\n",
       "\n",
       "    .dataframe thead th {\n",
       "        text-align: right;\n",
       "    }\n",
       "</style>\n",
       "<table border=\"1\" class=\"dataframe\">\n",
       "  <thead>\n",
       "    <tr style=\"text-align: right;\">\n",
       "      <th></th>\n",
       "      <th>teamHomeCode</th>\n",
       "      <th>teamAwayCode</th>\n",
       "      <th>gamesPlayedHome</th>\n",
       "      <th>gamesPlayedAway</th>\n",
       "    </tr>\n",
       "  </thead>\n",
       "  <tbody>\n",
       "    <tr>\n",
       "      <th>10</th>\n",
       "      <td>PHI</td>\n",
       "      <td>OKL</td>\n",
       "      <td>1</td>\n",
       "      <td>1</td>\n",
       "    </tr>\n",
       "    <tr>\n",
       "      <th>1121</th>\n",
       "      <td>TOR</td>\n",
       "      <td>IND</td>\n",
       "      <td>76</td>\n",
       "      <td>76</td>\n",
       "    </tr>\n",
       "    <tr>\n",
       "      <th>1210</th>\n",
       "      <td>LAL</td>\n",
       "      <td>NOP</td>\n",
       "      <td>81</td>\n",
       "      <td>80</td>\n",
       "    </tr>\n",
       "    <tr>\n",
       "      <th>352</th>\n",
       "      <td>UTA</td>\n",
       "      <td>SAC</td>\n",
       "      <td>25</td>\n",
       "      <td>23</td>\n",
       "    </tr>\n",
       "    <tr>\n",
       "      <th>99</th>\n",
       "      <td>CLE</td>\n",
       "      <td>ATL</td>\n",
       "      <td>7</td>\n",
       "      <td>7</td>\n",
       "    </tr>\n",
       "  </tbody>\n",
       "</table>\n",
       "</div>"
      ],
      "text/plain": [
       "     teamHomeCode teamAwayCode  gamesPlayedHome  gamesPlayedAway\n",
       "10            PHI          OKL                1                1\n",
       "1121          TOR          IND               76               76\n",
       "1210          LAL          NOP               81               80\n",
       "352           UTA          SAC               25               23\n",
       "99            CLE          ATL                7                7"
      ]
     },
     "execution_count": 10,
     "metadata": {},
     "output_type": "execute_result"
    }
   ],
   "source": [
    "games[['teamHomeCode', 'teamAwayCode', 'gamesPlayedHome', 'gamesPlayedAway']].sample(5)"
   ]
  },
  {
   "cell_type": "code",
   "execution_count": 11,
   "metadata": {},
   "outputs": [],
   "source": [
    "\n",
    "\n",
    "def calc_percentage(x, y):\n",
    "    return 0 if y == 0 else x / y\n",
    "\n"
   ]
  },
  {
   "cell_type": "code",
   "execution_count": 12,
   "metadata": {},
   "outputs": [
    {
     "name": "stderr",
     "output_type": "stream",
     "text": [
      "/home/gingasu/.local/lib/python2.7/site-packages/ipykernel_launcher.py:23: UserWarning: Boolean Series key will be reindexed to match DataFrame index.\n",
      "/home/gingasu/.local/lib/python2.7/site-packages/ipykernel_launcher.py:26: UserWarning: Boolean Series key will be reindexed to match DataFrame index.\n",
      "/home/gingasu/.local/lib/python2.7/site-packages/ipykernel_launcher.py:52: UserWarning: Boolean Series key will be reindexed to match DataFrame index.\n",
      "/home/gingasu/.local/lib/python2.7/site-packages/ipykernel_launcher.py:55: UserWarning: Boolean Series key will be reindexed to match DataFrame index.\n"
     ]
    }
   ],
   "source": [
    "if calc_win_loss == True:\n",
    "    \n",
    "    # Create a dataframe for the results - same size as dataset\n",
    "    data = pd.DataFrame(\n",
    "        index=range(0,len(games)), \n",
    "        columns=[\n",
    "            'totalGamesHome', 'totalWinsHome', 'homeGamesHome', 'homeWinsHome', 'awayGamesHome', 'awayWinsHome',\n",
    "            'percentageTotalWinHome', 'percentageHomeWinHome', 'percentageAwayWinHome',\n",
    "            'totalGamesAway', 'totalWinsAway', 'homeGamesAway', 'homeWinsAway', 'awayGamesAway', 'awayWinsAway',\n",
    "            'percentageTotalWinAway', 'percentageHomeWinAway', 'percentageAwayWinAway'\n",
    "        ]\n",
    "    )\n",
    "\n",
    "    # Iterate through each game.\n",
    "    for index, game in games.iterrows():\n",
    "\n",
    "        # Home Team\n",
    "        # ---------\n",
    "        \n",
    "        historicGames = games[(games['gamesPlayedHome'] < game.gamesPlayedHome) & ((games['teamHomeCode'] == game.teamHomeCode) | (games['teamAwayCode'] == game.teamHomeCode))].sort_values(by='gamesPlayedHome', ascending=True)\n",
    "       \n",
    "        homeGamesHome = len(historicGames[(historicGames['teamHomeCode'] == game['teamHomeCode'])])        \n",
    "        homeWinsHome = len(historicGames[(historicGames['teamHomeCode'] == game['teamHomeCode']) & (games[\"scoreAway\"] < games[\"scoreHome\"])])\n",
    "        \n",
    "        awayGamesHome = len(historicGames[(historicGames['teamAwayCode'] == game['teamHomeCode'])])        \n",
    "        awayWinsHome = len(historicGames[(historicGames['teamAwayCode'] == game['teamHomeCode']) & (games[\"scoreAway\"] > games[\"scoreHome\"])])\n",
    "\n",
    "        #totalGames = len(historicGames);\n",
    "        #totalWins = len(\n",
    "        #    historicGames[\n",
    "        #        (historicGames['teamHomeCode'] == game['teamHomeCode']) & (games[\"scoreAway\"] < games[\"scoreHome\"]) |\n",
    "        #        (historicGames['teamAwayCode'] == game['teamHomeCode']) & (games[\"scoreAway\"] > games[\"scoreHome\"])\n",
    "        #    ]\n",
    "        #)\n",
    "        \n",
    "        totalGamesHome = homeGamesHome + awayGamesHome\n",
    "        totalWinsHome = homeWinsHome + awayWinsHome\n",
    "        \n",
    "        percentageTotalWinHome = round(calc_percentage(totalWinsHome, totalGamesHome), 3)\n",
    "        percentageHomeWinHome = round(calc_percentage(homeWinsHome, homeGamesHome), 3)\n",
    "        percentageAwayWinHome = round(calc_percentage(awayWinsHome, awayGamesHome), 3)\n",
    "        \n",
    "        # print('HOME', game['gamesPlayedHome'], 'TG', totalGamesHome, 'W', totalWinsHome, 'HGP', homeGamesHome, 'HW', homeWinsHome, 'AGP', awayGamesHome, 'AW', awayWinsHome)\n",
    "        # print('HOME', 'W%', percentageTotalWinHome, 'HW%', percentageHomeWinHome, 'AW%', percentageAwayWinHome)\n",
    "        \n",
    "        # Away Team\n",
    "        # ---------\n",
    "        \n",
    "        historicGames = games[(games['gamesPlayedAway'] < game.gamesPlayedAway) & ((games['teamAwayCode'] == game.teamAwayCode) | (games['teamHomeCode'] == game.teamAwayCode))].sort_values(by='gamesPlayedAway', ascending=True)\n",
    "       \n",
    "        homeGamesAway = len(historicGames[(historicGames['teamHomeCode'] == game['teamAwayCode'])])        \n",
    "        homeWinsAway = len(historicGames[(historicGames['teamHomeCode'] == game['teamAwayCode']) & (games[\"scoreAway\"] < games[\"scoreHome\"])])\n",
    "        \n",
    "        awayGamesAway = len(historicGames[(historicGames['teamAwayCode'] == game['teamAwayCode'])])        \n",
    "        awayWinsAway = len(historicGames[(historicGames['teamAwayCode'] == game['teamAwayCode']) & (games[\"scoreAway\"] > games[\"scoreHome\"])])\n",
    "\n",
    "        #totalGames = len(historicGames);\n",
    "        #totalWins = len(\n",
    "        #    historicGames[\n",
    "        #        (historicGames['teamHomeCode'] == game['teamHomeCode']) & (games[\"scoreAway\"] < games[\"scoreHome\"]) |\n",
    "        #        (historicGames['teamAwayCode'] == game['teamHomeCode']) & (games[\"scoreAway\"] > games[\"scoreHome\"])\n",
    "        #    ]\n",
    "        #)\n",
    "        \n",
    "        totalGamesAway = homeGamesAway + awayGamesAway\n",
    "        totalWinsAway = homeWinsAway + awayWinsAway\n",
    "        \n",
    "        percentageTotalWinAway = round(calc_percentage(totalWinsAway, totalGamesAway), 3)\n",
    "        percentageHomeWinAway = round(calc_percentage(homeWinsAway, homeGamesAway), 3)\n",
    "        percentageAwayWinAway = round(calc_percentage(awayWinsAway, awayGamesAway), 3)\n",
    "        \n",
    "        # print('AWAY', game['gamesPlayedAway'], 'TG', totalGamesAway, 'W', totalWinsAway, 'HGP', homeGamesAway, 'HW', homeWinsAway, 'AGP', awayGamesAway, 'AW', awayWinsAway)\n",
    "        # print('AWAY', 'W%', percentageTotalWinAway, 'HW%', percentageHomeWinAway, 'AW%', percentageAwayWinAway)\n",
    "        \n",
    "        # ---------    \n",
    "            \n",
    "        # Update the row with the history\n",
    "        data.loc[index] = [\n",
    "            totalGamesHome, totalWinsHome, homeGamesHome, homeWinsHome, awayGamesHome, awayWinsHome,\n",
    "            percentageTotalWinHome, percentageHomeWinHome, percentageAwayWinHome,\n",
    "            totalGamesAway, totalWinsAway, homeGamesAway, homeWinsAway, awayGamesAway, awayWinsAway,\n",
    "            percentageTotalWinAway, percentageHomeWinAway, percentageAwayWinAway\n",
    "        ]\n",
    "\n",
    "    # Add results to the dataset\n",
    "    if (calc_win_loss_write_all == True):\n",
    "        games = pd.merge(games, data, left_index=True, right_index=True)\n",
    "        games[['teamHomeCode', 'teamAwayCode', 'percentageTotalWinHome', 'percentageHomeWinHome', 'percentageAwayWinHome', 'percentageTotalWinAway', 'percentageHomeWinAway', 'percentageAwayWinAway']].sample(5)\n",
    "    else:\n",
    "        games = pd.merge(games, data[['percentageHomeWinHome', 'percentageAwayWinAway']], left_index=True, right_index=True)\n",
    "        games[['teamHomeCode', 'teamAwayCode', 'percentageHomeWinHome', 'percentageAwayWinAway']].sample(5)"
   ]
  },
  {
   "cell_type": "code",
   "execution_count": 13,
   "metadata": {},
   "outputs": [],
   "source": [
    "if calc_last_5_games == True:\n",
    "    \n",
    "    # Create a dataframe for the results - same size as dataset\n",
    "    data = pd.DataFrame(index=range(0,len(games)), columns=['lastGame1WinHome', 'lastGame1AtHomeHome', 'lastGame2WinHome', 'lastGame2AtHomeHome', 'lastGame3WinHome', 'lastGame3AtHomeHome', 'lastGame4WinHome', 'lastGame4AtHomeHome', 'lastGame5WinHome', 'lastGame5AtHomeHome'])\n",
    "\n",
    "    # Iterate through each game where the teams have played at least 5 games.\n",
    "    for index, game in games.iterrows():\n",
    "\n",
    "        # Get the last five games for the team.\n",
    "        last5games = games[(games['gamesPlayedHome'] < game.gamesPlayedHome) & ((games['teamAwayCode'] == game.teamHomeCode) | (games['teamHomeCode'] == game.teamHomeCode))].sort_values(by='gamesPlayedHome', ascending=False).head(5)\n",
    "\n",
    "        if len(last5games) == 5:\n",
    "            lastGame1WinHome = last5games[\"scoreAway\"].iloc[0] < last5games[\"scoreHome\"].iloc[0]\n",
    "            lastGame2WinHome = last5games[\"scoreAway\"].iloc[1] < last5games[\"scoreHome\"].iloc[1]\n",
    "            lastGame3WinHome = last5games[\"scoreAway\"].iloc[2] < last5games[\"scoreHome\"].iloc[2]\n",
    "            lastGame4WinHome = last5games[\"scoreAway\"].iloc[3] < last5games[\"scoreHome\"].iloc[3]\n",
    "            lastGame5WinHome = last5games[\"scoreAway\"].iloc[4] < last5games[\"scoreHome\"].iloc[4]\n",
    "            #print(lastGame1WinHome, lastGame2WinHome, lastGame3WinHome, lastGame4WinHome, lastGame5WinHome)\n",
    "\n",
    "            lastGame1AtHomeHome = last5games[\"teamHomeCode\"].iloc[0] == game.teamHomeCode\n",
    "            lastGame2AtHomeHome = last5games[\"teamHomeCode\"].iloc[1] == game.teamHomeCode\n",
    "            lastGame3AtHomeHome = last5games[\"teamHomeCode\"].iloc[2] == game.teamHomeCode\n",
    "            lastGame4AtHomeHome = last5games[\"teamHomeCode\"].iloc[3] == game.teamHomeCode\n",
    "            lastGame5AtHomeHome = last5games[\"teamHomeCode\"].iloc[4] == game.teamHomeCode\n",
    "            #print(lastGame1AtHomeHome, lastGame2AtHomeHome, lastGame3AtHomeHome, lastGame4AtHomeHome, lastGame5AtHomeHome)\n",
    "\n",
    "            # Update the row with the history\n",
    "            data.loc[index] = [lastGame1WinHome, lastGame1AtHomeHome, lastGame2WinHome, lastGame2AtHomeHome, lastGame3WinHome, lastGame3AtHomeHome, lastGame4WinHome, lastGame4AtHomeHome, lastGame5WinHome, lastGame5AtHomeHome]\n",
    "\n",
    "    # Convert types \n",
    "    data['lastGame1WinHome'] = data['lastGame1WinHome'].astype('bool')\n",
    "    data['lastGame2WinHome'] = data['lastGame2WinHome'].astype('bool')\n",
    "    data['lastGame3WinHome'] = data['lastGame3WinHome'].astype('bool')\n",
    "    data['lastGame4WinHome'] = data['lastGame4WinHome'].astype('bool')\n",
    "    data['lastGame5WinHome'] = data['lastGame5WinHome'].astype('bool')\n",
    "    data['lastGame1AtHomeHome'] = data['lastGame1AtHomeHome'].astype('bool')\n",
    "    data['lastGame2AtHomeHome'] = data['lastGame2AtHomeHome'].astype('bool')\n",
    "    data['lastGame3AtHomeHome'] = data['lastGame3AtHomeHome'].astype('bool')\n",
    "    data['lastGame4AtHomeHome'] = data['lastGame4AtHomeHome'].astype('bool')\n",
    "    data['lastGame5AtHomeHome'] = data['lastGame5AtHomeHome'].astype('bool')\n",
    "\n",
    "    # Add results to the dataset\n",
    "    games = pd.merge(games, data, left_index=True, right_index=True)\n",
    "    \n",
    "    games[['teamHomeCode', 'teamAwayCode', 'lastGame1WinHome', 'lastGame1AtHomeHome', 'lastGame2WinHome', 'lastGame2AtHomeHome', 'lastGame3WinHome', 'lastGame3AtHomeHome', 'lastGame4WinHome', 'lastGame4AtHomeHome', 'lastGame5WinHome', 'lastGame5AtHomeHome']].sample(5)"
   ]
  },
  {
   "cell_type": "code",
   "execution_count": 14,
   "metadata": {},
   "outputs": [],
   "source": [
    "if calc_last_5_games == True:\n",
    "    \n",
    "    # Create a dataframe for the results - same size as dataset\n",
    "    data = pd.DataFrame(index=range(0,len(games)), columns=['lastGame1WinAway', 'lastGame1AtHomeAway', 'lastGame2WinAway', 'lastGame2AtHomeAway', 'lastGame3WinAway', 'lastGame3AtHomeAway', 'lastGame4WinAway', 'lastGame4AtHomeAway', 'lastGame5WinAway', 'lastGame5AtHomeAway'])\n",
    "\n",
    "    # Iterate through each game where the teams have played at least 5 games.\n",
    "    for index, game in games.iterrows():\n",
    "\n",
    "        # Get the last five games for the team.\n",
    "        last5games = games[(games['gamesPlayedAway'] < game.gamesPlayedAway) & ((games['teamAwayCode'] == game.teamAwayCode) | (games['teamHomeCode'] == game.teamAwayCode))].sort_values(by='gamesPlayedAway', ascending=False).head(5)\n",
    "\n",
    "        if len(last5games) == 5:\n",
    "            lastGame1WinAway = last5games[\"scoreAway\"].iloc[0] < last5games[\"scoreHome\"].iloc[0]\n",
    "            lastGame2WinAway = last5games[\"scoreAway\"].iloc[1] < last5games[\"scoreHome\"].iloc[1]\n",
    "            lastGame3WinAway = last5games[\"scoreAway\"].iloc[2] < last5games[\"scoreHome\"].iloc[2]\n",
    "            lastGame4WinAway = last5games[\"scoreAway\"].iloc[3] < last5games[\"scoreHome\"].iloc[3]\n",
    "            lastGame5WinAway = last5games[\"scoreAway\"].iloc[4] < last5games[\"scoreHome\"].iloc[4]\n",
    "            #print(lastGame1WinAway, lastGame2WinAway, lastGame3WinAway, lastGame4WinAway, lastGame5WinAway)\n",
    "\n",
    "            lastGame1AtHomeAway = last5games[\"teamAwayCode\"].iloc[0] == game.teamAwayCode\n",
    "            lastGame2AtHomeAway = last5games[\"teamAwayCode\"].iloc[1] == game.teamAwayCode\n",
    "            lastGame3AtHomeAway = last5games[\"teamAwayCode\"].iloc[2] == game.teamAwayCode\n",
    "            lastGame4AtHomeAway = last5games[\"teamAwayCode\"].iloc[3] == game.teamAwayCode\n",
    "            lastGame5AtHomeAway = last5games[\"teamAwayCode\"].iloc[4] == game.teamAwayCode\n",
    "            #print(lastGame1AtHomeAway, lastGame2AtHomeAway, lastGame3AtHomeAway, lastGame4AtHomeAway, lastGame5AtHomeAway)\n",
    "\n",
    "            # Update the row with the history\n",
    "            data.loc[index] = [lastGame1WinAway, lastGame1AtHomeAway, lastGame2WinAway, lastGame2AtHomeAway, lastGame3WinAway, lastGame3AtHomeAway, lastGame4WinAway, lastGame4AtHomeAway, lastGame5WinAway, lastGame5AtHomeAway]\n",
    "\n",
    "    # Convert types         \n",
    "    data['lastGame1WinAway'] = data['lastGame1WinAway'].astype('bool')\n",
    "    data['lastGame2WinAway'] = data['lastGame2WinAway'].astype('bool')\n",
    "    data['lastGame3WinAway'] = data['lastGame3WinAway'].astype('bool')\n",
    "    data['lastGame4WinAway'] = data['lastGame4WinAway'].astype('bool')\n",
    "    data['lastGame5WinAway'] = data['lastGame5WinAway'].astype('bool')\n",
    "    data['lastGame1AtHomeAway'] = data['lastGame1AtHomeAway'].astype('bool')\n",
    "    data['lastGame2AtHomeAway'] = data['lastGame2AtHomeAway'].astype('bool')\n",
    "    data['lastGame3AtHomeAway'] = data['lastGame3AtHomeAway'].astype('bool')\n",
    "    data['lastGame4AtHomeAway'] = data['lastGame4AtHomeAway'].astype('bool')\n",
    "    data['lastGame5AtHomeAway'] = data['lastGame5AtHomeAway'].astype('bool')\n",
    "\n",
    "    # Add results to the dataset\n",
    "    games = pd.merge(games, data, left_index=True, right_index=True)\n",
    "    \n",
    "    games[['teamHomeCode', 'teamAwayCode', 'lastGame1WinHome', 'lastGame1AtHomeHome', 'lastGame2WinHome', 'lastGame2AtHomeHome', 'lastGame3WinHome', 'lastGame3AtHomeHome', 'lastGame4WinHome', 'lastGame4AtHomeHome', 'lastGame5WinHome', 'lastGame5AtHomeHome']].sample(5)"
   ]
  },
  {
   "cell_type": "code",
   "execution_count": 15,
   "metadata": {},
   "outputs": [
    {
     "data": {
      "text/plain": [
       "337.6783477035342"
      ]
     },
     "execution_count": 15,
     "metadata": {},
     "output_type": "execute_result"
    }
   ],
   "source": [
    "# test entry for stadium distance calc\n",
    "\n",
    "coords_1 = (37.750267, -122.202853)\n",
    "coords_2 = (34.04303865743706, -118.26711416244507)\n",
    "\n",
    "geopy.distance.vincenty(coords_1, coords_2).miles"
   ]
  },
  {
   "cell_type": "code",
   "execution_count": 16,
   "metadata": {},
   "outputs": [],
   "source": [
    "games[\"time\"] = pd.to_datetime(games[\"time\"])"
   ]
  },
  {
   "cell_type": "code",
   "execution_count": 17,
   "metadata": {},
   "outputs": [],
   "source": [
    "if use_team_hot_encoding == True:\n",
    "    homeTeam = pd.get_dummies(games[\"teamHomeCode\"], prefix='team')\n",
    "    awayTeam = pd.get_dummies(games[\"teamAwayCode\"], prefix='team')\n",
    "\n",
    "    homeTeam = homeTeam.replace({0:np.nan})\n",
    "    awayTeam = awayTeam.replace({0:np.nan})\n",
    "\n",
    "    teams = homeTeam.fillna(awayTeam).fillna(0).astype('bool')\n",
    "    # teams[['team_NYK', 'team_CLE', 'team_ATL', 'team_BOS']].head(2)\n",
    "    \n",
    "    games = pd.concat([games, teams], axis=1)\n",
    "    \n",
    "    games[['teamHomeCode', 'teamAwayCode', 'team_NYK', 'team_CLE']].head(2)"
   ]
  },
  {
   "cell_type": "code",
   "execution_count": 18,
   "metadata": {},
   "outputs": [],
   "source": [
    "if use_team_home_away_hot_encoding == True:\n",
    "    homeTeam = pd.get_dummies(games[\"teamHomeCode\"], prefix='hometeam').astype('bool')\n",
    "    awayTeam = pd.get_dummies(games[\"teamAwayCode\"], prefix='awayteam').astype('bool')\n",
    "\n",
    "    games = pd.concat([games, homeTeam, awayTeam], axis=1)\n",
    "    \n",
    "    games[['teamHomeCode', 'teamAwayCode', 'hometeam_NYK', 'hometeam_CLE', 'awayteam_NYK', 'awayteam_CLE']].head(2)"
   ]
  },
  {
   "cell_type": "code",
   "execution_count": 19,
   "metadata": {},
   "outputs": [],
   "source": [
    "if (use_team_hot_encoding == True) | (use_team_home_away_hot_encoding == True) | (use_team_keys == False):\n",
    "    games = games.drop([\"teamAwayId\", \"teamHomeId\"], axis=1)"
   ]
  },
  {
   "cell_type": "code",
   "execution_count": 20,
   "metadata": {},
   "outputs": [],
   "source": [
    "games = games.drop([\"teamAwayCode\", \"teamHomeCode\"], axis=1)"
   ]
  },
  {
   "cell_type": "code",
   "execution_count": 21,
   "metadata": {},
   "outputs": [],
   "source": [
    "games = games.drop([\"location\", \"scoreQuarters\", \"time\"], axis=1)"
   ]
  },
  {
   "cell_type": "code",
   "execution_count": 22,
   "metadata": {},
   "outputs": [],
   "source": [
    "games[\"homeWin\"] = games[\"scoreHome\"] > games[\"scoreAway\"]"
   ]
  },
  {
   "cell_type": "code",
   "execution_count": 23,
   "metadata": {},
   "outputs": [],
   "source": [
    "games = games.drop([\"scoreAway\", \"scoreHome\"], axis=1)"
   ]
  },
  {
   "cell_type": "code",
   "execution_count": 24,
   "metadata": {},
   "outputs": [],
   "source": [
    "\n",
    "\n",
    "# Remove any games that have less than a 5 game history.\n",
    "if calc_last_5_games == True:\n",
    "    games = games[(pd.notnull(games['lastGame1WinHome'])) & (pd.notnull(games['lastGame1AtHomeAway']))]\n",
    "\n"
   ]
  },
  {
   "cell_type": "code",
   "execution_count": 25,
   "metadata": {},
   "outputs": [
    {
     "data": {
      "text/html": [
       "<div>\n",
       "<style scoped>\n",
       "    .dataframe tbody tr th:only-of-type {\n",
       "        vertical-align: middle;\n",
       "    }\n",
       "\n",
       "    .dataframe tbody tr th {\n",
       "        vertical-align: top;\n",
       "    }\n",
       "\n",
       "    .dataframe thead th {\n",
       "        text-align: right;\n",
       "    }\n",
       "</style>\n",
       "<table border=\"1\" class=\"dataframe\">\n",
       "  <thead>\n",
       "    <tr style=\"text-align: right;\">\n",
       "      <th></th>\n",
       "      <th>id</th>\n",
       "      <th>oddsBet365Away</th>\n",
       "      <th>oddsBet365Home</th>\n",
       "      <th>season</th>\n",
       "      <th>gamesPlayedHome</th>\n",
       "      <th>gamesPlayedAway</th>\n",
       "      <th>totalGamesHome</th>\n",
       "      <th>totalWinsHome</th>\n",
       "      <th>homeGamesHome</th>\n",
       "      <th>homeWinsHome</th>\n",
       "      <th>...</th>\n",
       "      <th>lastGame1AtHomeAway</th>\n",
       "      <th>lastGame2WinAway</th>\n",
       "      <th>lastGame2AtHomeAway</th>\n",
       "      <th>lastGame3WinAway</th>\n",
       "      <th>lastGame3AtHomeAway</th>\n",
       "      <th>lastGame4WinAway</th>\n",
       "      <th>lastGame4AtHomeAway</th>\n",
       "      <th>lastGame5WinAway</th>\n",
       "      <th>lastGame5AtHomeAway</th>\n",
       "      <th>homeWin</th>\n",
       "    </tr>\n",
       "  </thead>\n",
       "  <tbody>\n",
       "  </tbody>\n",
       "</table>\n",
       "<p>0 rows × 45 columns</p>\n",
       "</div>"
      ],
      "text/plain": [
       "Empty DataFrame\n",
       "Columns: [id, oddsBet365Away, oddsBet365Home, season, gamesPlayedHome, gamesPlayedAway, totalGamesHome, totalWinsHome, homeGamesHome, homeWinsHome, awayGamesHome, awayWinsHome, percentageTotalWinHome, percentageHomeWinHome, percentageAwayWinHome, totalGamesAway, totalWinsAway, homeGamesAway, homeWinsAway, awayGamesAway, awayWinsAway, percentageTotalWinAway, percentageHomeWinAway, percentageAwayWinAway, lastGame1WinHome, lastGame1AtHomeHome, lastGame2WinHome, lastGame2AtHomeHome, lastGame3WinHome, lastGame3AtHomeHome, lastGame4WinHome, lastGame4AtHomeHome, lastGame5WinHome, lastGame5AtHomeHome, lastGame1WinAway, lastGame1AtHomeAway, lastGame2WinAway, lastGame2AtHomeAway, lastGame3WinAway, lastGame3AtHomeAway, lastGame4WinAway, lastGame4AtHomeAway, lastGame5WinAway, lastGame5AtHomeAway, homeWin]\n",
       "Index: []\n",
       "\n",
       "[0 rows x 45 columns]"
      ]
     },
     "execution_count": 25,
     "metadata": {},
     "output_type": "execute_result"
    }
   ],
   "source": [
    "games[games.isnull().T.any().T]"
   ]
  },
  {
   "cell_type": "code",
   "execution_count": 26,
   "metadata": {},
   "outputs": [],
   "source": [
    "#msk = np.random.rand(len(games)) < 0.8\n",
    "#msk\n",
    "\n",
    "train = games\n",
    "#test = games[~msk]\n",
    "\n",
    "Y_train = train[\"homeWin\"]\n",
    "X_train = train.drop([\"id\",\"homeWin\"], axis=1)\n",
    " \n"
   ]
  },
  {
   "cell_type": "code",
   "execution_count": 27,
   "metadata": {},
   "outputs": [],
   "source": [
    "X=np.array(X_train)\n",
    "y=np.array(Y_train)"
   ]
  },
  {
   "cell_type": "code",
   "execution_count": 28,
   "metadata": {},
   "outputs": [
    {
     "data": {
      "text/plain": [
       "Index([        u'oddsBet365Away',         u'oddsBet365Home',\n",
       "                       u'season',        u'gamesPlayedHome',\n",
       "              u'gamesPlayedAway',         u'totalGamesHome',\n",
       "                u'totalWinsHome',          u'homeGamesHome',\n",
       "                 u'homeWinsHome',          u'awayGamesHome',\n",
       "                 u'awayWinsHome', u'percentageTotalWinHome',\n",
       "        u'percentageHomeWinHome',  u'percentageAwayWinHome',\n",
       "               u'totalGamesAway',          u'totalWinsAway',\n",
       "                u'homeGamesAway',           u'homeWinsAway',\n",
       "                u'awayGamesAway',           u'awayWinsAway',\n",
       "       u'percentageTotalWinAway',  u'percentageHomeWinAway',\n",
       "        u'percentageAwayWinAway',       u'lastGame1WinHome',\n",
       "          u'lastGame1AtHomeHome',       u'lastGame2WinHome',\n",
       "          u'lastGame2AtHomeHome',       u'lastGame3WinHome',\n",
       "          u'lastGame3AtHomeHome',       u'lastGame4WinHome',\n",
       "          u'lastGame4AtHomeHome',       u'lastGame5WinHome',\n",
       "          u'lastGame5AtHomeHome',       u'lastGame1WinAway',\n",
       "          u'lastGame1AtHomeAway',       u'lastGame2WinAway',\n",
       "          u'lastGame2AtHomeAway',       u'lastGame3WinAway',\n",
       "          u'lastGame3AtHomeAway',       u'lastGame4WinAway',\n",
       "          u'lastGame4AtHomeAway',       u'lastGame5WinAway',\n",
       "          u'lastGame5AtHomeAway'],\n",
       "      dtype='object')"
      ]
     },
     "execution_count": 28,
     "metadata": {},
     "output_type": "execute_result"
    }
   ],
   "source": [
    "X_train.columns"
   ]
  },
  {
   "cell_type": "code",
   "execution_count": null,
   "metadata": {},
   "outputs": [],
   "source": [
    " "
   ]
  },
  {
   "cell_type": "code",
   "execution_count": 29,
   "metadata": {},
   "outputs": [],
   "source": [
    " \n",
    "import xgboost  as xgb"
   ]
  },
  {
   "cell_type": "code",
   "execution_count": 30,
   "metadata": {},
   "outputs": [
    {
     "data": {
      "text/plain": [
       "XGBClassifier(base_score=0.5, booster='gbtree', colsample_bylevel=1,\n",
       "       colsample_bytree=1, gamma=0, learning_rate=0.1, max_delta_step=0,\n",
       "       max_depth=3, min_child_weight=1, missing=None, n_estimators=100,\n",
       "       n_jobs=1, nthread=None, objective='binary:logistic', random_state=0,\n",
       "       reg_alpha=0, reg_lambda=1, scale_pos_weight=1, seed=None,\n",
       "       silent=True, subsample=1)"
      ]
     },
     "execution_count": 30,
     "metadata": {},
     "output_type": "execute_result"
    }
   ],
   "source": [
    "xgb.XGBClassifier()"
   ]
  },
  {
   "cell_type": "code",
   "execution_count": 31,
   "metadata": {},
   "outputs": [],
   "source": [
    "model=xgb.XGBClassifier(n_estimators=250)"
   ]
  },
  {
   "cell_type": "code",
   "execution_count": 32,
   "metadata": {},
   "outputs": [
    {
     "data": {
      "text/plain": [
       "XGBClassifier(base_score=0.5, booster='gbtree', colsample_bylevel=1,\n",
       "       colsample_bytree=1, gamma=0, learning_rate=0.1, max_delta_step=0,\n",
       "       max_depth=3, min_child_weight=1, missing=None, n_estimators=250,\n",
       "       n_jobs=1, nthread=None, objective='binary:logistic', random_state=0,\n",
       "       reg_alpha=0, reg_lambda=1, scale_pos_weight=1, seed=None,\n",
       "       silent=True, subsample=1)"
      ]
     },
     "execution_count": 32,
     "metadata": {},
     "output_type": "execute_result"
    }
   ],
   "source": [
    "model.fit(np.array(X),y)\n"
   ]
  },
  {
   "cell_type": "code",
   "execution_count": 33,
   "metadata": {},
   "outputs": [],
   "source": [
    "import  matplotlib\n",
    "from matplotlib  import pyplot as plt\n"
   ]
  },
  {
   "cell_type": "code",
   "execution_count": 34,
   "metadata": {},
   "outputs": [
    {
     "data": {
      "image/png": "[encoded data removed]",
      "text/plain": [
       "<matplotlib.figure.Figure at 0x7f027613cf10>"
      ]
     },
     "metadata": {},
     "output_type": "display_data"
    }
   ],
   "source": [
    "fig, ax = plt.subplots(figsize=(12,12))\n",
    "xgb.plot_importance(model, max_num_features=50, height=0.8, ax=ax)\n",
    "plt.show()\n"
   ]
  },
  {
   "cell_type": "code",
   "execution_count": 35,
   "metadata": {},
   "outputs": [],
   "source": [
    " ##########################################Checking accuracy  on  5 cross   validations###############################"
   ]
  },
  {
   "cell_type": "code",
   "execution_count": 36,
   "metadata": {},
   "outputs": [],
   "source": [
    "from sklearn.metrics import accuracy_score"
   ]
  },
  {
   "cell_type": "code",
   "execution_count": 37,
   "metadata": {},
   "outputs": [],
   "source": [
    "from sklearn.model_selection import train_test_split"
   ]
  },
  {
   "cell_type": "code",
   "execution_count": null,
   "metadata": {},
   "outputs": [],
   "source": [
    " "
   ]
  },
  {
   "cell_type": "code",
   "execution_count": 38,
   "metadata": {},
   "outputs": [
    {
     "name": "stdout",
     "output_type": "stream",
     "text": [
      "0.637931034483\n",
      "0.591133004926\n",
      "0.603448275862\n",
      "0.610837438424\n",
      "0.620689655172\n"
     ]
    }
   ],
   "source": [
    "for cross  in range(5):\n",
    "    X_train, X_test, y_train, y_test = train_test_split(X, y, test_size=0.33, random_state=cross)\n",
    "    model=xgb.XGBClassifier(n_estimators=250)\n",
    "    model.fit(X_train,y_train)\n",
    "    pred=model.predict(X_test)\n",
    "    print(accuracy_score(y_test,pred))\n",
    "    \n",
    "     \n",
    "    "
   ]
  },
  {
   "cell_type": "code",
   "execution_count": 39,
   "metadata": {},
   "outputs": [
    {
     "data": {
      "text/plain": [
       "(array([False,  True], dtype=bool), array([138, 268]))"
      ]
     },
     "execution_count": 39,
     "metadata": {},
     "output_type": "execute_result"
    }
   ],
   "source": [
    "np.unique(pred,return_counts=True)"
   ]
  },
  {
   "cell_type": "code",
   "execution_count": 40,
   "metadata": {},
   "outputs": [
    {
     "name": "stdout",
     "output_type": "stream",
     "text": [
      "0.630541871921\n",
      "0.637931034483\n",
      "0.625615763547\n",
      "0.642857142857\n",
      "0.620689655172\n"
     ]
    }
   ],
   "source": [
    "from sklearn.ensemble import  RandomForestClassifier\n",
    "for cross  in range(5):\n",
    "    X_train, X_test, y_train, y_test = train_test_split(X, y, test_size=0.33, random_state=cross)\n",
    "    model=RandomForestClassifier(n_estimators=100)\n",
    "    model.fit(X_train,y_train)\n",
    "    pred=model.predict(X_test)\n",
    "    print(accuracy_score(y_test,pred))\n",
    "    \n",
    "     \n",
    "    "
   ]
  },
  {
   "cell_type": "code",
   "execution_count": 41,
   "metadata": {},
   "outputs": [
    {
     "name": "stdout",
     "output_type": "stream",
     "text": [
      "Feature ranking:\n",
      "1. feature 1 (0.100927)\n",
      "2. feature 0 (0.100743)\n",
      "3. feature 6 (0.049747)\n",
      "4. feature 15 (0.047182)\n",
      "5. feature 4 (0.042666)\n",
      "6. feature 3 (0.042642)\n",
      "7. feature 17 (0.042406)\n",
      "8. feature 19 (0.042213)\n",
      "9. feature 5 (0.041583)\n",
      "10. feature 8 (0.040685)\n",
      "11. feature 14 (0.039222)\n",
      "12. feature 9 (0.039112)\n",
      "13. feature 18 (0.038256)\n",
      "14. feature 7 (0.037082)\n",
      "15. feature 10 (0.036494)\n",
      "16. feature 16 (0.034427)\n",
      "17. feature 31 (0.012093)\n",
      "18. feature 35 (0.011928)\n",
      "19. feature 28 (0.011654)\n",
      "20. feature 29 (0.011549)\n",
      "21. feature 26 (0.011526)\n",
      "22. feature 41 (0.011374)\n",
      "23. feature 34 (0.011248)\n",
      "24. feature 36 (0.011054)\n",
      "25. feature 38 (0.010725)\n",
      "26. feature 37 (0.010648)\n",
      "27. feature 23 (0.010524)\n",
      "28. feature 30 (0.010375)\n",
      "29. feature 40 (0.010255)\n",
      "30. feature 32 (0.010174)\n",
      "31. feature 24 (0.010093)\n",
      "32. feature 33 (0.009898)\n",
      "33. feature 27 (0.009608)\n",
      "34. feature 42 (0.009447)\n",
      "35. feature 39 (0.009060)\n",
      "36. feature 25 (0.008904)\n",
      "37. feature 22 (0.003381)\n",
      "38. feature 21 (0.003168)\n",
      "39. feature 12 (0.002072)\n",
      "40. feature 13 (0.001422)\n",
      "41. feature 11 (0.001220)\n",
      "42. feature 20 (0.001215)\n",
      "43. feature 2 (0.000000)\n"
     ]
    },
    {
     "data": {
      "image/png": "[encoded data removed]",
      "text/plain": [
       "<matplotlib.figure.Figure at 0x7f0275d0f990>"
      ]
     },
     "metadata": {},
     "output_type": "display_data"
    }
   ],
   "source": [
    "forest=model\n",
    "importances = forest.feature_importances_\n",
    "std = np.std([tree.feature_importances_ for tree in forest.estimators_],\n",
    "             axis=0)\n",
    "indices = np.argsort(importances)[::-1]\n",
    "\n",
    "# Print the feature ranking\n",
    "print(\"Feature ranking:\")\n",
    "\n",
    "for f in range(X.shape[1]):\n",
    "    print(\"%d. feature %d (%f)\" % (f + 1, indices[f], importances[indices[f]]))\n",
    "\n",
    "# Plot the feature importances of the forest\n",
    "plt.figure()\n",
    "plt.title(\"Feature importances\")\n",
    "plt.bar(range(X.shape[1]), importances[indices],\n",
    "       color=\"r\", yerr=std[indices], align=\"center\")\n",
    "plt.xticks(range(X.shape[1]), indices)\n",
    "plt.xlim([-1, X.shape[1]])\n",
    "plt.show()"
   ]
  },
  {
   "cell_type": "code",
   "execution_count": 52,
   "metadata": {},
   "outputs": [],
   "source": [
    "import numpy as np\n",
    "import GPy\n",
    "import GPyOpt\n",
    "from xgboost import XGBClassifier\n",
    "from sklearn.cross_validation import cross_val_score\n",
    "y=y.astype(int)"
   ]
  },
  {
   "cell_type": "code",
   "execution_count": 53,
   "metadata": {},
   "outputs": [
    {
     "data": {
      "text/plain": [
       "-0.60410502386393772"
      ]
     },
     "execution_count": 53,
     "metadata": {},
     "output_type": "execute_result"
    }
   ],
   "source": [
    "\n",
    "def f(parameters):\n",
    "    parameters = parameters[0]\n",
    "    score = -cross_val_score(\n",
    "                XGBClassifier(learning_rate=parameters[0],\n",
    "                              max_depth=int(parameters[2]),\n",
    "                              n_estimators=int(parameters[3]),\n",
    "                              gamma=int(parameters[1]),\n",
    "                              min_child_weight = parameters[4]), \n",
    "                X, y, scoring='accuracy').mean()\n",
    "    score = np.array(score)\n",
    "    return score\n",
    "baseline = -cross_val_score(XGBClassifier(), X, y, scoring='accuracy').mean()\n",
    "baseline"
   ]
  },
  {
   "cell_type": "code",
   "execution_count": 58,
   "metadata": {},
   "outputs": [],
   "source": [
    "bounds = [\n",
    "            {'name': 'learning_rate', 'type': 'continuous', 'domain': (1e-5, 1)},\n",
    "            {'name': 'gamma', 'type': 'continuous', 'domain': (1e-5, 5)},\n",
    "            {'name': 'max_depth', 'type': 'discrete', 'domain': (1, 50)},\n",
    "            {'name': 'n_estimators', 'type': 'discrete', 'domain': (1, 1000)},\n",
    "            {'name': 'min_child_weight', 'type': 'discrete', 'domain': (1, 10)}\n",
    "         ]\n",
    "\n",
    "np.random.seed(777)\n",
    "optimizer = GPyOpt.methods.BayesianOptimization(f=f, domain=bounds,\n",
    "                                                acquisition_type ='MPI',\n",
    "                                                acquisition_par = 0.1,\n",
    "                                                exact_eval=True)\n",
    "max_iter = 50\n",
    "max_time = 60\n",
    "optimizer.run_optimization(max_iter, max_time)"
   ]
  },
  {
   "cell_type": "code",
   "execution_count": 59,
   "metadata": {},
   "outputs": [
    {
     "data": {
      "image/png": "[encoded data removed]",
      "text/plain": [
       "<matplotlib.figure.Figure at 0x7f0275d49a50>"
      ]
     },
     "metadata": {},
     "output_type": "display_data"
    }
   ],
   "source": [
    "\n",
    "optimizer.plot_convergence()"
   ]
  },
  {
   "cell_type": "code",
   "execution_count": 64,
   "metadata": {},
   "outputs": [
    {
     "data": {
      "text/plain": [
       "array([    0.33589572,     4.8989112 ,    50.        ,  1000.        ,\n",
       "          10.        ])"
      ]
     },
     "execution_count": 64,
     "metadata": {},
     "output_type": "execute_result"
    }
   ],
   "source": [
    "np.set_printoptions(suppress=True)\n",
    "optimizer.X[np.argmin(optimizer.Y)]"
   ]
  },
  {
   "cell_type": "code",
   "execution_count": 61,
   "metadata": {},
   "outputs": [
    {
     "data": {
      "text/plain": [
       "-0.6406668263673696"
      ]
     },
     "execution_count": 61,
     "metadata": {},
     "output_type": "execute_result"
    }
   ],
   "source": [
    "np.min(optimizer.Y)"
   ]
  },
  {
   "cell_type": "code",
   "execution_count": 65,
   "metadata": {},
   "outputs": [
    {
     "name": "stdout",
     "output_type": "stream",
     "text": [
      "0.645320197044\n",
      "0.613300492611\n",
      "0.642857142857\n",
      "0.662561576355\n",
      "0.628078817734\n"
     ]
    }
   ],
   "source": [
    "for cross  in range(5):\n",
    "    X_train, X_test, y_train, y_test = train_test_split(X, y, test_size=0.33, random_state=cross)\n",
    "    model=xgb.XGBClassifier(n_estimators=1000,learning_rate=0.33589572,gamma=4.8989112,\n",
    "                           max_depth= 50,min_child_weight=10)\n",
    "    model.fit(X_train,y_train)\n",
    "    pred=model.predict(X_test)\n",
    "    print(accuracy_score(y_test,pred))\n",
    "    \n",
    "     \n",
    "    "
   ]
  },
  {
   "cell_type": "code",
   "execution_count": 66,
   "metadata": {},
   "outputs": [
    {
     "data": {
      "image/png": "[encoded data removed]",
      "text/plain": [
       "<matplotlib.figure.Figure at 0x7f02785c5150>"
      ]
     },
     "metadata": {},
     "output_type": "display_data"
    }
   ],
   "source": [
    "fig, ax = plt.subplots(figsize=(12,12))\n",
    "xgb.plot_importance(model, max_num_features=50, height=0.8, ax=ax)\n",
    "plt.show()\n"
   ]
  },
  {
   "cell_type": "code",
   "execution_count": null,
   "metadata": {},
   "outputs": [],
   "source": []
  }
 ],
 "metadata": {
  "kernelspec": {
   "display_name": "Python 2",
   "language": "python",
   "name": "python2"
  },
  "language_info": {
   "codemirror_mode": {
    "name": "ipython",
    "version": 2
   },
   "file_extension": ".py",
   "mimetype": "text/x-python",
   "name": "python",
   "nbconvert_exporter": "python",
   "pygments_lexer": "ipython2",
   "version": "2.7.14"
  }
 },
 "nbformat": 4,
 "nbformat_minor": 2
}

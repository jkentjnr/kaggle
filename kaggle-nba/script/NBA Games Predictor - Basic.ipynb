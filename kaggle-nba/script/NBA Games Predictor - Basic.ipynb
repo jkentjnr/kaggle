{
 "cells": [
  {
   "cell_type": "markdown",
   "metadata": {},
   "source": [
    "# NBA Games Predictor - Basic\n",
    "\n",
    "This notebook takes all the regular season games from the NBA 2016-17 season.  Using a series of regression & supervised learning techniques, it attempts to accurately predict the outcome of basketball games."
   ]
  },
  {
   "cell_type": "code",
   "execution_count": 1,
   "metadata": {
    "collapsed": true
   },
   "outputs": [],
   "source": [
    "import json \n",
    "import pandas as pd\n",
    "import numpy as np \n",
    "import geopy.distance\n",
    "\n",
    "#package for flattening json in pandas df\n",
    "from pandas.io.json import json_normalize"
   ]
  },
  {
   "cell_type": "code",
   "execution_count": 2,
   "metadata": {
    "collapsed": true
   },
   "outputs": [],
   "source": [
    "# machine learning\n",
    "from sklearn.linear_model import LogisticRegression\n",
    "from sklearn.svm import SVC, LinearSVC\n",
    "from sklearn.ensemble import RandomForestClassifier\n",
    "from sklearn.neighbors import KNeighborsClassifier\n",
    "from sklearn.naive_bayes import GaussianNB\n",
    "from sklearn.linear_model import Perceptron\n",
    "from sklearn.linear_model import SGDClassifier\n",
    "from sklearn.tree import DecisionTreeClassifier"
   ]
  },
  {
   "cell_type": "markdown",
   "metadata": {},
   "source": [
    "## Configuration"
   ]
  },
  {
   "cell_type": "code",
   "execution_count": 3,
   "metadata": {
    "collapsed": true
   },
   "outputs": [],
   "source": [
    "calc_last_5_games = True\n",
    "calc_win_loss = True\n",
    "calc_win_loss_write_all = True\n",
    "use_team_keys = False\n",
    "use_team_hot_encoding = False\n",
    "use_team_home_away_hot_encoding = False"
   ]
  },
  {
   "cell_type": "markdown",
   "metadata": {},
   "source": [
    "## Load data from file system"
   ]
  },
  {
   "cell_type": "code",
   "execution_count": 4,
   "metadata": {
    "collapsed": true
   },
   "outputs": [],
   "source": [
    "#load games - json object\n",
    "with open('../input/games.json') as gamesJsonRaw:\n",
    "    d = json.load(gamesJsonRaw)\n",
    "\n",
    "games = json_normalize(d['games'])"
   ]
  },
  {
   "cell_type": "code",
   "execution_count": 5,
   "metadata": {},
   "outputs": [
    {
     "data": {
      "text/html": [
       "<div>\n",
       "<style>\n",
       "    .dataframe thead tr:only-child th {\n",
       "        text-align: right;\n",
       "    }\n",
       "\n",
       "    .dataframe thead th {\n",
       "        text-align: left;\n",
       "    }\n",
       "\n",
       "    .dataframe tbody tr th {\n",
       "        vertical-align: top;\n",
       "    }\n",
       "</style>\n",
       "<table border=\"1\" class=\"dataframe\">\n",
       "  <thead>\n",
       "    <tr style=\"text-align: right;\">\n",
       "      <th></th>\n",
       "      <th>id</th>\n",
       "      <th>location</th>\n",
       "      <th>oddsBet365Away</th>\n",
       "      <th>oddsBet365Home</th>\n",
       "      <th>scoreAway</th>\n",
       "      <th>scoreHome</th>\n",
       "      <th>scoreQuarters</th>\n",
       "      <th>season</th>\n",
       "      <th>teamAwayCode</th>\n",
       "      <th>teamAwayId</th>\n",
       "      <th>teamHomeCode</th>\n",
       "      <th>teamHomeId</th>\n",
       "      <th>time</th>\n",
       "    </tr>\n",
       "  </thead>\n",
       "  <tbody>\n",
       "    <tr>\n",
       "      <th>0</th>\n",
       "      <td>33941</td>\n",
       "      <td>Quicken Loans Arena</td>\n",
       "      <td>5.25</td>\n",
       "      <td>1.18</td>\n",
       "      <td>88</td>\n",
       "      <td>117</td>\n",
       "      <td>[{'number': 1, 'scoreHome': 28, 'scoreAway': 1...</td>\n",
       "      <td>2016</td>\n",
       "      <td>NYK</td>\n",
       "      <td>83</td>\n",
       "      <td>CLE</td>\n",
       "      <td>86</td>\n",
       "      <td>2016-10-25T19:30:00.000Z</td>\n",
       "    </tr>\n",
       "    <tr>\n",
       "      <th>1</th>\n",
       "      <td>33942</td>\n",
       "      <td>Moda Center</td>\n",
       "      <td>3.15</td>\n",
       "      <td>1.38</td>\n",
       "      <td>104</td>\n",
       "      <td>113</td>\n",
       "      <td>[{'number': 1, 'scoreHome': 26, 'scoreAway': 2...</td>\n",
       "      <td>2016</td>\n",
       "      <td>UTA</td>\n",
       "      <td>98</td>\n",
       "      <td>POR</td>\n",
       "      <td>97</td>\n",
       "      <td>2016-10-25T22:00:00.000Z</td>\n",
       "    </tr>\n",
       "    <tr>\n",
       "      <th>2</th>\n",
       "      <td>33943</td>\n",
       "      <td>Oracle Arena</td>\n",
       "      <td>4.25</td>\n",
       "      <td>1.23</td>\n",
       "      <td>129</td>\n",
       "      <td>100</td>\n",
       "      <td>[{'number': 1, 'scoreHome': 20, 'scoreAway': 3...</td>\n",
       "      <td>2016</td>\n",
       "      <td>SAS</td>\n",
       "      <td>106</td>\n",
       "      <td>GSW</td>\n",
       "      <td>101</td>\n",
       "      <td>2016-10-25T22:30:00.000Z</td>\n",
       "    </tr>\n",
       "    <tr>\n",
       "      <th>3</th>\n",
       "      <td>33944</td>\n",
       "      <td>Amway Center</td>\n",
       "      <td>2.60</td>\n",
       "      <td>1.55</td>\n",
       "      <td>108</td>\n",
       "      <td>96</td>\n",
       "      <td>[{'number': 1, 'scoreHome': 27, 'scoreAway': 2...</td>\n",
       "      <td>2016</td>\n",
       "      <td>MIA</td>\n",
       "      <td>92</td>\n",
       "      <td>ORL</td>\n",
       "      <td>95</td>\n",
       "      <td>2016-10-26T19:00:00.000Z</td>\n",
       "    </tr>\n",
       "    <tr>\n",
       "      <th>4</th>\n",
       "      <td>33945</td>\n",
       "      <td>Bankers Life Fieldhouse</td>\n",
       "      <td>3.20</td>\n",
       "      <td>1.37</td>\n",
       "      <td>121</td>\n",
       "      <td>130</td>\n",
       "      <td>[{'number': 1, 'scoreHome': 33, 'scoreAway': 2...</td>\n",
       "      <td>2016</td>\n",
       "      <td>DAL</td>\n",
       "      <td>108</td>\n",
       "      <td>IND</td>\n",
       "      <td>87</td>\n",
       "      <td>2016-10-26T19:00:00.000Z</td>\n",
       "    </tr>\n",
       "  </tbody>\n",
       "</table>\n",
       "</div>"
      ],
      "text/plain": [
       "      id                 location  oddsBet365Away  oddsBet365Home  scoreAway  \\\n",
       "0  33941      Quicken Loans Arena            5.25            1.18         88   \n",
       "1  33942              Moda Center            3.15            1.38        104   \n",
       "2  33943             Oracle Arena            4.25            1.23        129   \n",
       "3  33944             Amway Center            2.60            1.55        108   \n",
       "4  33945  Bankers Life Fieldhouse            3.20            1.37        121   \n",
       "\n",
       "   scoreHome                                      scoreQuarters  season  \\\n",
       "0        117  [{'number': 1, 'scoreHome': 28, 'scoreAway': 1...    2016   \n",
       "1        113  [{'number': 1, 'scoreHome': 26, 'scoreAway': 2...    2016   \n",
       "2        100  [{'number': 1, 'scoreHome': 20, 'scoreAway': 3...    2016   \n",
       "3         96  [{'number': 1, 'scoreHome': 27, 'scoreAway': 2...    2016   \n",
       "4        130  [{'number': 1, 'scoreHome': 33, 'scoreAway': 2...    2016   \n",
       "\n",
       "  teamAwayCode  teamAwayId teamHomeCode  teamHomeId                      time  \n",
       "0          NYK          83          CLE          86  2016-10-25T19:30:00.000Z  \n",
       "1          UTA          98          POR          97  2016-10-25T22:00:00.000Z  \n",
       "2          SAS         106          GSW         101  2016-10-25T22:30:00.000Z  \n",
       "3          MIA          92          ORL          95  2016-10-26T19:00:00.000Z  \n",
       "4          DAL         108          IND          87  2016-10-26T19:00:00.000Z  "
      ]
     },
     "execution_count": 5,
     "metadata": {},
     "output_type": "execute_result"
    }
   ],
   "source": [
    "games.head(5)"
   ]
  },
  {
   "cell_type": "code",
   "execution_count": 6,
   "metadata": {
    "collapsed": true
   },
   "outputs": [],
   "source": [
    "#load stadiums - json object\n",
    "with open('../input/stadiums.json') as stadiumsJsonRaw:\n",
    "    stadiumsJson = json.load(stadiumsJsonRaw)\n",
    "\n",
    "stadiums = json_normalize(stadiumsJson['stadiums'])"
   ]
  },
  {
   "cell_type": "code",
   "execution_count": 7,
   "metadata": {},
   "outputs": [
    {
     "data": {
      "text/html": [
       "<div>\n",
       "<style>\n",
       "    .dataframe thead tr:only-child th {\n",
       "        text-align: right;\n",
       "    }\n",
       "\n",
       "    .dataframe thead th {\n",
       "        text-align: left;\n",
       "    }\n",
       "\n",
       "    .dataframe tbody tr th {\n",
       "        vertical-align: top;\n",
       "    }\n",
       "</style>\n",
       "<table border=\"1\" class=\"dataframe\">\n",
       "  <thead>\n",
       "    <tr style=\"text-align: right;\">\n",
       "      <th></th>\n",
       "      <th>lat</th>\n",
       "      <th>lng</th>\n",
       "      <th>team</th>\n",
       "    </tr>\n",
       "  </thead>\n",
       "  <tbody>\n",
       "    <tr>\n",
       "      <th>0</th>\n",
       "      <td>33.757183</td>\n",
       "      <td>-84.396278</td>\n",
       "      <td>ATL</td>\n",
       "    </tr>\n",
       "    <tr>\n",
       "      <th>1</th>\n",
       "      <td>42.366281</td>\n",
       "      <td>-71.062266</td>\n",
       "      <td>BOS</td>\n",
       "    </tr>\n",
       "    <tr>\n",
       "      <th>2</th>\n",
       "      <td>40.682650</td>\n",
       "      <td>-73.974689</td>\n",
       "      <td>BRO</td>\n",
       "    </tr>\n",
       "    <tr>\n",
       "      <th>3</th>\n",
       "      <td>35.224519</td>\n",
       "      <td>-80.841053</td>\n",
       "      <td>CHA</td>\n",
       "    </tr>\n",
       "    <tr>\n",
       "      <th>4</th>\n",
       "      <td>41.880589</td>\n",
       "      <td>-87.674149</td>\n",
       "      <td>CHI</td>\n",
       "    </tr>\n",
       "  </tbody>\n",
       "</table>\n",
       "</div>"
      ],
      "text/plain": [
       "         lat        lng team\n",
       "0  33.757183 -84.396278  ATL\n",
       "1  42.366281 -71.062266  BOS\n",
       "2  40.682650 -73.974689  BRO\n",
       "3  35.224519 -80.841053  CHA\n",
       "4  41.880589 -87.674149  CHI"
      ]
     },
     "execution_count": 7,
     "metadata": {},
     "output_type": "execute_result"
    }
   ],
   "source": [
    "stadiums.head(5)"
   ]
  },
  {
   "cell_type": "markdown",
   "metadata": {},
   "source": [
    "   ## Data Preperation"
   ]
  },
  {
   "cell_type": "markdown",
   "metadata": {},
   "source": [
    "### Set Valid Data Types"
   ]
  },
  {
   "cell_type": "code",
   "execution_count": 8,
   "metadata": {
    "collapsed": true
   },
   "outputs": [],
   "source": [
    "#games['season'] = games['season'].astype('float')\n",
    "games['scoreAway'] = games['scoreAway'].astype('uint8')\n",
    "games['scoreHome'] = games['scoreHome'].astype('uint8')\n",
    "games['teamAwayId'] = games['teamAwayId'].astype('uint8')\n",
    "games['teamHomeId'] = games['teamHomeId'].astype('uint8')\n",
    "\n",
    "#scoreQuarters          object\n",
    "#teamAwayCode           object\n",
    "#teamHomeCode           object"
   ]
  },
  {
   "cell_type": "markdown",
   "metadata": {},
   "source": [
    "### Calculate the number of games played for season"
   ]
  },
  {
   "cell_type": "code",
   "execution_count": 9,
   "metadata": {
    "collapsed": true
   },
   "outputs": [],
   "source": [
    "# Create a dataframe for the results - same size as dataset\n",
    "data = pd.DataFrame(index=range(0,len(games)), columns=['gamesPlayedHome', 'gamesPlayedAway'])\n",
    "\n",
    "# Iterate through every team\n",
    "for team in games.teamAwayCode.unique():\n",
    "    gameCount = 0\n",
    "    homeGameCount = 0;\n",
    "    \n",
    "    # Iterate through each game the team is present in.\n",
    "    for index, game in games[(games['teamAwayCode'] == team) | (games['teamHomeCode'] == team)].iterrows():\n",
    "        gameCount += 1\n",
    "        \n",
    "        # Update game count for team - whether away or home.\n",
    "        if game.teamAwayCode == team:\n",
    "            data.loc[index]['gamesPlayedAway'] = gameCount\n",
    "        else:\n",
    "            data.loc[index]['gamesPlayedHome'] = gameCount\n",
    "\n",
    "data['gamesPlayedAway'] = data['gamesPlayedAway'].astype('uint8')\n",
    "data['gamesPlayedHome'] = data['gamesPlayedHome'].astype('uint8')\n",
    "            \n",
    "# Append the results to the dataset\n",
    "games = pd.merge(games, data, left_index=True, right_index=True)"
   ]
  },
  {
   "cell_type": "code",
   "execution_count": 10,
   "metadata": {},
   "outputs": [
    {
     "data": {
      "text/html": [
       "<div>\n",
       "<style>\n",
       "    .dataframe thead tr:only-child th {\n",
       "        text-align: right;\n",
       "    }\n",
       "\n",
       "    .dataframe thead th {\n",
       "        text-align: left;\n",
       "    }\n",
       "\n",
       "    .dataframe tbody tr th {\n",
       "        vertical-align: top;\n",
       "    }\n",
       "</style>\n",
       "<table border=\"1\" class=\"dataframe\">\n",
       "  <thead>\n",
       "    <tr style=\"text-align: right;\">\n",
       "      <th></th>\n",
       "      <th>teamHomeCode</th>\n",
       "      <th>teamAwayCode</th>\n",
       "      <th>gamesPlayedHome</th>\n",
       "      <th>gamesPlayedAway</th>\n",
       "    </tr>\n",
       "  </thead>\n",
       "  <tbody>\n",
       "    <tr>\n",
       "      <th>45</th>\n",
       "      <td>PHI</td>\n",
       "      <td>ORL</td>\n",
       "      <td>3</td>\n",
       "      <td>4</td>\n",
       "    </tr>\n",
       "    <tr>\n",
       "      <th>242</th>\n",
       "      <td>MIA</td>\n",
       "      <td>MEM</td>\n",
       "      <td>16</td>\n",
       "      <td>17</td>\n",
       "    </tr>\n",
       "    <tr>\n",
       "      <th>1066</th>\n",
       "      <td>POR</td>\n",
       "      <td>NYK</td>\n",
       "      <td>71</td>\n",
       "      <td>72</td>\n",
       "    </tr>\n",
       "    <tr>\n",
       "      <th>1067</th>\n",
       "      <td>WAS</td>\n",
       "      <td>BRO</td>\n",
       "      <td>72</td>\n",
       "      <td>72</td>\n",
       "    </tr>\n",
       "    <tr>\n",
       "      <th>1100</th>\n",
       "      <td>BRO</td>\n",
       "      <td>PHI</td>\n",
       "      <td>74</td>\n",
       "      <td>73</td>\n",
       "    </tr>\n",
       "  </tbody>\n",
       "</table>\n",
       "</div>"
      ],
      "text/plain": [
       "     teamHomeCode teamAwayCode  gamesPlayedHome  gamesPlayedAway\n",
       "45            PHI          ORL                3                4\n",
       "242           MIA          MEM               16               17\n",
       "1066          POR          NYK               71               72\n",
       "1067          WAS          BRO               72               72\n",
       "1100          BRO          PHI               74               73"
      ]
     },
     "execution_count": 10,
     "metadata": {},
     "output_type": "execute_result"
    }
   ],
   "source": [
    "games[['teamHomeCode', 'teamAwayCode', 'gamesPlayedHome', 'gamesPlayedAway']].sample(5)"
   ]
  },
  {
   "cell_type": "markdown",
   "metadata": {},
   "source": [
    "## Calculate the Win/Loss % for the Home team."
   ]
  },
  {
   "cell_type": "code",
   "execution_count": 11,
   "metadata": {
    "collapsed": true
   },
   "outputs": [],
   "source": [
    "def calc_percentage(x, y):\n",
    "    return 0 if y == 0 else x / y"
   ]
  },
  {
   "cell_type": "code",
   "execution_count": 12,
   "metadata": {},
   "outputs": [
    {
     "name": "stderr",
     "output_type": "stream",
     "text": [
      "/Users/jkentjnr/anaconda3/lib/python3.6/site-packages/ipykernel_launcher.py:23: UserWarning: Boolean Series key will be reindexed to match DataFrame index.\n",
      "/Users/jkentjnr/anaconda3/lib/python3.6/site-packages/ipykernel_launcher.py:26: UserWarning: Boolean Series key will be reindexed to match DataFrame index.\n",
      "/Users/jkentjnr/anaconda3/lib/python3.6/site-packages/ipykernel_launcher.py:52: UserWarning: Boolean Series key will be reindexed to match DataFrame index.\n",
      "/Users/jkentjnr/anaconda3/lib/python3.6/site-packages/ipykernel_launcher.py:55: UserWarning: Boolean Series key will be reindexed to match DataFrame index.\n"
     ]
    }
   ],
   "source": [
    "if calc_win_loss == True:\n",
    "    \n",
    "    # Create a dataframe for the results - same size as dataset\n",
    "    data = pd.DataFrame(\n",
    "        index=range(0,len(games)), \n",
    "        columns=[\n",
    "            'totalGamesHome', 'totalWinsHome', 'homeGamesHome', 'homeWinsHome', 'awayGamesHome', 'awayWinsHome',\n",
    "            'percentageTotalWinHome', 'percentageHomeWinHome', 'percentageAwayWinHome',\n",
    "            'totalGamesAway', 'totalWinsAway', 'homeGamesAway', 'homeWinsAway', 'awayGamesAway', 'awayWinsAway',\n",
    "            'percentageTotalWinAway', 'percentageHomeWinAway', 'percentageAwayWinAway'\n",
    "        ]\n",
    "    )\n",
    "\n",
    "    # Iterate through each game.\n",
    "    for index, game in games.iterrows():\n",
    "\n",
    "        # Home Team\n",
    "        # ---------\n",
    "        \n",
    "        historicGames = games[(games['gamesPlayedHome'] < game.gamesPlayedHome) & ((games['teamHomeCode'] == game.teamHomeCode) | (games['teamAwayCode'] == game.teamHomeCode))].sort_values(by='gamesPlayedHome', ascending=True)\n",
    "       \n",
    "        homeGamesHome = len(historicGames[(historicGames['teamHomeCode'] == game['teamHomeCode'])])        \n",
    "        homeWinsHome = len(historicGames[(historicGames['teamHomeCode'] == game['teamHomeCode']) & (games[\"scoreAway\"] < games[\"scoreHome\"])])\n",
    "        \n",
    "        awayGamesHome = len(historicGames[(historicGames['teamAwayCode'] == game['teamHomeCode'])])        \n",
    "        awayWinsHome = len(historicGames[(historicGames['teamAwayCode'] == game['teamHomeCode']) & (games[\"scoreAway\"] > games[\"scoreHome\"])])\n",
    "\n",
    "        #totalGames = len(historicGames);\n",
    "        #totalWins = len(\n",
    "        #    historicGames[\n",
    "        #        (historicGames['teamHomeCode'] == game['teamHomeCode']) & (games[\"scoreAway\"] < games[\"scoreHome\"]) |\n",
    "        #        (historicGames['teamAwayCode'] == game['teamHomeCode']) & (games[\"scoreAway\"] > games[\"scoreHome\"])\n",
    "        #    ]\n",
    "        #)\n",
    "        \n",
    "        totalGamesHome = homeGamesHome + awayGamesHome\n",
    "        totalWinsHome = homeWinsHome + awayWinsHome\n",
    "        \n",
    "        percentageTotalWinHome = round(calc_percentage(totalWinsHome, totalGamesHome), 3)\n",
    "        percentageHomeWinHome = round(calc_percentage(homeWinsHome, homeGamesHome), 3)\n",
    "        percentageAwayWinHome = round(calc_percentage(awayWinsHome, awayGamesHome), 3)\n",
    "        \n",
    "        # print('HOME', game['gamesPlayedHome'], 'TG', totalGamesHome, 'W', totalWinsHome, 'HGP', homeGamesHome, 'HW', homeWinsHome, 'AGP', awayGamesHome, 'AW', awayWinsHome)\n",
    "        # print('HOME', 'W%', percentageTotalWinHome, 'HW%', percentageHomeWinHome, 'AW%', percentageAwayWinHome)\n",
    "        \n",
    "        # Away Team\n",
    "        # ---------\n",
    "        \n",
    "        historicGames = games[(games['gamesPlayedAway'] < game.gamesPlayedAway) & ((games['teamAwayCode'] == game.teamAwayCode) | (games['teamHomeCode'] == game.teamAwayCode))].sort_values(by='gamesPlayedAway', ascending=True)\n",
    "       \n",
    "        homeGamesAway = len(historicGames[(historicGames['teamHomeCode'] == game['teamAwayCode'])])        \n",
    "        homeWinsAway = len(historicGames[(historicGames['teamHomeCode'] == game['teamAwayCode']) & (games[\"scoreAway\"] < games[\"scoreHome\"])])\n",
    "        \n",
    "        awayGamesAway = len(historicGames[(historicGames['teamAwayCode'] == game['teamAwayCode'])])        \n",
    "        awayWinsAway = len(historicGames[(historicGames['teamAwayCode'] == game['teamAwayCode']) & (games[\"scoreAway\"] > games[\"scoreHome\"])])\n",
    "\n",
    "        #totalGames = len(historicGames);\n",
    "        #totalWins = len(\n",
    "        #    historicGames[\n",
    "        #        (historicGames['teamHomeCode'] == game['teamHomeCode']) & (games[\"scoreAway\"] < games[\"scoreHome\"]) |\n",
    "        #        (historicGames['teamAwayCode'] == game['teamHomeCode']) & (games[\"scoreAway\"] > games[\"scoreHome\"])\n",
    "        #    ]\n",
    "        #)\n",
    "        \n",
    "        totalGamesAway = homeGamesAway + awayGamesAway\n",
    "        totalWinsAway = homeWinsAway + awayWinsAway\n",
    "        \n",
    "        percentageTotalWinAway = round(calc_percentage(totalWinsAway, totalGamesAway), 3)\n",
    "        percentageHomeWinAway = round(calc_percentage(homeWinsAway, homeGamesAway), 3)\n",
    "        percentageAwayWinAway = round(calc_percentage(awayWinsAway, awayGamesAway), 3)\n",
    "        \n",
    "        # print('AWAY', game['gamesPlayedAway'], 'TG', totalGamesAway, 'W', totalWinsAway, 'HGP', homeGamesAway, 'HW', homeWinsAway, 'AGP', awayGamesAway, 'AW', awayWinsAway)\n",
    "        # print('AWAY', 'W%', percentageTotalWinAway, 'HW%', percentageHomeWinAway, 'AW%', percentageAwayWinAway)\n",
    "        \n",
    "        # ---------    \n",
    "            \n",
    "        # Update the row with the history\n",
    "        data.loc[index] = [\n",
    "            totalGamesHome, totalWinsHome, homeGamesHome, homeWinsHome, awayGamesHome, awayWinsHome,\n",
    "            percentageTotalWinHome, percentageHomeWinHome, percentageAwayWinHome,\n",
    "            totalGamesAway, totalWinsAway, homeGamesAway, homeWinsAway, awayGamesAway, awayWinsAway,\n",
    "            percentageTotalWinAway, percentageHomeWinAway, percentageAwayWinAway\n",
    "        ]\n",
    "\n",
    "    # Add results to the dataset\n",
    "    if (calc_win_loss_write_all == True):\n",
    "        games = pd.merge(games, data, left_index=True, right_index=True)\n",
    "        games[['teamHomeCode', 'teamAwayCode', 'percentageTotalWinHome', 'percentageHomeWinHome', 'percentageAwayWinHome', 'percentageTotalWinAway', 'percentageHomeWinAway', 'percentageAwayWinAway']].sample(5)\n",
    "    else:\n",
    "        games = pd.merge(games, data[['percentageHomeWinHome', 'percentageAwayWinAway']], left_index=True, right_index=True)\n",
    "        games[['teamHomeCode', 'teamAwayCode', 'percentageHomeWinHome', 'percentageAwayWinAway']].sample(5)"
   ]
  },
  {
   "cell_type": "markdown",
   "metadata": {},
   "source": [
    "### Calculate the results for the last 5 games for the Home team."
   ]
  },
  {
   "cell_type": "code",
   "execution_count": 13,
   "metadata": {
    "collapsed": true
   },
   "outputs": [],
   "source": [
    "if calc_last_5_games == True:\n",
    "    \n",
    "    # Create a dataframe for the results - same size as dataset\n",
    "    data = pd.DataFrame(index=range(0,len(games)), columns=['lastGame1WinHome', 'lastGame1AtHomeHome', 'lastGame2WinHome', 'lastGame2AtHomeHome', 'lastGame3WinHome', 'lastGame3AtHomeHome', 'lastGame4WinHome', 'lastGame4AtHomeHome', 'lastGame5WinHome', 'lastGame5AtHomeHome'])\n",
    "\n",
    "    # Iterate through each game where the teams have played at least 5 games.\n",
    "    for index, game in games.iterrows():\n",
    "\n",
    "        # Get the last five games for the team.\n",
    "        last5games = games[(games['gamesPlayedHome'] < game.gamesPlayedHome) & ((games['teamAwayCode'] == game.teamHomeCode) | (games['teamHomeCode'] == game.teamHomeCode))].sort_values(by='gamesPlayedHome', ascending=False).head(5)\n",
    "\n",
    "        if len(last5games) == 5:\n",
    "            lastGame1WinHome = last5games[\"scoreAway\"].iloc[0] < last5games[\"scoreHome\"].iloc[0]\n",
    "            lastGame2WinHome = last5games[\"scoreAway\"].iloc[1] < last5games[\"scoreHome\"].iloc[1]\n",
    "            lastGame3WinHome = last5games[\"scoreAway\"].iloc[2] < last5games[\"scoreHome\"].iloc[2]\n",
    "            lastGame4WinHome = last5games[\"scoreAway\"].iloc[3] < last5games[\"scoreHome\"].iloc[3]\n",
    "            lastGame5WinHome = last5games[\"scoreAway\"].iloc[4] < last5games[\"scoreHome\"].iloc[4]\n",
    "            #print(lastGame1WinHome, lastGame2WinHome, lastGame3WinHome, lastGame4WinHome, lastGame5WinHome)\n",
    "\n",
    "            lastGame1AtHomeHome = last5games[\"teamHomeCode\"].iloc[0] == game.teamHomeCode\n",
    "            lastGame2AtHomeHome = last5games[\"teamHomeCode\"].iloc[1] == game.teamHomeCode\n",
    "            lastGame3AtHomeHome = last5games[\"teamHomeCode\"].iloc[2] == game.teamHomeCode\n",
    "            lastGame4AtHomeHome = last5games[\"teamHomeCode\"].iloc[3] == game.teamHomeCode\n",
    "            lastGame5AtHomeHome = last5games[\"teamHomeCode\"].iloc[4] == game.teamHomeCode\n",
    "            #print(lastGame1AtHomeHome, lastGame2AtHomeHome, lastGame3AtHomeHome, lastGame4AtHomeHome, lastGame5AtHomeHome)\n",
    "\n",
    "            # Update the row with the history\n",
    "            data.loc[index] = [lastGame1WinHome, lastGame1AtHomeHome, lastGame2WinHome, lastGame2AtHomeHome, lastGame3WinHome, lastGame3AtHomeHome, lastGame4WinHome, lastGame4AtHomeHome, lastGame5WinHome, lastGame5AtHomeHome]\n",
    "\n",
    "    # Convert types \n",
    "    data['lastGame1WinHome'] = data['lastGame1WinHome'].astype('bool')\n",
    "    data['lastGame2WinHome'] = data['lastGame2WinHome'].astype('bool')\n",
    "    data['lastGame3WinHome'] = data['lastGame3WinHome'].astype('bool')\n",
    "    data['lastGame4WinHome'] = data['lastGame4WinHome'].astype('bool')\n",
    "    data['lastGame5WinHome'] = data['lastGame5WinHome'].astype('bool')\n",
    "    data['lastGame1AtHomeHome'] = data['lastGame1AtHomeHome'].astype('bool')\n",
    "    data['lastGame2AtHomeHome'] = data['lastGame2AtHomeHome'].astype('bool')\n",
    "    data['lastGame3AtHomeHome'] = data['lastGame3AtHomeHome'].astype('bool')\n",
    "    data['lastGame4AtHomeHome'] = data['lastGame4AtHomeHome'].astype('bool')\n",
    "    data['lastGame5AtHomeHome'] = data['lastGame5AtHomeHome'].astype('bool')\n",
    "\n",
    "    # Add results to the dataset\n",
    "    games = pd.merge(games, data, left_index=True, right_index=True)\n",
    "    \n",
    "    games[['teamHomeCode', 'teamAwayCode', 'lastGame1WinHome', 'lastGame1AtHomeHome', 'lastGame2WinHome', 'lastGame2AtHomeHome', 'lastGame3WinHome', 'lastGame3AtHomeHome', 'lastGame4WinHome', 'lastGame4AtHomeHome', 'lastGame5WinHome', 'lastGame5AtHomeHome']].sample(5)"
   ]
  },
  {
   "cell_type": "markdown",
   "metadata": {},
   "source": [
    "### Calculate the results for the last 5 games for the Away team."
   ]
  },
  {
   "cell_type": "code",
   "execution_count": 14,
   "metadata": {
    "collapsed": true
   },
   "outputs": [],
   "source": [
    "if calc_last_5_games == True:\n",
    "    \n",
    "    # Create a dataframe for the results - same size as dataset\n",
    "    data = pd.DataFrame(index=range(0,len(games)), columns=['lastGame1WinAway', 'lastGame1AtHomeAway', 'lastGame2WinAway', 'lastGame2AtHomeAway', 'lastGame3WinAway', 'lastGame3AtHomeAway', 'lastGame4WinAway', 'lastGame4AtHomeAway', 'lastGame5WinAway', 'lastGame5AtHomeAway'])\n",
    "\n",
    "    # Iterate through each game where the teams have played at least 5 games.\n",
    "    for index, game in games.iterrows():\n",
    "\n",
    "        # Get the last five games for the team.\n",
    "        last5games = games[(games['gamesPlayedAway'] < game.gamesPlayedAway) & ((games['teamAwayCode'] == game.teamAwayCode) | (games['teamHomeCode'] == game.teamAwayCode))].sort_values(by='gamesPlayedAway', ascending=False).head(5)\n",
    "\n",
    "        if len(last5games) == 5:\n",
    "            lastGame1WinAway = last5games[\"scoreAway\"].iloc[0] < last5games[\"scoreHome\"].iloc[0]\n",
    "            lastGame2WinAway = last5games[\"scoreAway\"].iloc[1] < last5games[\"scoreHome\"].iloc[1]\n",
    "            lastGame3WinAway = last5games[\"scoreAway\"].iloc[2] < last5games[\"scoreHome\"].iloc[2]\n",
    "            lastGame4WinAway = last5games[\"scoreAway\"].iloc[3] < last5games[\"scoreHome\"].iloc[3]\n",
    "            lastGame5WinAway = last5games[\"scoreAway\"].iloc[4] < last5games[\"scoreHome\"].iloc[4]\n",
    "            #print(lastGame1WinAway, lastGame2WinAway, lastGame3WinAway, lastGame4WinAway, lastGame5WinAway)\n",
    "\n",
    "            lastGame1AtHomeAway = last5games[\"teamAwayCode\"].iloc[0] == game.teamAwayCode\n",
    "            lastGame2AtHomeAway = last5games[\"teamAwayCode\"].iloc[1] == game.teamAwayCode\n",
    "            lastGame3AtHomeAway = last5games[\"teamAwayCode\"].iloc[2] == game.teamAwayCode\n",
    "            lastGame4AtHomeAway = last5games[\"teamAwayCode\"].iloc[3] == game.teamAwayCode\n",
    "            lastGame5AtHomeAway = last5games[\"teamAwayCode\"].iloc[4] == game.teamAwayCode\n",
    "            #print(lastGame1AtHomeAway, lastGame2AtHomeAway, lastGame3AtHomeAway, lastGame4AtHomeAway, lastGame5AtHomeAway)\n",
    "\n",
    "            # Update the row with the history\n",
    "            data.loc[index] = [lastGame1WinAway, lastGame1AtHomeAway, lastGame2WinAway, lastGame2AtHomeAway, lastGame3WinAway, lastGame3AtHomeAway, lastGame4WinAway, lastGame4AtHomeAway, lastGame5WinAway, lastGame5AtHomeAway]\n",
    "\n",
    "    # Convert types         \n",
    "    data['lastGame1WinAway'] = data['lastGame1WinAway'].astype('bool')\n",
    "    data['lastGame2WinAway'] = data['lastGame2WinAway'].astype('bool')\n",
    "    data['lastGame3WinAway'] = data['lastGame3WinAway'].astype('bool')\n",
    "    data['lastGame4WinAway'] = data['lastGame4WinAway'].astype('bool')\n",
    "    data['lastGame5WinAway'] = data['lastGame5WinAway'].astype('bool')\n",
    "    data['lastGame1AtHomeAway'] = data['lastGame1AtHomeAway'].astype('bool')\n",
    "    data['lastGame2AtHomeAway'] = data['lastGame2AtHomeAway'].astype('bool')\n",
    "    data['lastGame3AtHomeAway'] = data['lastGame3AtHomeAway'].astype('bool')\n",
    "    data['lastGame4AtHomeAway'] = data['lastGame4AtHomeAway'].astype('bool')\n",
    "    data['lastGame5AtHomeAway'] = data['lastGame5AtHomeAway'].astype('bool')\n",
    "\n",
    "    # Add results to the dataset\n",
    "    games = pd.merge(games, data, left_index=True, right_index=True)\n",
    "    \n",
    "    games[['teamHomeCode', 'teamAwayCode', 'lastGame1WinHome', 'lastGame1AtHomeHome', 'lastGame2WinHome', 'lastGame2AtHomeHome', 'lastGame3WinHome', 'lastGame3AtHomeHome', 'lastGame4WinHome', 'lastGame4AtHomeHome', 'lastGame5WinHome', 'lastGame5AtHomeHome']].sample(5)"
   ]
  },
  {
   "cell_type": "code",
   "execution_count": 15,
   "metadata": {},
   "outputs": [
    {
     "data": {
      "text/plain": [
       "337.6783477035334"
      ]
     },
     "execution_count": 15,
     "metadata": {},
     "output_type": "execute_result"
    }
   ],
   "source": [
    "# test entry for stadium distance calc\n",
    "\n",
    "coords_1 = (37.750267, -122.202853)\n",
    "coords_2 = (34.04303865743706, -118.26711416244507)\n",
    "\n",
    "geopy.distance.vincenty(coords_1, coords_2).miles\n"
   ]
  },
  {
   "cell_type": "markdown",
   "metadata": {},
   "source": [
    "## Data Cleanse\n",
    "Look at data types"
   ]
  },
  {
   "cell_type": "code",
   "execution_count": 16,
   "metadata": {},
   "outputs": [
    {
     "data": {
      "text/plain": [
       "id                          int64\n",
       "location                   object\n",
       "oddsBet365Away            float64\n",
       "oddsBet365Home            float64\n",
       "scoreAway                   uint8\n",
       "scoreHome                   uint8\n",
       "scoreQuarters              object\n",
       "season                      int64\n",
       "teamAwayCode               object\n",
       "teamAwayId                  uint8\n",
       "teamHomeCode               object\n",
       "teamHomeId                  uint8\n",
       "time                       object\n",
       "gamesPlayedHome             uint8\n",
       "gamesPlayedAway             uint8\n",
       "totalGamesHome             object\n",
       "totalWinsHome              object\n",
       "homeGamesHome              object\n",
       "homeWinsHome               object\n",
       "awayGamesHome              object\n",
       "awayWinsHome               object\n",
       "percentageTotalWinHome     object\n",
       "percentageHomeWinHome      object\n",
       "percentageAwayWinHome      object\n",
       "totalGamesAway             object\n",
       "totalWinsAway              object\n",
       "homeGamesAway              object\n",
       "homeWinsAway               object\n",
       "awayGamesAway              object\n",
       "awayWinsAway               object\n",
       "percentageTotalWinAway     object\n",
       "percentageHomeWinAway      object\n",
       "percentageAwayWinAway      object\n",
       "lastGame1WinHome             bool\n",
       "lastGame1AtHomeHome          bool\n",
       "lastGame2WinHome             bool\n",
       "lastGame2AtHomeHome          bool\n",
       "lastGame3WinHome             bool\n",
       "lastGame3AtHomeHome          bool\n",
       "lastGame4WinHome             bool\n",
       "lastGame4AtHomeHome          bool\n",
       "lastGame5WinHome             bool\n",
       "lastGame5AtHomeHome          bool\n",
       "lastGame1WinAway             bool\n",
       "lastGame1AtHomeAway          bool\n",
       "lastGame2WinAway             bool\n",
       "lastGame2AtHomeAway          bool\n",
       "lastGame3WinAway             bool\n",
       "lastGame3AtHomeAway          bool\n",
       "lastGame4WinAway             bool\n",
       "lastGame4AtHomeAway          bool\n",
       "lastGame5WinAway             bool\n",
       "lastGame5AtHomeAway          bool\n",
       "dtype: object"
      ]
     },
     "execution_count": 16,
     "metadata": {},
     "output_type": "execute_result"
    }
   ],
   "source": [
    "games.dtypes"
   ]
  },
  {
   "cell_type": "markdown",
   "metadata": {},
   "source": [
    "Transform the Time column into a datetime object."
   ]
  },
  {
   "cell_type": "code",
   "execution_count": 17,
   "metadata": {
    "collapsed": true
   },
   "outputs": [],
   "source": [
    "games[\"time\"] = pd.to_datetime(games[\"time\"])"
   ]
  },
  {
   "cell_type": "code",
   "execution_count": null,
   "metadata": {
    "collapsed": true
   },
   "outputs": [],
   "source": []
  },
  {
   "cell_type": "markdown",
   "metadata": {},
   "source": [
    "### Convert the home and away teams to one-hot encoding "
   ]
  },
  {
   "cell_type": "code",
   "execution_count": 18,
   "metadata": {
    "collapsed": true
   },
   "outputs": [],
   "source": [
    "if use_team_hot_encoding == True:\n",
    "    homeTeam = pd.get_dummies(games[\"teamHomeCode\"], prefix='team')\n",
    "    awayTeam = pd.get_dummies(games[\"teamAwayCode\"], prefix='team')\n",
    "\n",
    "    homeTeam = homeTeam.replace({0:np.nan})\n",
    "    awayTeam = awayTeam.replace({0:np.nan})\n",
    "\n",
    "    teams = homeTeam.fillna(awayTeam).fillna(0).astype('bool')\n",
    "    # teams[['team_NYK', 'team_CLE', 'team_ATL', 'team_BOS']].head(2)\n",
    "    \n",
    "    games = pd.concat([games, teams], axis=1)\n",
    "    \n",
    "    games[['teamHomeCode', 'teamAwayCode', 'team_NYK', 'team_CLE']].head(2)"
   ]
  },
  {
   "cell_type": "code",
   "execution_count": 19,
   "metadata": {
    "collapsed": true
   },
   "outputs": [],
   "source": [
    "if use_team_home_away_hot_encoding == True:\n",
    "    homeTeam = pd.get_dummies(games[\"teamHomeCode\"], prefix='hometeam').astype('bool')\n",
    "    awayTeam = pd.get_dummies(games[\"teamAwayCode\"], prefix='awayteam').astype('bool')\n",
    "\n",
    "    games = pd.concat([games, homeTeam, awayTeam], axis=1)\n",
    "    \n",
    "    games[['teamHomeCode', 'teamAwayCode', 'hometeam_NYK', 'hometeam_CLE', 'awayteam_NYK', 'awayteam_CLE']].head(2)"
   ]
  },
  {
   "cell_type": "markdown",
   "metadata": {},
   "source": [
    "Drop the id fields for teams."
   ]
  },
  {
   "cell_type": "code",
   "execution_count": 20,
   "metadata": {
    "collapsed": true
   },
   "outputs": [],
   "source": [
    "if (use_team_hot_encoding == True) | (use_team_home_away_hot_encoding == True) | (use_team_keys == False):\n",
    "    games = games.drop([\"teamAwayId\", \"teamHomeId\"], axis=1)"
   ]
  },
  {
   "cell_type": "code",
   "execution_count": 21,
   "metadata": {
    "collapsed": true
   },
   "outputs": [],
   "source": [
    "games = games.drop([\"teamAwayCode\", \"teamHomeCode\"], axis=1)"
   ]
  },
  {
   "cell_type": "code",
   "execution_count": 22,
   "metadata": {
    "collapsed": true
   },
   "outputs": [],
   "source": [
    "games = games.drop([\"location\", \"scoreQuarters\", \"time\"], axis=1)"
   ]
  },
  {
   "cell_type": "code",
   "execution_count": 23,
   "metadata": {
    "collapsed": true
   },
   "outputs": [],
   "source": [
    "#gamesQuarters = json_normalize(data=d['games'], record_path='scoreQuarters', meta=['id'])\n",
    "#gamesQuarters.head(10)"
   ]
  },
  {
   "cell_type": "code",
   "execution_count": 24,
   "metadata": {
    "collapsed": true
   },
   "outputs": [],
   "source": [
    "games[\"homeWin\"] = games[\"scoreHome\"] > games[\"scoreAway\"]"
   ]
  },
  {
   "cell_type": "code",
   "execution_count": 25,
   "metadata": {
    "collapsed": true
   },
   "outputs": [],
   "source": [
    "# Remove games scores ... not possible to predict the future, if you already know it :)\n",
    "games = games.drop([\"scoreAway\", \"scoreHome\"], axis=1)"
   ]
  },
  {
   "cell_type": "code",
   "execution_count": 26,
   "metadata": {
    "collapsed": true
   },
   "outputs": [],
   "source": [
    "# Remove any games that have less than a 5 game history.\n",
    "if calc_last_5_games == True:\n",
    "    games = games[(pd.notnull(games['lastGame1WinHome'])) & (pd.notnull(games['lastGame1AtHomeAway']))]"
   ]
  },
  {
   "cell_type": "code",
   "execution_count": 27,
   "metadata": {},
   "outputs": [
    {
     "data": {
      "text/html": [
       "<div>\n",
       "<style>\n",
       "    .dataframe thead tr:only-child th {\n",
       "        text-align: right;\n",
       "    }\n",
       "\n",
       "    .dataframe thead th {\n",
       "        text-align: left;\n",
       "    }\n",
       "\n",
       "    .dataframe tbody tr th {\n",
       "        vertical-align: top;\n",
       "    }\n",
       "</style>\n",
       "<table border=\"1\" class=\"dataframe\">\n",
       "  <thead>\n",
       "    <tr style=\"text-align: right;\">\n",
       "      <th></th>\n",
       "      <th>id</th>\n",
       "      <th>oddsBet365Away</th>\n",
       "      <th>oddsBet365Home</th>\n",
       "      <th>season</th>\n",
       "      <th>gamesPlayedHome</th>\n",
       "      <th>gamesPlayedAway</th>\n",
       "      <th>totalGamesHome</th>\n",
       "      <th>totalWinsHome</th>\n",
       "      <th>homeGamesHome</th>\n",
       "      <th>homeWinsHome</th>\n",
       "      <th>...</th>\n",
       "      <th>lastGame1AtHomeAway</th>\n",
       "      <th>lastGame2WinAway</th>\n",
       "      <th>lastGame2AtHomeAway</th>\n",
       "      <th>lastGame3WinAway</th>\n",
       "      <th>lastGame3AtHomeAway</th>\n",
       "      <th>lastGame4WinAway</th>\n",
       "      <th>lastGame4AtHomeAway</th>\n",
       "      <th>lastGame5WinAway</th>\n",
       "      <th>lastGame5AtHomeAway</th>\n",
       "      <th>homeWin</th>\n",
       "    </tr>\n",
       "  </thead>\n",
       "  <tbody>\n",
       "  </tbody>\n",
       "</table>\n",
       "<p>0 rows × 45 columns</p>\n",
       "</div>"
      ],
      "text/plain": [
       "Empty DataFrame\n",
       "Columns: [id, oddsBet365Away, oddsBet365Home, season, gamesPlayedHome, gamesPlayedAway, totalGamesHome, totalWinsHome, homeGamesHome, homeWinsHome, awayGamesHome, awayWinsHome, percentageTotalWinHome, percentageHomeWinHome, percentageAwayWinHome, totalGamesAway, totalWinsAway, homeGamesAway, homeWinsAway, awayGamesAway, awayWinsAway, percentageTotalWinAway, percentageHomeWinAway, percentageAwayWinAway, lastGame1WinHome, lastGame1AtHomeHome, lastGame2WinHome, lastGame2AtHomeHome, lastGame3WinHome, lastGame3AtHomeHome, lastGame4WinHome, lastGame4AtHomeHome, lastGame5WinHome, lastGame5AtHomeHome, lastGame1WinAway, lastGame1AtHomeAway, lastGame2WinAway, lastGame2AtHomeAway, lastGame3WinAway, lastGame3AtHomeAway, lastGame4WinAway, lastGame4AtHomeAway, lastGame5WinAway, lastGame5AtHomeAway, homeWin]\n",
       "Index: []\n",
       "\n",
       "[0 rows x 45 columns]"
      ]
     },
     "execution_count": 27,
     "metadata": {},
     "output_type": "execute_result"
    }
   ],
   "source": [
    "# Show any NaN\n",
    "games[games.isnull().T.any().T]"
   ]
  },
  {
   "cell_type": "code",
   "execution_count": 28,
   "metadata": {},
   "outputs": [
    {
     "data": {
      "text/html": [
       "<div>\n",
       "<style>\n",
       "    .dataframe thead tr:only-child th {\n",
       "        text-align: right;\n",
       "    }\n",
       "\n",
       "    .dataframe thead th {\n",
       "        text-align: left;\n",
       "    }\n",
       "\n",
       "    .dataframe tbody tr th {\n",
       "        vertical-align: top;\n",
       "    }\n",
       "</style>\n",
       "<table border=\"1\" class=\"dataframe\">\n",
       "  <thead>\n",
       "    <tr style=\"text-align: right;\">\n",
       "      <th></th>\n",
       "      <th>id</th>\n",
       "      <th>oddsBet365Away</th>\n",
       "      <th>oddsBet365Home</th>\n",
       "      <th>season</th>\n",
       "      <th>gamesPlayedHome</th>\n",
       "      <th>gamesPlayedAway</th>\n",
       "      <th>totalGamesHome</th>\n",
       "      <th>totalWinsHome</th>\n",
       "      <th>homeGamesHome</th>\n",
       "      <th>homeWinsHome</th>\n",
       "      <th>...</th>\n",
       "      <th>lastGame1AtHomeAway</th>\n",
       "      <th>lastGame2WinAway</th>\n",
       "      <th>lastGame2AtHomeAway</th>\n",
       "      <th>lastGame3WinAway</th>\n",
       "      <th>lastGame3AtHomeAway</th>\n",
       "      <th>lastGame4WinAway</th>\n",
       "      <th>lastGame4AtHomeAway</th>\n",
       "      <th>lastGame5WinAway</th>\n",
       "      <th>lastGame5AtHomeAway</th>\n",
       "      <th>homeWin</th>\n",
       "    </tr>\n",
       "  </thead>\n",
       "  <tbody>\n",
       "    <tr>\n",
       "      <th>0</th>\n",
       "      <td>33941</td>\n",
       "      <td>5.25</td>\n",
       "      <td>1.18</td>\n",
       "      <td>2016</td>\n",
       "      <td>1</td>\n",
       "      <td>1</td>\n",
       "      <td>0</td>\n",
       "      <td>0</td>\n",
       "      <td>0</td>\n",
       "      <td>0</td>\n",
       "      <td>...</td>\n",
       "      <td>True</td>\n",
       "      <td>True</td>\n",
       "      <td>True</td>\n",
       "      <td>True</td>\n",
       "      <td>True</td>\n",
       "      <td>True</td>\n",
       "      <td>True</td>\n",
       "      <td>True</td>\n",
       "      <td>True</td>\n",
       "      <td>True</td>\n",
       "    </tr>\n",
       "    <tr>\n",
       "      <th>1</th>\n",
       "      <td>33942</td>\n",
       "      <td>3.15</td>\n",
       "      <td>1.38</td>\n",
       "      <td>2016</td>\n",
       "      <td>1</td>\n",
       "      <td>1</td>\n",
       "      <td>0</td>\n",
       "      <td>0</td>\n",
       "      <td>0</td>\n",
       "      <td>0</td>\n",
       "      <td>...</td>\n",
       "      <td>True</td>\n",
       "      <td>True</td>\n",
       "      <td>True</td>\n",
       "      <td>True</td>\n",
       "      <td>True</td>\n",
       "      <td>True</td>\n",
       "      <td>True</td>\n",
       "      <td>True</td>\n",
       "      <td>True</td>\n",
       "      <td>True</td>\n",
       "    </tr>\n",
       "    <tr>\n",
       "      <th>2</th>\n",
       "      <td>33943</td>\n",
       "      <td>4.25</td>\n",
       "      <td>1.23</td>\n",
       "      <td>2016</td>\n",
       "      <td>1</td>\n",
       "      <td>1</td>\n",
       "      <td>0</td>\n",
       "      <td>0</td>\n",
       "      <td>0</td>\n",
       "      <td>0</td>\n",
       "      <td>...</td>\n",
       "      <td>True</td>\n",
       "      <td>True</td>\n",
       "      <td>True</td>\n",
       "      <td>True</td>\n",
       "      <td>True</td>\n",
       "      <td>True</td>\n",
       "      <td>True</td>\n",
       "      <td>True</td>\n",
       "      <td>True</td>\n",
       "      <td>False</td>\n",
       "    </tr>\n",
       "  </tbody>\n",
       "</table>\n",
       "<p>3 rows × 45 columns</p>\n",
       "</div>"
      ],
      "text/plain": [
       "      id  oddsBet365Away  oddsBet365Home  season  gamesPlayedHome  \\\n",
       "0  33941            5.25            1.18    2016                1   \n",
       "1  33942            3.15            1.38    2016                1   \n",
       "2  33943            4.25            1.23    2016                1   \n",
       "\n",
       "   gamesPlayedAway totalGamesHome totalWinsHome homeGamesHome homeWinsHome  \\\n",
       "0                1              0             0             0            0   \n",
       "1                1              0             0             0            0   \n",
       "2                1              0             0             0            0   \n",
       "\n",
       "    ...   lastGame1AtHomeAway lastGame2WinAway lastGame2AtHomeAway  \\\n",
       "0   ...                  True             True                True   \n",
       "1   ...                  True             True                True   \n",
       "2   ...                  True             True                True   \n",
       "\n",
       "  lastGame3WinAway lastGame3AtHomeAway lastGame4WinAway lastGame4AtHomeAway  \\\n",
       "0             True                True             True                True   \n",
       "1             True                True             True                True   \n",
       "2             True                True             True                True   \n",
       "\n",
       "  lastGame5WinAway lastGame5AtHomeAway homeWin  \n",
       "0             True                True    True  \n",
       "1             True                True    True  \n",
       "2             True                True   False  \n",
       "\n",
       "[3 rows x 45 columns]"
      ]
     },
     "execution_count": 28,
     "metadata": {},
     "output_type": "execute_result"
    }
   ],
   "source": [
    "games.head(3)"
   ]
  },
  {
   "cell_type": "code",
   "execution_count": 29,
   "metadata": {},
   "outputs": [
    {
     "data": {
      "text/plain": [
       "((987, 43), (987,), (243, 43))"
      ]
     },
     "execution_count": 29,
     "metadata": {},
     "output_type": "execute_result"
    }
   ],
   "source": [
    "msk = np.random.rand(len(games)) < 0.8\n",
    "msk\n",
    "\n",
    "train = games[msk]\n",
    "test = games[~msk]\n",
    "\n",
    "Y_train = train[\"homeWin\"]\n",
    "X_train = train.drop([\"id\",\"homeWin\"], axis=1)\n",
    "\n",
    "#\n",
    "X_test  = test.drop([\"id\", \"homeWin\"], axis=1).copy()\n",
    "X_train.shape, Y_train.shape, X_test.shape"
   ]
  },
  {
   "cell_type": "code",
   "execution_count": 30,
   "metadata": {
    "collapsed": true
   },
   "outputs": [],
   "source": [
    "# Reset the index\n",
    "test.index = range(len(test.index))"
   ]
  },
  {
   "cell_type": "code",
   "execution_count": 31,
   "metadata": {},
   "outputs": [
    {
     "data": {
      "text/html": [
       "<div>\n",
       "<style>\n",
       "    .dataframe thead tr:only-child th {\n",
       "        text-align: right;\n",
       "    }\n",
       "\n",
       "    .dataframe thead th {\n",
       "        text-align: left;\n",
       "    }\n",
       "\n",
       "    .dataframe tbody tr th {\n",
       "        vertical-align: top;\n",
       "    }\n",
       "</style>\n",
       "<table border=\"1\" class=\"dataframe\">\n",
       "  <thead>\n",
       "    <tr style=\"text-align: right;\">\n",
       "      <th></th>\n",
       "      <th>oddsBet365Away</th>\n",
       "      <th>oddsBet365Home</th>\n",
       "      <th>season</th>\n",
       "      <th>gamesPlayedHome</th>\n",
       "      <th>gamesPlayedAway</th>\n",
       "      <th>totalGamesHome</th>\n",
       "      <th>totalWinsHome</th>\n",
       "      <th>homeGamesHome</th>\n",
       "      <th>homeWinsHome</th>\n",
       "      <th>awayGamesHome</th>\n",
       "      <th>...</th>\n",
       "      <th>lastGame1WinAway</th>\n",
       "      <th>lastGame1AtHomeAway</th>\n",
       "      <th>lastGame2WinAway</th>\n",
       "      <th>lastGame2AtHomeAway</th>\n",
       "      <th>lastGame3WinAway</th>\n",
       "      <th>lastGame3AtHomeAway</th>\n",
       "      <th>lastGame4WinAway</th>\n",
       "      <th>lastGame4AtHomeAway</th>\n",
       "      <th>lastGame5WinAway</th>\n",
       "      <th>lastGame5AtHomeAway</th>\n",
       "    </tr>\n",
       "  </thead>\n",
       "  <tbody>\n",
       "    <tr>\n",
       "      <th>593</th>\n",
       "      <td>2.20</td>\n",
       "      <td>1.71</td>\n",
       "      <td>2016</td>\n",
       "      <td>39</td>\n",
       "      <td>40</td>\n",
       "      <td>38</td>\n",
       "      <td>22</td>\n",
       "      <td>17</td>\n",
       "      <td>10</td>\n",
       "      <td>21</td>\n",
       "      <td>...</td>\n",
       "      <td>True</td>\n",
       "      <td>False</td>\n",
       "      <td>True</td>\n",
       "      <td>True</td>\n",
       "      <td>True</td>\n",
       "      <td>False</td>\n",
       "      <td>True</td>\n",
       "      <td>False</td>\n",
       "      <td>True</td>\n",
       "      <td>False</td>\n",
       "    </tr>\n",
       "    <tr>\n",
       "      <th>1164</th>\n",
       "      <td>2.40</td>\n",
       "      <td>1.62</td>\n",
       "      <td>2016</td>\n",
       "      <td>78</td>\n",
       "      <td>78</td>\n",
       "      <td>77</td>\n",
       "      <td>50</td>\n",
       "      <td>38</td>\n",
       "      <td>28</td>\n",
       "      <td>39</td>\n",
       "      <td>...</td>\n",
       "      <td>True</td>\n",
       "      <td>False</td>\n",
       "      <td>True</td>\n",
       "      <td>False</td>\n",
       "      <td>True</td>\n",
       "      <td>True</td>\n",
       "      <td>True</td>\n",
       "      <td>True</td>\n",
       "      <td>False</td>\n",
       "      <td>False</td>\n",
       "    </tr>\n",
       "    <tr>\n",
       "      <th>269</th>\n",
       "      <td>2.45</td>\n",
       "      <td>1.60</td>\n",
       "      <td>2016</td>\n",
       "      <td>18</td>\n",
       "      <td>18</td>\n",
       "      <td>17</td>\n",
       "      <td>5</td>\n",
       "      <td>8</td>\n",
       "      <td>3</td>\n",
       "      <td>9</td>\n",
       "      <td>...</td>\n",
       "      <td>True</td>\n",
       "      <td>False</td>\n",
       "      <td>True</td>\n",
       "      <td>True</td>\n",
       "      <td>True</td>\n",
       "      <td>False</td>\n",
       "      <td>True</td>\n",
       "      <td>False</td>\n",
       "      <td>True</td>\n",
       "      <td>False</td>\n",
       "    </tr>\n",
       "    <tr>\n",
       "      <th>528</th>\n",
       "      <td>4.00</td>\n",
       "      <td>1.26</td>\n",
       "      <td>2016</td>\n",
       "      <td>34</td>\n",
       "      <td>36</td>\n",
       "      <td>32</td>\n",
       "      <td>25</td>\n",
       "      <td>20</td>\n",
       "      <td>18</td>\n",
       "      <td>12</td>\n",
       "      <td>...</td>\n",
       "      <td>True</td>\n",
       "      <td>False</td>\n",
       "      <td>True</td>\n",
       "      <td>True</td>\n",
       "      <td>False</td>\n",
       "      <td>False</td>\n",
       "      <td>True</td>\n",
       "      <td>False</td>\n",
       "      <td>True</td>\n",
       "      <td>False</td>\n",
       "    </tr>\n",
       "    <tr>\n",
       "      <th>815</th>\n",
       "      <td>2.40</td>\n",
       "      <td>1.62</td>\n",
       "      <td>2016</td>\n",
       "      <td>54</td>\n",
       "      <td>54</td>\n",
       "      <td>53</td>\n",
       "      <td>22</td>\n",
       "      <td>26</td>\n",
       "      <td>11</td>\n",
       "      <td>27</td>\n",
       "      <td>...</td>\n",
       "      <td>False</td>\n",
       "      <td>True</td>\n",
       "      <td>False</td>\n",
       "      <td>False</td>\n",
       "      <td>True</td>\n",
       "      <td>False</td>\n",
       "      <td>True</td>\n",
       "      <td>True</td>\n",
       "      <td>True</td>\n",
       "      <td>True</td>\n",
       "    </tr>\n",
       "  </tbody>\n",
       "</table>\n",
       "<p>5 rows × 43 columns</p>\n",
       "</div>"
      ],
      "text/plain": [
       "      oddsBet365Away  oddsBet365Home  season  gamesPlayedHome  \\\n",
       "593             2.20            1.71    2016               39   \n",
       "1164            2.40            1.62    2016               78   \n",
       "269             2.45            1.60    2016               18   \n",
       "528             4.00            1.26    2016               34   \n",
       "815             2.40            1.62    2016               54   \n",
       "\n",
       "      gamesPlayedAway totalGamesHome totalWinsHome homeGamesHome homeWinsHome  \\\n",
       "593                40             38            22            17           10   \n",
       "1164               78             77            50            38           28   \n",
       "269                18             17             5             8            3   \n",
       "528                36             32            25            20           18   \n",
       "815                54             53            22            26           11   \n",
       "\n",
       "     awayGamesHome         ...         lastGame1WinAway lastGame1AtHomeAway  \\\n",
       "593             21         ...                     True               False   \n",
       "1164            39         ...                     True               False   \n",
       "269              9         ...                     True               False   \n",
       "528             12         ...                     True               False   \n",
       "815             27         ...                    False                True   \n",
       "\n",
       "     lastGame2WinAway lastGame2AtHomeAway lastGame3WinAway  \\\n",
       "593              True                True             True   \n",
       "1164             True               False             True   \n",
       "269              True                True             True   \n",
       "528              True                True            False   \n",
       "815             False               False             True   \n",
       "\n",
       "     lastGame3AtHomeAway lastGame4WinAway lastGame4AtHomeAway  \\\n",
       "593                False             True               False   \n",
       "1164                True             True                True   \n",
       "269                False             True               False   \n",
       "528                False             True               False   \n",
       "815                False             True                True   \n",
       "\n",
       "     lastGame5WinAway lastGame5AtHomeAway  \n",
       "593              True               False  \n",
       "1164            False               False  \n",
       "269              True               False  \n",
       "528              True               False  \n",
       "815              True                True  \n",
       "\n",
       "[5 rows x 43 columns]"
      ]
     },
     "execution_count": 31,
     "metadata": {},
     "output_type": "execute_result"
    }
   ],
   "source": [
    "X_test.sample(5)"
   ]
  },
  {
   "cell_type": "markdown",
   "metadata": {},
   "source": [
    "### Logistic Regression"
   ]
  },
  {
   "cell_type": "code",
   "execution_count": 32,
   "metadata": {},
   "outputs": [
    {
     "data": {
      "text/plain": [
       "67.069999999999993"
      ]
     },
     "execution_count": 32,
     "metadata": {},
     "output_type": "execute_result"
    }
   ],
   "source": [
    "logreg = LogisticRegression()\n",
    "logreg.fit(X_train, Y_train)\n",
    "Y_pred = logreg.predict(X_test)\n",
    "acc_log = round(logreg.score(X_train, Y_train) * 100, 2)\n",
    "acc_log"
   ]
  },
  {
   "cell_type": "code",
   "execution_count": 33,
   "metadata": {},
   "outputs": [
    {
     "data": {
      "text/html": [
       "<div>\n",
       "<style>\n",
       "    .dataframe thead tr:only-child th {\n",
       "        text-align: right;\n",
       "    }\n",
       "\n",
       "    .dataframe thead th {\n",
       "        text-align: left;\n",
       "    }\n",
       "\n",
       "    .dataframe tbody tr th {\n",
       "        vertical-align: top;\n",
       "    }\n",
       "</style>\n",
       "<table border=\"1\" class=\"dataframe\">\n",
       "  <thead>\n",
       "    <tr style=\"text-align: right;\">\n",
       "      <th></th>\n",
       "      <th>Feature</th>\n",
       "      <th>Correlation</th>\n",
       "    </tr>\n",
       "  </thead>\n",
       "  <tbody>\n",
       "    <tr>\n",
       "      <th>0</th>\n",
       "      <td>oddsBet365Away</td>\n",
       "      <td>0.277204</td>\n",
       "    </tr>\n",
       "    <tr>\n",
       "      <th>36</th>\n",
       "      <td>lastGame2AtHomeAway</td>\n",
       "      <td>0.268835</td>\n",
       "    </tr>\n",
       "    <tr>\n",
       "      <th>42</th>\n",
       "      <td>lastGame5AtHomeAway</td>\n",
       "      <td>0.263717</td>\n",
       "    </tr>\n",
       "    <tr>\n",
       "      <th>38</th>\n",
       "      <td>lastGame3AtHomeAway</td>\n",
       "      <td>0.245679</td>\n",
       "    </tr>\n",
       "    <tr>\n",
       "      <th>31</th>\n",
       "      <td>lastGame5WinHome</td>\n",
       "      <td>0.224517</td>\n",
       "    </tr>\n",
       "    <tr>\n",
       "      <th>4</th>\n",
       "      <td>gamesPlayedAway</td>\n",
       "      <td>0.180447</td>\n",
       "    </tr>\n",
       "    <tr>\n",
       "      <th>25</th>\n",
       "      <td>lastGame2WinHome</td>\n",
       "      <td>0.140416</td>\n",
       "    </tr>\n",
       "    <tr>\n",
       "      <th>40</th>\n",
       "      <td>lastGame4AtHomeAway</td>\n",
       "      <td>0.110096</td>\n",
       "    </tr>\n",
       "    <tr>\n",
       "      <th>39</th>\n",
       "      <td>lastGame4WinAway</td>\n",
       "      <td>0.074577</td>\n",
       "    </tr>\n",
       "    <tr>\n",
       "      <th>10</th>\n",
       "      <td>awayWinsHome</td>\n",
       "      <td>0.060400</td>\n",
       "    </tr>\n",
       "    <tr>\n",
       "      <th>27</th>\n",
       "      <td>lastGame3WinHome</td>\n",
       "      <td>0.046096</td>\n",
       "    </tr>\n",
       "    <tr>\n",
       "      <th>23</th>\n",
       "      <td>lastGame1WinHome</td>\n",
       "      <td>0.042567</td>\n",
       "    </tr>\n",
       "    <tr>\n",
       "      <th>41</th>\n",
       "      <td>lastGame5WinAway</td>\n",
       "      <td>0.041672</td>\n",
       "    </tr>\n",
       "    <tr>\n",
       "      <th>3</th>\n",
       "      <td>gamesPlayedHome</td>\n",
       "      <td>0.035551</td>\n",
       "    </tr>\n",
       "    <tr>\n",
       "      <th>7</th>\n",
       "      <td>homeGamesHome</td>\n",
       "      <td>0.027996</td>\n",
       "    </tr>\n",
       "    <tr>\n",
       "      <th>19</th>\n",
       "      <td>awayWinsAway</td>\n",
       "      <td>0.024122</td>\n",
       "    </tr>\n",
       "    <tr>\n",
       "      <th>37</th>\n",
       "      <td>lastGame3WinAway</td>\n",
       "      <td>0.014551</td>\n",
       "    </tr>\n",
       "    <tr>\n",
       "      <th>16</th>\n",
       "      <td>homeGamesAway</td>\n",
       "      <td>0.013130</td>\n",
       "    </tr>\n",
       "    <tr>\n",
       "      <th>15</th>\n",
       "      <td>totalWinsAway</td>\n",
       "      <td>0.007362</td>\n",
       "    </tr>\n",
       "    <tr>\n",
       "      <th>2</th>\n",
       "      <td>season</td>\n",
       "      <td>0.000149</td>\n",
       "    </tr>\n",
       "    <tr>\n",
       "      <th>6</th>\n",
       "      <td>totalWinsHome</td>\n",
       "      <td>-0.002576</td>\n",
       "    </tr>\n",
       "    <tr>\n",
       "      <th>32</th>\n",
       "      <td>lastGame5AtHomeHome</td>\n",
       "      <td>-0.004774</td>\n",
       "    </tr>\n",
       "    <tr>\n",
       "      <th>17</th>\n",
       "      <td>homeWinsAway</td>\n",
       "      <td>-0.016760</td>\n",
       "    </tr>\n",
       "    <tr>\n",
       "      <th>26</th>\n",
       "      <td>lastGame2AtHomeHome</td>\n",
       "      <td>-0.062133</td>\n",
       "    </tr>\n",
       "    <tr>\n",
       "      <th>8</th>\n",
       "      <td>homeWinsHome</td>\n",
       "      <td>-0.062976</td>\n",
       "    </tr>\n",
       "    <tr>\n",
       "      <th>5</th>\n",
       "      <td>totalGamesHome</td>\n",
       "      <td>-0.065746</td>\n",
       "    </tr>\n",
       "    <tr>\n",
       "      <th>14</th>\n",
       "      <td>totalGamesAway</td>\n",
       "      <td>-0.074607</td>\n",
       "    </tr>\n",
       "    <tr>\n",
       "      <th>21</th>\n",
       "      <td>percentageHomeWinAway</td>\n",
       "      <td>-0.082791</td>\n",
       "    </tr>\n",
       "    <tr>\n",
       "      <th>20</th>\n",
       "      <td>percentageTotalWinAway</td>\n",
       "      <td>-0.085649</td>\n",
       "    </tr>\n",
       "    <tr>\n",
       "      <th>18</th>\n",
       "      <td>awayGamesAway</td>\n",
       "      <td>-0.087737</td>\n",
       "    </tr>\n",
       "    <tr>\n",
       "      <th>9</th>\n",
       "      <td>awayGamesHome</td>\n",
       "      <td>-0.093742</td>\n",
       "    </tr>\n",
       "    <tr>\n",
       "      <th>29</th>\n",
       "      <td>lastGame4WinHome</td>\n",
       "      <td>-0.106533</td>\n",
       "    </tr>\n",
       "    <tr>\n",
       "      <th>12</th>\n",
       "      <td>percentageHomeWinHome</td>\n",
       "      <td>-0.108533</td>\n",
       "    </tr>\n",
       "    <tr>\n",
       "      <th>22</th>\n",
       "      <td>percentageAwayWinAway</td>\n",
       "      <td>-0.115325</td>\n",
       "    </tr>\n",
       "    <tr>\n",
       "      <th>28</th>\n",
       "      <td>lastGame3AtHomeHome</td>\n",
       "      <td>-0.128807</td>\n",
       "    </tr>\n",
       "    <tr>\n",
       "      <th>30</th>\n",
       "      <td>lastGame4AtHomeHome</td>\n",
       "      <td>-0.131738</td>\n",
       "    </tr>\n",
       "    <tr>\n",
       "      <th>24</th>\n",
       "      <td>lastGame1AtHomeHome</td>\n",
       "      <td>-0.158577</td>\n",
       "    </tr>\n",
       "    <tr>\n",
       "      <th>34</th>\n",
       "      <td>lastGame1AtHomeAway</td>\n",
       "      <td>-0.179689</td>\n",
       "    </tr>\n",
       "    <tr>\n",
       "      <th>13</th>\n",
       "      <td>percentageAwayWinHome</td>\n",
       "      <td>-0.207391</td>\n",
       "    </tr>\n",
       "    <tr>\n",
       "      <th>11</th>\n",
       "      <td>percentageTotalWinHome</td>\n",
       "      <td>-0.234824</td>\n",
       "    </tr>\n",
       "    <tr>\n",
       "      <th>33</th>\n",
       "      <td>lastGame1WinAway</td>\n",
       "      <td>-0.300164</td>\n",
       "    </tr>\n",
       "    <tr>\n",
       "      <th>35</th>\n",
       "      <td>lastGame2WinAway</td>\n",
       "      <td>-0.318380</td>\n",
       "    </tr>\n",
       "    <tr>\n",
       "      <th>1</th>\n",
       "      <td>oddsBet365Home</td>\n",
       "      <td>-0.387724</td>\n",
       "    </tr>\n",
       "    <tr>\n",
       "      <th>43</th>\n",
       "      <td>homeWin</td>\n",
       "      <td>NaN</td>\n",
       "    </tr>\n",
       "  </tbody>\n",
       "</table>\n",
       "</div>"
      ],
      "text/plain": [
       "                   Feature  Correlation\n",
       "0           oddsBet365Away     0.277204\n",
       "36     lastGame2AtHomeAway     0.268835\n",
       "42     lastGame5AtHomeAway     0.263717\n",
       "38     lastGame3AtHomeAway     0.245679\n",
       "31        lastGame5WinHome     0.224517\n",
       "4          gamesPlayedAway     0.180447\n",
       "25        lastGame2WinHome     0.140416\n",
       "40     lastGame4AtHomeAway     0.110096\n",
       "39        lastGame4WinAway     0.074577\n",
       "10            awayWinsHome     0.060400\n",
       "27        lastGame3WinHome     0.046096\n",
       "23        lastGame1WinHome     0.042567\n",
       "41        lastGame5WinAway     0.041672\n",
       "3          gamesPlayedHome     0.035551\n",
       "7            homeGamesHome     0.027996\n",
       "19            awayWinsAway     0.024122\n",
       "37        lastGame3WinAway     0.014551\n",
       "16           homeGamesAway     0.013130\n",
       "15           totalWinsAway     0.007362\n",
       "2                   season     0.000149\n",
       "6            totalWinsHome    -0.002576\n",
       "32     lastGame5AtHomeHome    -0.004774\n",
       "17            homeWinsAway    -0.016760\n",
       "26     lastGame2AtHomeHome    -0.062133\n",
       "8             homeWinsHome    -0.062976\n",
       "5           totalGamesHome    -0.065746\n",
       "14          totalGamesAway    -0.074607\n",
       "21   percentageHomeWinAway    -0.082791\n",
       "20  percentageTotalWinAway    -0.085649\n",
       "18           awayGamesAway    -0.087737\n",
       "9            awayGamesHome    -0.093742\n",
       "29        lastGame4WinHome    -0.106533\n",
       "12   percentageHomeWinHome    -0.108533\n",
       "22   percentageAwayWinAway    -0.115325\n",
       "28     lastGame3AtHomeHome    -0.128807\n",
       "30     lastGame4AtHomeHome    -0.131738\n",
       "24     lastGame1AtHomeHome    -0.158577\n",
       "34     lastGame1AtHomeAway    -0.179689\n",
       "13   percentageAwayWinHome    -0.207391\n",
       "11  percentageTotalWinHome    -0.234824\n",
       "33        lastGame1WinAway    -0.300164\n",
       "35        lastGame2WinAway    -0.318380\n",
       "1           oddsBet365Home    -0.387724\n",
       "43                 homeWin          NaN"
      ]
     },
     "execution_count": 33,
     "metadata": {},
     "output_type": "execute_result"
    }
   ],
   "source": [
    "coeff_df = pd.DataFrame(games.columns.delete(0))\n",
    "coeff_df.columns = ['Feature']\n",
    "coeff_df[\"Correlation\"] = pd.Series(logreg.coef_[0])\n",
    "\n",
    "coeff_df.sort_values(by='Correlation', ascending=False)"
   ]
  },
  {
   "cell_type": "code",
   "execution_count": 34,
   "metadata": {},
   "outputs": [
    {
     "name": "stdout",
     "output_type": "stream",
     "text": [
      "61.73 243 150 93\n"
     ]
    }
   ],
   "source": [
    "result = pd.concat([test, pd.DataFrame(Y_pred, columns=['forecast'])], axis=1)\n",
    "total = len(result)\n",
    "correct = len(result[(result['homeWin'] == result['forecast'])])\n",
    "incorrect = len(result[(result['homeWin'] != result['forecast'])])\n",
    "correct_log = round((correct / total) * 100, 2)\n",
    "\n",
    "print(correct_log, total, correct, incorrect)"
   ]
  },
  {
   "cell_type": "markdown",
   "metadata": {},
   "source": [
    "### Support Vector Machines"
   ]
  },
  {
   "cell_type": "code",
   "execution_count": 35,
   "metadata": {},
   "outputs": [
    {
     "data": {
      "text/plain": [
       "93.010000000000005"
      ]
     },
     "execution_count": 35,
     "metadata": {},
     "output_type": "execute_result"
    }
   ],
   "source": [
    "svc = SVC()\n",
    "svc.fit(X_train, Y_train)\n",
    "Y_pred = svc.predict(X_test)\n",
    "acc_svc = round(svc.score(X_train, Y_train) * 100, 2)\n",
    "acc_svc"
   ]
  },
  {
   "cell_type": "code",
   "execution_count": 36,
   "metadata": {},
   "outputs": [
    {
     "name": "stdout",
     "output_type": "stream",
     "text": [
      "60.91 243 148 95\n"
     ]
    }
   ],
   "source": [
    "result = pd.concat([test, pd.DataFrame(Y_pred, columns=['forecast'])], axis=1)\n",
    "total = len(result)\n",
    "correct = len(result[(result['homeWin'] == result['forecast'])])\n",
    "incorrect = len(result[(result['homeWin'] != result['forecast'])])\n",
    "correct_svc = round((correct / total) * 100, 2)\n",
    "\n",
    "print(correct_svc, total, correct, incorrect)"
   ]
  },
  {
   "cell_type": "markdown",
   "metadata": {},
   "source": [
    "### k-Nearest Neighbors"
   ]
  },
  {
   "cell_type": "code",
   "execution_count": 37,
   "metadata": {},
   "outputs": [
    {
     "data": {
      "text/plain": [
       "78.620000000000005"
      ]
     },
     "execution_count": 37,
     "metadata": {},
     "output_type": "execute_result"
    }
   ],
   "source": [
    "knn = KNeighborsClassifier(n_neighbors = 3)\n",
    "knn.fit(X_train, Y_train)\n",
    "Y_pred = knn.predict(X_test)\n",
    "acc_knn = round(knn.score(X_train, Y_train) * 100, 2)\n",
    "acc_knn"
   ]
  },
  {
   "cell_type": "code",
   "execution_count": 38,
   "metadata": {},
   "outputs": [
    {
     "name": "stdout",
     "output_type": "stream",
     "text": [
      "58.02 243 141 102\n"
     ]
    }
   ],
   "source": [
    "result = pd.concat([test, pd.DataFrame(Y_pred, columns=['forecast'])], axis=1)\n",
    "total = len(result)\n",
    "correct = len(result[(result['homeWin'] == result['forecast'])])\n",
    "incorrect = len(result[(result['homeWin'] != result['forecast'])])\n",
    "correct_knn = round((correct / total) * 100, 2)\n",
    "\n",
    "print(correct_knn, total, correct, incorrect)"
   ]
  },
  {
   "cell_type": "markdown",
   "metadata": {},
   "source": [
    "### Gaussian Naive Bayes"
   ]
  },
  {
   "cell_type": "code",
   "execution_count": 39,
   "metadata": {},
   "outputs": [
    {
     "data": {
      "text/plain": [
       "62.609999999999999"
      ]
     },
     "execution_count": 39,
     "metadata": {},
     "output_type": "execute_result"
    }
   ],
   "source": [
    "gaussian = GaussianNB()\n",
    "gaussian.fit(X_train, Y_train)\n",
    "Y_pred = gaussian.predict(X_test)\n",
    "acc_gaussian = round(gaussian.score(X_train, Y_train) * 100, 2)\n",
    "acc_gaussian"
   ]
  },
  {
   "cell_type": "code",
   "execution_count": 40,
   "metadata": {},
   "outputs": [
    {
     "name": "stdout",
     "output_type": "stream",
     "text": [
      "67.9 243 165 78\n"
     ]
    }
   ],
   "source": [
    "result = pd.concat([test, pd.DataFrame(Y_pred, columns=['forecast'])], axis=1)\n",
    "total = len(result)\n",
    "correct = len(result[(result['homeWin'] == result['forecast'])])\n",
    "incorrect = len(result[(result['homeWin'] != result['forecast'])])\n",
    "correct_gaussian = round((correct / total) * 100, 2)\n",
    "\n",
    "print(correct_gaussian, total, correct, incorrect)"
   ]
  },
  {
   "cell_type": "markdown",
   "metadata": {},
   "source": [
    "### Perceptron"
   ]
  },
  {
   "cell_type": "code",
   "execution_count": 41,
   "metadata": {},
   "outputs": [
    {
     "data": {
      "text/plain": [
       "41.840000000000003"
      ]
     },
     "execution_count": 41,
     "metadata": {},
     "output_type": "execute_result"
    }
   ],
   "source": [
    "perceptron = Perceptron(max_iter = 5)\n",
    "perceptron.fit(X_train, Y_train)\n",
    "Y_pred = perceptron.predict(X_test)\n",
    "acc_perceptron = round(perceptron.score(X_train, Y_train) * 100, 2)\n",
    "acc_perceptron"
   ]
  },
  {
   "cell_type": "code",
   "execution_count": 42,
   "metadata": {},
   "outputs": [
    {
     "name": "stdout",
     "output_type": "stream",
     "text": [
      "40.74 243 99 144\n"
     ]
    }
   ],
   "source": [
    "result = pd.concat([test, pd.DataFrame(Y_pred, columns=['forecast'])], axis=1)\n",
    "total = len(result)\n",
    "correct = len(result[(result['homeWin'] == result['forecast'])])\n",
    "incorrect = len(result[(result['homeWin'] != result['forecast'])])\n",
    "correct_perceptron = round((correct / total) * 100, 2)\n",
    "\n",
    "print(correct_perceptron, total, correct, incorrect)"
   ]
  },
  {
   "cell_type": "markdown",
   "metadata": {},
   "source": [
    "### Linear SVC"
   ]
  },
  {
   "cell_type": "code",
   "execution_count": 43,
   "metadata": {},
   "outputs": [
    {
     "data": {
      "text/plain": [
       "58.159999999999997"
      ]
     },
     "execution_count": 43,
     "metadata": {},
     "output_type": "execute_result"
    }
   ],
   "source": [
    "linear_svc = LinearSVC()\n",
    "linear_svc.fit(X_train, Y_train)\n",
    "Y_pred = linear_svc.predict(X_test)\n",
    "acc_linear_svc = round(linear_svc.score(X_train, Y_train) * 100, 2)\n",
    "acc_linear_svc"
   ]
  },
  {
   "cell_type": "code",
   "execution_count": 44,
   "metadata": {},
   "outputs": [
    {
     "name": "stdout",
     "output_type": "stream",
     "text": [
      "59.26 243 144 99\n"
     ]
    }
   ],
   "source": [
    "result = pd.concat([test, pd.DataFrame(Y_pred, columns=['forecast'])], axis=1)\n",
    "total = len(result)\n",
    "correct = len(result[(result['homeWin'] == result['forecast'])])\n",
    "incorrect = len(result[(result['homeWin'] != result['forecast'])])\n",
    "correct_linear_svc = round((correct / total) * 100, 2)\n",
    "\n",
    "print(correct_linear_svc, total, correct, incorrect)"
   ]
  },
  {
   "cell_type": "markdown",
   "metadata": {},
   "source": [
    "### Stochastic Gradient Descent"
   ]
  },
  {
   "cell_type": "code",
   "execution_count": 45,
   "metadata": {},
   "outputs": [
    {
     "data": {
      "text/plain": [
       "58.159999999999997"
      ]
     },
     "execution_count": 45,
     "metadata": {},
     "output_type": "execute_result"
    }
   ],
   "source": [
    "sgd = SGDClassifier(max_iter = 5)\n",
    "sgd.fit(X_train, Y_train)\n",
    "Y_pred = sgd.predict(X_test)\n",
    "acc_sgd = round(sgd.score(X_train, Y_train) * 100, 2)\n",
    "acc_sgd"
   ]
  },
  {
   "cell_type": "code",
   "execution_count": 46,
   "metadata": {},
   "outputs": [
    {
     "name": "stdout",
     "output_type": "stream",
     "text": [
      "59.26 243 144 99\n"
     ]
    }
   ],
   "source": [
    "result = pd.concat([test, pd.DataFrame(Y_pred, columns=['forecast'])], axis=1)\n",
    "total = len(result)\n",
    "correct = len(result[(result['homeWin'] == result['forecast'])])\n",
    "incorrect = len(result[(result['homeWin'] != result['forecast'])])\n",
    "correct_sgd = round((correct / total) * 100, 2)\n",
    "\n",
    "print(correct_sgd, total, correct, incorrect)"
   ]
  },
  {
   "cell_type": "markdown",
   "metadata": {},
   "source": [
    "### Decision Tree"
   ]
  },
  {
   "cell_type": "code",
   "execution_count": 47,
   "metadata": {},
   "outputs": [
    {
     "data": {
      "text/plain": [
       "100.0"
      ]
     },
     "execution_count": 47,
     "metadata": {},
     "output_type": "execute_result"
    }
   ],
   "source": [
    "decision_tree = DecisionTreeClassifier()\n",
    "decision_tree.fit(X_train, Y_train)\n",
    "Y_pred = decision_tree.predict(X_test)\n",
    "acc_decision_tree = round(decision_tree.score(X_train, Y_train) * 100, 2)\n",
    "acc_decision_tree"
   ]
  },
  {
   "cell_type": "code",
   "execution_count": 48,
   "metadata": {},
   "outputs": [
    {
     "name": "stdout",
     "output_type": "stream",
     "text": [
      "58.85 243 143 100\n"
     ]
    }
   ],
   "source": [
    "result = pd.concat([test, pd.DataFrame(Y_pred, columns=['forecast'])], axis=1)\n",
    "total = len(result)\n",
    "correct = len(result[(result['homeWin'] == result['forecast'])])\n",
    "incorrect = len(result[(result['homeWin'] != result['forecast'])])\n",
    "correct_decision_tree = round((correct / total) * 100, 2)\n",
    "\n",
    "print(correct_decision_tree, total, correct, incorrect)"
   ]
  },
  {
   "cell_type": "markdown",
   "metadata": {},
   "source": [
    "### Random Forest"
   ]
  },
  {
   "cell_type": "code",
   "execution_count": 49,
   "metadata": {},
   "outputs": [
    {
     "data": {
      "text/plain": [
       "100.0"
      ]
     },
     "execution_count": 49,
     "metadata": {},
     "output_type": "execute_result"
    }
   ],
   "source": [
    "random_forest = RandomForestClassifier(n_estimators=100)\n",
    "random_forest.fit(X_train, Y_train)\n",
    "Y_pred = random_forest.predict(X_test)\n",
    "random_forest.score(X_train, Y_train)\n",
    "acc_random_forest = round(random_forest.score(X_train, Y_train) * 100, 2)\n",
    "acc_random_forest"
   ]
  },
  {
   "cell_type": "code",
   "execution_count": 50,
   "metadata": {},
   "outputs": [
    {
     "name": "stdout",
     "output_type": "stream",
     "text": [
      "62.96 243 243 153 90\n"
     ]
    }
   ],
   "source": [
    "result = pd.concat([test, pd.DataFrame(Y_pred, columns=['forecast'])], axis=1)\n",
    "total = len(result)\n",
    "correct = len(result[(result['homeWin'] == result['forecast'])])\n",
    "incorrect = len(result[(result['homeWin'] != result['forecast'])])\n",
    "correct_random_forest = round((correct / total) * 100, 2)\n",
    "\n",
    "print(correct_random_forest, len(Y_pred), total, correct, incorrect)"
   ]
  },
  {
   "cell_type": "markdown",
   "metadata": {},
   "source": [
    "## Model Evaluation Results"
   ]
  },
  {
   "cell_type": "code",
   "execution_count": 51,
   "metadata": {},
   "outputs": [
    {
     "data": {
      "text/html": [
       "<div>\n",
       "<style>\n",
       "    .dataframe thead tr:only-child th {\n",
       "        text-align: right;\n",
       "    }\n",
       "\n",
       "    .dataframe thead th {\n",
       "        text-align: left;\n",
       "    }\n",
       "\n",
       "    .dataframe tbody tr th {\n",
       "        vertical-align: top;\n",
       "    }\n",
       "</style>\n",
       "<table border=\"1\" class=\"dataframe\">\n",
       "  <thead>\n",
       "    <tr style=\"text-align: right;\">\n",
       "      <th></th>\n",
       "      <th>Correct</th>\n",
       "      <th>Model</th>\n",
       "      <th>Score</th>\n",
       "    </tr>\n",
       "  </thead>\n",
       "  <tbody>\n",
       "    <tr>\n",
       "      <th>4</th>\n",
       "      <td>67.90</td>\n",
       "      <td>Naive Bayes</td>\n",
       "      <td>62.61</td>\n",
       "    </tr>\n",
       "    <tr>\n",
       "      <th>3</th>\n",
       "      <td>62.96</td>\n",
       "      <td>Random Forest</td>\n",
       "      <td>100.00</td>\n",
       "    </tr>\n",
       "    <tr>\n",
       "      <th>2</th>\n",
       "      <td>61.73</td>\n",
       "      <td>Logistic Regression</td>\n",
       "      <td>67.07</td>\n",
       "    </tr>\n",
       "    <tr>\n",
       "      <th>0</th>\n",
       "      <td>60.91</td>\n",
       "      <td>Support Vector Machines</td>\n",
       "      <td>93.01</td>\n",
       "    </tr>\n",
       "    <tr>\n",
       "      <th>6</th>\n",
       "      <td>59.26</td>\n",
       "      <td>Stochastic Gradient Decent</td>\n",
       "      <td>58.16</td>\n",
       "    </tr>\n",
       "    <tr>\n",
       "      <th>7</th>\n",
       "      <td>59.26</td>\n",
       "      <td>Linear SVC</td>\n",
       "      <td>58.16</td>\n",
       "    </tr>\n",
       "    <tr>\n",
       "      <th>8</th>\n",
       "      <td>58.85</td>\n",
       "      <td>Decision Tree</td>\n",
       "      <td>100.00</td>\n",
       "    </tr>\n",
       "    <tr>\n",
       "      <th>1</th>\n",
       "      <td>58.02</td>\n",
       "      <td>KNN</td>\n",
       "      <td>78.62</td>\n",
       "    </tr>\n",
       "    <tr>\n",
       "      <th>5</th>\n",
       "      <td>40.74</td>\n",
       "      <td>Perceptron</td>\n",
       "      <td>41.84</td>\n",
       "    </tr>\n",
       "  </tbody>\n",
       "</table>\n",
       "</div>"
      ],
      "text/plain": [
       "   Correct                       Model   Score\n",
       "4    67.90                 Naive Bayes   62.61\n",
       "3    62.96               Random Forest  100.00\n",
       "2    61.73         Logistic Regression   67.07\n",
       "0    60.91     Support Vector Machines   93.01\n",
       "6    59.26  Stochastic Gradient Decent   58.16\n",
       "7    59.26                  Linear SVC   58.16\n",
       "8    58.85               Decision Tree  100.00\n",
       "1    58.02                         KNN   78.62\n",
       "5    40.74                  Perceptron   41.84"
      ]
     },
     "execution_count": 51,
     "metadata": {},
     "output_type": "execute_result"
    }
   ],
   "source": [
    "models = pd.DataFrame({\n",
    "    'Score': [acc_svc, acc_knn, acc_log, \n",
    "              acc_random_forest, acc_gaussian, acc_perceptron, \n",
    "              acc_sgd, acc_linear_svc, acc_decision_tree],\n",
    "    'Correct': [correct_svc, correct_knn, correct_log, \n",
    "              correct_random_forest, correct_gaussian, correct_perceptron, \n",
    "              correct_sgd, correct_linear_svc, correct_decision_tree],\n",
    "    'Model': ['Support Vector Machines', 'KNN', 'Logistic Regression', \n",
    "              'Random Forest', 'Naive Bayes', 'Perceptron', \n",
    "              'Stochastic Gradient Decent', 'Linear SVC', \n",
    "              'Decision Tree']})\n",
    "models.sort_values(by='Correct', ascending=False)"
   ]
  },
  {
   "cell_type": "code",
   "execution_count": 52,
   "metadata": {},
   "outputs": [
    {
     "data": {
      "text/html": [
       "<div>\n",
       "<style>\n",
       "    .dataframe thead tr:only-child th {\n",
       "        text-align: right;\n",
       "    }\n",
       "\n",
       "    .dataframe thead th {\n",
       "        text-align: left;\n",
       "    }\n",
       "\n",
       "    .dataframe tbody tr th {\n",
       "        vertical-align: top;\n",
       "    }\n",
       "</style>\n",
       "<table border=\"1\" class=\"dataframe\">\n",
       "  <thead>\n",
       "    <tr style=\"text-align: right;\">\n",
       "      <th></th>\n",
       "      <th>id</th>\n",
       "      <th>oddsBet365Away</th>\n",
       "      <th>oddsBet365Home</th>\n",
       "      <th>season</th>\n",
       "      <th>gamesPlayedHome</th>\n",
       "      <th>gamesPlayedAway</th>\n",
       "      <th>totalGamesHome</th>\n",
       "      <th>totalWinsHome</th>\n",
       "      <th>homeGamesHome</th>\n",
       "      <th>homeWinsHome</th>\n",
       "      <th>...</th>\n",
       "      <th>lastGame2WinAway</th>\n",
       "      <th>lastGame2AtHomeAway</th>\n",
       "      <th>lastGame3WinAway</th>\n",
       "      <th>lastGame3AtHomeAway</th>\n",
       "      <th>lastGame4WinAway</th>\n",
       "      <th>lastGame4AtHomeAway</th>\n",
       "      <th>lastGame5WinAway</th>\n",
       "      <th>lastGame5AtHomeAway</th>\n",
       "      <th>homeWin</th>\n",
       "      <th>forecast</th>\n",
       "    </tr>\n",
       "  </thead>\n",
       "  <tbody>\n",
       "    <tr>\n",
       "      <th>193</th>\n",
       "      <td>34992</td>\n",
       "      <td>1.50</td>\n",
       "      <td>2.70</td>\n",
       "      <td>2016</td>\n",
       "      <td>70</td>\n",
       "      <td>71</td>\n",
       "      <td>69</td>\n",
       "      <td>13</td>\n",
       "      <td>35</td>\n",
       "      <td>8</td>\n",
       "      <td>...</td>\n",
       "      <td>False</td>\n",
       "      <td>False</td>\n",
       "      <td>False</td>\n",
       "      <td>False</td>\n",
       "      <td>True</td>\n",
       "      <td>True</td>\n",
       "      <td>True</td>\n",
       "      <td>False</td>\n",
       "      <td>True</td>\n",
       "      <td>False</td>\n",
       "    </tr>\n",
       "    <tr>\n",
       "      <th>133</th>\n",
       "      <td>34692</td>\n",
       "      <td>2.10</td>\n",
       "      <td>1.76</td>\n",
       "      <td>2016</td>\n",
       "      <td>49</td>\n",
       "      <td>49</td>\n",
       "      <td>47</td>\n",
       "      <td>21</td>\n",
       "      <td>24</td>\n",
       "      <td>12</td>\n",
       "      <td>...</td>\n",
       "      <td>True</td>\n",
       "      <td>False</td>\n",
       "      <td>False</td>\n",
       "      <td>False</td>\n",
       "      <td>True</td>\n",
       "      <td>True</td>\n",
       "      <td>False</td>\n",
       "      <td>False</td>\n",
       "      <td>True</td>\n",
       "      <td>False</td>\n",
       "    </tr>\n",
       "    <tr>\n",
       "      <th>75</th>\n",
       "      <td>34334</td>\n",
       "      <td>2.80</td>\n",
       "      <td>1.45</td>\n",
       "      <td>2016</td>\n",
       "      <td>28</td>\n",
       "      <td>26</td>\n",
       "      <td>27</td>\n",
       "      <td>18</td>\n",
       "      <td>15</td>\n",
       "      <td>11</td>\n",
       "      <td>...</td>\n",
       "      <td>True</td>\n",
       "      <td>True</td>\n",
       "      <td>False</td>\n",
       "      <td>False</td>\n",
       "      <td>False</td>\n",
       "      <td>True</td>\n",
       "      <td>True</td>\n",
       "      <td>True</td>\n",
       "      <td>False</td>\n",
       "      <td>True</td>\n",
       "    </tr>\n",
       "    <tr>\n",
       "      <th>115</th>\n",
       "      <td>34601</td>\n",
       "      <td>1.07</td>\n",
       "      <td>9.50</td>\n",
       "      <td>2016</td>\n",
       "      <td>46</td>\n",
       "      <td>44</td>\n",
       "      <td>45</td>\n",
       "      <td>18</td>\n",
       "      <td>21</td>\n",
       "      <td>8</td>\n",
       "      <td>...</td>\n",
       "      <td>True</td>\n",
       "      <td>False</td>\n",
       "      <td>True</td>\n",
       "      <td>False</td>\n",
       "      <td>True</td>\n",
       "      <td>False</td>\n",
       "      <td>False</td>\n",
       "      <td>False</td>\n",
       "      <td>False</td>\n",
       "      <td>True</td>\n",
       "    </tr>\n",
       "    <tr>\n",
       "      <th>106</th>\n",
       "      <td>34566</td>\n",
       "      <td>2.05</td>\n",
       "      <td>1.80</td>\n",
       "      <td>2016</td>\n",
       "      <td>46</td>\n",
       "      <td>40</td>\n",
       "      <td>46</td>\n",
       "      <td>15</td>\n",
       "      <td>22</td>\n",
       "      <td>10</td>\n",
       "      <td>...</td>\n",
       "      <td>True</td>\n",
       "      <td>True</td>\n",
       "      <td>False</td>\n",
       "      <td>False</td>\n",
       "      <td>False</td>\n",
       "      <td>False</td>\n",
       "      <td>True</td>\n",
       "      <td>True</td>\n",
       "      <td>False</td>\n",
       "      <td>True</td>\n",
       "    </tr>\n",
       "    <tr>\n",
       "      <th>186</th>\n",
       "      <td>34957</td>\n",
       "      <td>2.45</td>\n",
       "      <td>1.60</td>\n",
       "      <td>2016</td>\n",
       "      <td>68</td>\n",
       "      <td>69</td>\n",
       "      <td>67</td>\n",
       "      <td>37</td>\n",
       "      <td>34</td>\n",
       "      <td>19</td>\n",
       "      <td>...</td>\n",
       "      <td>True</td>\n",
       "      <td>False</td>\n",
       "      <td>True</td>\n",
       "      <td>False</td>\n",
       "      <td>False</td>\n",
       "      <td>False</td>\n",
       "      <td>False</td>\n",
       "      <td>False</td>\n",
       "      <td>False</td>\n",
       "      <td>True</td>\n",
       "    </tr>\n",
       "    <tr>\n",
       "      <th>221</th>\n",
       "      <td>35099</td>\n",
       "      <td>2.70</td>\n",
       "      <td>1.50</td>\n",
       "      <td>2016</td>\n",
       "      <td>77</td>\n",
       "      <td>78</td>\n",
       "      <td>76</td>\n",
       "      <td>43</td>\n",
       "      <td>39</td>\n",
       "      <td>27</td>\n",
       "      <td>...</td>\n",
       "      <td>False</td>\n",
       "      <td>False</td>\n",
       "      <td>False</td>\n",
       "      <td>True</td>\n",
       "      <td>False</td>\n",
       "      <td>True</td>\n",
       "      <td>False</td>\n",
       "      <td>False</td>\n",
       "      <td>True</td>\n",
       "      <td>False</td>\n",
       "    </tr>\n",
       "    <tr>\n",
       "      <th>49</th>\n",
       "      <td>34230</td>\n",
       "      <td>2.25</td>\n",
       "      <td>1.68</td>\n",
       "      <td>2016</td>\n",
       "      <td>19</td>\n",
       "      <td>20</td>\n",
       "      <td>18</td>\n",
       "      <td>7</td>\n",
       "      <td>9</td>\n",
       "      <td>3</td>\n",
       "      <td>...</td>\n",
       "      <td>True</td>\n",
       "      <td>True</td>\n",
       "      <td>False</td>\n",
       "      <td>True</td>\n",
       "      <td>False</td>\n",
       "      <td>True</td>\n",
       "      <td>False</td>\n",
       "      <td>False</td>\n",
       "      <td>False</td>\n",
       "      <td>True</td>\n",
       "    </tr>\n",
       "    <tr>\n",
       "      <th>63</th>\n",
       "      <td>34276</td>\n",
       "      <td>1.64</td>\n",
       "      <td>2.35</td>\n",
       "      <td>2016</td>\n",
       "      <td>22</td>\n",
       "      <td>23</td>\n",
       "      <td>20</td>\n",
       "      <td>11</td>\n",
       "      <td>8</td>\n",
       "      <td>5</td>\n",
       "      <td>...</td>\n",
       "      <td>False</td>\n",
       "      <td>True</td>\n",
       "      <td>False</td>\n",
       "      <td>True</td>\n",
       "      <td>False</td>\n",
       "      <td>True</td>\n",
       "      <td>True</td>\n",
       "      <td>False</td>\n",
       "      <td>True</td>\n",
       "      <td>False</td>\n",
       "    </tr>\n",
       "    <tr>\n",
       "      <th>152</th>\n",
       "      <td>34775</td>\n",
       "      <td>3.00</td>\n",
       "      <td>1.41</td>\n",
       "      <td>2016</td>\n",
       "      <td>55</td>\n",
       "      <td>56</td>\n",
       "      <td>53</td>\n",
       "      <td>37</td>\n",
       "      <td>28</td>\n",
       "      <td>23</td>\n",
       "      <td>...</td>\n",
       "      <td>False</td>\n",
       "      <td>False</td>\n",
       "      <td>False</td>\n",
       "      <td>False</td>\n",
       "      <td>True</td>\n",
       "      <td>True</td>\n",
       "      <td>True</td>\n",
       "      <td>False</td>\n",
       "      <td>True</td>\n",
       "      <td>False</td>\n",
       "    </tr>\n",
       "  </tbody>\n",
       "</table>\n",
       "<p>10 rows × 46 columns</p>\n",
       "</div>"
      ],
      "text/plain": [
       "        id  oddsBet365Away  oddsBet365Home  season  gamesPlayedHome  \\\n",
       "193  34992            1.50            2.70    2016               70   \n",
       "133  34692            2.10            1.76    2016               49   \n",
       "75   34334            2.80            1.45    2016               28   \n",
       "115  34601            1.07            9.50    2016               46   \n",
       "106  34566            2.05            1.80    2016               46   \n",
       "186  34957            2.45            1.60    2016               68   \n",
       "221  35099            2.70            1.50    2016               77   \n",
       "49   34230            2.25            1.68    2016               19   \n",
       "63   34276            1.64            2.35    2016               22   \n",
       "152  34775            3.00            1.41    2016               55   \n",
       "\n",
       "     gamesPlayedAway totalGamesHome totalWinsHome homeGamesHome homeWinsHome  \\\n",
       "193               71             69            13            35            8   \n",
       "133               49             47            21            24           12   \n",
       "75                26             27            18            15           11   \n",
       "115               44             45            18            21            8   \n",
       "106               40             46            15            22           10   \n",
       "186               69             67            37            34           19   \n",
       "221               78             76            43            39           27   \n",
       "49                20             18             7             9            3   \n",
       "63                23             20            11             8            5   \n",
       "152               56             53            37            28           23   \n",
       "\n",
       "      ...    lastGame2WinAway lastGame2AtHomeAway lastGame3WinAway  \\\n",
       "193   ...               False               False            False   \n",
       "133   ...                True               False            False   \n",
       "75    ...                True                True            False   \n",
       "115   ...                True               False             True   \n",
       "106   ...                True                True            False   \n",
       "186   ...                True               False             True   \n",
       "221   ...               False               False            False   \n",
       "49    ...                True                True            False   \n",
       "63    ...               False                True            False   \n",
       "152   ...               False               False            False   \n",
       "\n",
       "    lastGame3AtHomeAway lastGame4WinAway lastGame4AtHomeAway lastGame5WinAway  \\\n",
       "193               False             True                True             True   \n",
       "133               False             True                True            False   \n",
       "75                False            False                True             True   \n",
       "115               False             True               False            False   \n",
       "106               False            False               False             True   \n",
       "186               False            False               False            False   \n",
       "221                True            False                True            False   \n",
       "49                 True            False                True            False   \n",
       "63                 True            False                True             True   \n",
       "152               False             True                True             True   \n",
       "\n",
       "    lastGame5AtHomeAway homeWin forecast  \n",
       "193               False    True    False  \n",
       "133               False    True    False  \n",
       "75                 True   False     True  \n",
       "115               False   False     True  \n",
       "106                True   False     True  \n",
       "186               False   False     True  \n",
       "221               False    True    False  \n",
       "49                False   False     True  \n",
       "63                False    True    False  \n",
       "152               False    True    False  \n",
       "\n",
       "[10 rows x 46 columns]"
      ]
     },
     "execution_count": 52,
     "metadata": {},
     "output_type": "execute_result"
    }
   ],
   "source": [
    "result[(result['homeWin'] != result['forecast'])].sample(10)"
   ]
  },
  {
   "cell_type": "code",
   "execution_count": 56,
   "metadata": {},
   "outputs": [
    {
     "data": {
      "text/html": [
       "<div>\n",
       "<style>\n",
       "    .dataframe thead tr:only-child th {\n",
       "        text-align: right;\n",
       "    }\n",
       "\n",
       "    .dataframe thead th {\n",
       "        text-align: left;\n",
       "    }\n",
       "\n",
       "    .dataframe tbody tr th {\n",
       "        vertical-align: top;\n",
       "    }\n",
       "</style>\n",
       "<table border=\"1\" class=\"dataframe\">\n",
       "  <thead>\n",
       "    <tr style=\"text-align: right;\">\n",
       "      <th></th>\n",
       "      <th>id</th>\n",
       "      <th>oddsBet365Away</th>\n",
       "      <th>oddsBet365Home</th>\n",
       "      <th>season</th>\n",
       "      <th>gamesPlayedHome</th>\n",
       "      <th>gamesPlayedAway</th>\n",
       "      <th>totalGamesHome</th>\n",
       "      <th>totalWinsHome</th>\n",
       "      <th>homeGamesHome</th>\n",
       "      <th>homeWinsHome</th>\n",
       "      <th>...</th>\n",
       "      <th>lastGame2WinAway</th>\n",
       "      <th>lastGame2AtHomeAway</th>\n",
       "      <th>lastGame3WinAway</th>\n",
       "      <th>lastGame3AtHomeAway</th>\n",
       "      <th>lastGame4WinAway</th>\n",
       "      <th>lastGame4AtHomeAway</th>\n",
       "      <th>lastGame5WinAway</th>\n",
       "      <th>lastGame5AtHomeAway</th>\n",
       "      <th>homeWin</th>\n",
       "      <th>forecast</th>\n",
       "    </tr>\n",
       "  </thead>\n",
       "  <tbody>\n",
       "    <tr>\n",
       "      <th>115</th>\n",
       "      <td>34601</td>\n",
       "      <td>1.07</td>\n",
       "      <td>9.5</td>\n",
       "      <td>2016</td>\n",
       "      <td>46</td>\n",
       "      <td>44</td>\n",
       "      <td>45</td>\n",
       "      <td>18</td>\n",
       "      <td>21</td>\n",
       "      <td>8</td>\n",
       "      <td>...</td>\n",
       "      <td>True</td>\n",
       "      <td>False</td>\n",
       "      <td>True</td>\n",
       "      <td>False</td>\n",
       "      <td>True</td>\n",
       "      <td>False</td>\n",
       "      <td>False</td>\n",
       "      <td>False</td>\n",
       "      <td>False</td>\n",
       "      <td>True</td>\n",
       "    </tr>\n",
       "  </tbody>\n",
       "</table>\n",
       "<p>1 rows × 46 columns</p>\n",
       "</div>"
      ],
      "text/plain": [
       "        id  oddsBet365Away  oddsBet365Home  season  gamesPlayedHome  \\\n",
       "115  34601            1.07             9.5    2016               46   \n",
       "\n",
       "     gamesPlayedAway totalGamesHome totalWinsHome homeGamesHome homeWinsHome  \\\n",
       "115               44             45            18            21            8   \n",
       "\n",
       "      ...    lastGame2WinAway lastGame2AtHomeAway lastGame3WinAway  \\\n",
       "115   ...                True               False             True   \n",
       "\n",
       "    lastGame3AtHomeAway lastGame4WinAway lastGame4AtHomeAway lastGame5WinAway  \\\n",
       "115               False             True               False            False   \n",
       "\n",
       "    lastGame5AtHomeAway homeWin forecast  \n",
       "115               False   False     True  \n",
       "\n",
       "[1 rows x 46 columns]"
      ]
     },
     "execution_count": 56,
     "metadata": {},
     "output_type": "execute_result"
    }
   ],
   "source": [
    "result[(result['id'] == 33946) | (result['id'] == 34601)]"
   ]
  },
  {
   "cell_type": "code",
   "execution_count": 55,
   "metadata": {},
   "outputs": [
    {
     "data": {
      "text/html": [
       "<div>\n",
       "<style>\n",
       "    .dataframe thead tr:only-child th {\n",
       "        text-align: right;\n",
       "    }\n",
       "\n",
       "    .dataframe thead th {\n",
       "        text-align: left;\n",
       "    }\n",
       "\n",
       "    .dataframe tbody tr th {\n",
       "        vertical-align: top;\n",
       "    }\n",
       "</style>\n",
       "<table border=\"1\" class=\"dataframe\">\n",
       "  <thead>\n",
       "    <tr style=\"text-align: right;\">\n",
       "      <th></th>\n",
       "      <th>id</th>\n",
       "      <th>oddsBet365Away</th>\n",
       "      <th>oddsBet365Home</th>\n",
       "      <th>season</th>\n",
       "      <th>gamesPlayedHome</th>\n",
       "      <th>gamesPlayedAway</th>\n",
       "      <th>totalGamesHome</th>\n",
       "      <th>totalWinsHome</th>\n",
       "      <th>homeGamesHome</th>\n",
       "      <th>homeWinsHome</th>\n",
       "      <th>...</th>\n",
       "      <th>lastGame1AtHomeAway</th>\n",
       "      <th>lastGame2WinAway</th>\n",
       "      <th>lastGame2AtHomeAway</th>\n",
       "      <th>lastGame3WinAway</th>\n",
       "      <th>lastGame3AtHomeAway</th>\n",
       "      <th>lastGame4WinAway</th>\n",
       "      <th>lastGame4AtHomeAway</th>\n",
       "      <th>lastGame5WinAway</th>\n",
       "      <th>lastGame5AtHomeAway</th>\n",
       "      <th>homeWin</th>\n",
       "    </tr>\n",
       "  </thead>\n",
       "  <tbody>\n",
       "    <tr>\n",
       "      <th>5</th>\n",
       "      <td>33946</td>\n",
       "      <td>10.50</td>\n",
       "      <td>1.06</td>\n",
       "      <td>2016</td>\n",
       "      <td>1</td>\n",
       "      <td>1</td>\n",
       "      <td>0</td>\n",
       "      <td>0</td>\n",
       "      <td>0</td>\n",
       "      <td>0</td>\n",
       "      <td>...</td>\n",
       "      <td>True</td>\n",
       "      <td>True</td>\n",
       "      <td>True</td>\n",
       "      <td>True</td>\n",
       "      <td>True</td>\n",
       "      <td>True</td>\n",
       "      <td>True</td>\n",
       "      <td>True</td>\n",
       "      <td>True</td>\n",
       "      <td>True</td>\n",
       "    </tr>\n",
       "    <tr>\n",
       "      <th>657</th>\n",
       "      <td>34601</td>\n",
       "      <td>1.07</td>\n",
       "      <td>9.50</td>\n",
       "      <td>2016</td>\n",
       "      <td>46</td>\n",
       "      <td>44</td>\n",
       "      <td>45</td>\n",
       "      <td>18</td>\n",
       "      <td>21</td>\n",
       "      <td>8</td>\n",
       "      <td>...</td>\n",
       "      <td>True</td>\n",
       "      <td>True</td>\n",
       "      <td>False</td>\n",
       "      <td>True</td>\n",
       "      <td>False</td>\n",
       "      <td>True</td>\n",
       "      <td>False</td>\n",
       "      <td>False</td>\n",
       "      <td>False</td>\n",
       "      <td>False</td>\n",
       "    </tr>\n",
       "  </tbody>\n",
       "</table>\n",
       "<p>2 rows × 45 columns</p>\n",
       "</div>"
      ],
      "text/plain": [
       "        id  oddsBet365Away  oddsBet365Home  season  gamesPlayedHome  \\\n",
       "5    33946           10.50            1.06    2016                1   \n",
       "657  34601            1.07            9.50    2016               46   \n",
       "\n",
       "     gamesPlayedAway totalGamesHome totalWinsHome homeGamesHome homeWinsHome  \\\n",
       "5                  1              0             0             0            0   \n",
       "657               44             45            18            21            8   \n",
       "\n",
       "      ...   lastGame1AtHomeAway lastGame2WinAway lastGame2AtHomeAway  \\\n",
       "5     ...                  True             True                True   \n",
       "657   ...                  True             True               False   \n",
       "\n",
       "    lastGame3WinAway lastGame3AtHomeAway lastGame4WinAway lastGame4AtHomeAway  \\\n",
       "5               True                True             True                True   \n",
       "657             True               False             True               False   \n",
       "\n",
       "    lastGame5WinAway lastGame5AtHomeAway homeWin  \n",
       "5               True                True    True  \n",
       "657            False               False   False  \n",
       "\n",
       "[2 rows x 45 columns]"
      ]
     },
     "execution_count": 55,
     "metadata": {},
     "output_type": "execute_result"
    }
   ],
   "source": [
    "games[(games['id'] == 33946) | (games['id'] == 34601)]"
   ]
  },
  {
   "cell_type": "code",
   "execution_count": null,
   "metadata": {
    "collapsed": true
   },
   "outputs": [],
   "source": []
  }
 ],
 "metadata": {
  "kernelspec": {
   "display_name": "Python 3",
   "language": "python",
   "name": "python3"
  },
  "language_info": {
   "codemirror_mode": {
    "name": "ipython",
    "version": 3
   },
   "file_extension": ".py",
   "mimetype": "text/x-python",
   "name": "python",
   "nbconvert_exporter": "python",
   "pygments_lexer": "ipython3",
   "version": "3.6.3"
  }
 },
 "nbformat": 4,
 "nbformat_minor": 2
}

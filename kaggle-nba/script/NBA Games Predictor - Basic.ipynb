{
 "cells": [
  {
   "cell_type": "markdown",
   "metadata": {},
   "source": [
    "# NBA Games Predictor - Basic\n",
    "\n",
    "This notebook takes all the regular season games from the NBA 2016-17 season.  Using a series of regression & supervised learning techniques, it attempts to accurately predict the outcome of basketball games."
   ]
  },
  {
   "cell_type": "code",
   "execution_count": 1,
   "metadata": {
    "collapsed": true
   },
   "outputs": [],
   "source": [
    "import json \n",
    "import pandas as pd\n",
    "import numpy as np \n",
    "import geopy.distance\n",
    "\n",
    "#package for flattening json in pandas df\n",
    "from pandas.io.json import json_normalize"
   ]
  },
  {
   "cell_type": "code",
   "execution_count": 2,
   "metadata": {
    "collapsed": true
   },
   "outputs": [],
   "source": [
    "# machine learning\n",
    "from sklearn.linear_model import LogisticRegression\n",
    "from sklearn.svm import SVC, LinearSVC\n",
    "from sklearn.ensemble import RandomForestClassifier\n",
    "from sklearn.neighbors import KNeighborsClassifier\n",
    "from sklearn.naive_bayes import GaussianNB\n",
    "from sklearn.linear_model import Perceptron\n",
    "from sklearn.linear_model import SGDClassifier\n",
    "from sklearn.tree import DecisionTreeClassifier"
   ]
  },
  {
   "cell_type": "markdown",
   "metadata": {},
   "source": [
    "## Configuration"
   ]
  },
  {
   "cell_type": "code",
   "execution_count": 3,
   "metadata": {
    "collapsed": true
   },
   "outputs": [],
   "source": [
    "use_parsed_data = True\n",
    "output_parsed_data_filename = '../input/parsed_data.csv'\n",
    "\n",
    "calc_last_5_games = True\n",
    "calc_win_loss = True\n",
    "calc_win_loss_write_all = True\n",
    "calc_ratings = True\n",
    "use_team_keys = False\n",
    "use_team_hot_encoding = False\n",
    "use_team_home_away_hot_encoding = False"
   ]
  },
  {
   "cell_type": "markdown",
   "metadata": {},
   "source": [
    "## Load data from file system"
   ]
  },
  {
   "cell_type": "code",
   "execution_count": 4,
   "metadata": {},
   "outputs": [
    {
     "name": "stderr",
     "output_type": "stream",
     "text": [
      "/Users/jkentjnr/anaconda3/lib/python3.6/site-packages/IPython/core/interactiveshell.py:2698: DtypeWarning: Columns (2) have mixed types. Specify dtype option on import or set low_memory=False.\n",
      "  interactivity=interactivity, compiler=compiler, result=result)\n"
     ]
    }
   ],
   "source": [
    "#load games - json object\n",
    "if use_parsed_data == True:\n",
    "    games = pd.read_csv(output_parsed_data_filename)\n",
    "    games = games.drop(['Unnamed: 0'], axis=1)\n",
    "else:\n",
    "    with open('../input/games.json') as gamesJsonRaw:\n",
    "        d = json.load(gamesJsonRaw)\n",
    "\n",
    "    games = json_normalize(d['games'])"
   ]
  },
  {
   "cell_type": "code",
   "execution_count": 5,
   "metadata": {},
   "outputs": [
    {
     "data": {
      "text/html": [
       "<div>\n",
       "<style>\n",
       "    .dataframe thead tr:only-child th {\n",
       "        text-align: right;\n",
       "    }\n",
       "\n",
       "    .dataframe thead th {\n",
       "        text-align: left;\n",
       "    }\n",
       "\n",
       "    .dataframe tbody tr th {\n",
       "        vertical-align: top;\n",
       "    }\n",
       "</style>\n",
       "<table border=\"1\" class=\"dataframe\">\n",
       "  <thead>\n",
       "    <tr style=\"text-align: right;\">\n",
       "      <th></th>\n",
       "      <th>id</th>\n",
       "      <th>location</th>\n",
       "      <th>oddsBet365Away</th>\n",
       "      <th>oddsBet365Home</th>\n",
       "      <th>scoreAway</th>\n",
       "      <th>scoreHome</th>\n",
       "      <th>scoreQuarters</th>\n",
       "      <th>season</th>\n",
       "      <th>statsAway.Ast</th>\n",
       "      <th>statsAway.Blk</th>\n",
       "      <th>...</th>\n",
       "      <th>statsHome.seasonDefensiveRating</th>\n",
       "      <th>statsHome.last5DefensiveRating</th>\n",
       "      <th>statsAway.seasonTotalPossessions</th>\n",
       "      <th>statsAway.last5TotalPossessions</th>\n",
       "      <th>statsAway.seasonTotalPoints</th>\n",
       "      <th>statsAway.last5TotalPoints</th>\n",
       "      <th>statsAway.seasonOffensiveRating</th>\n",
       "      <th>statsAway.last5OffensiveRating</th>\n",
       "      <th>statsAway.seasonDefensiveRating</th>\n",
       "      <th>statsAway.last5DefensiveRating</th>\n",
       "    </tr>\n",
       "  </thead>\n",
       "  <tbody>\n",
       "    <tr>\n",
       "      <th>3357</th>\n",
       "      <td>201003030ATL</td>\n",
       "      <td>NaN</td>\n",
       "      <td>4.50</td>\n",
       "      <td>1.22</td>\n",
       "      <td>93</td>\n",
       "      <td>112</td>\n",
       "      <td>[{'number': 1, 'scoreHome': 32, 'scoreAway': 2...</td>\n",
       "      <td>2009</td>\n",
       "      <td>23</td>\n",
       "      <td>5</td>\n",
       "      <td>...</td>\n",
       "      <td>120.15</td>\n",
       "      <td>120.15</td>\n",
       "      <td>0.0</td>\n",
       "      <td>0.0</td>\n",
       "      <td>0</td>\n",
       "      <td>0</td>\n",
       "      <td>0.00</td>\n",
       "      <td>0.00</td>\n",
       "      <td>0.00</td>\n",
       "      <td>0.00</td>\n",
       "    </tr>\n",
       "    <tr>\n",
       "      <th>3896</th>\n",
       "      <td>201011140NYK</td>\n",
       "      <td>NaN</td>\n",
       "      <td>2.25</td>\n",
       "      <td>1.68</td>\n",
       "      <td>104</td>\n",
       "      <td>96</td>\n",
       "      <td>[{'number': 1, 'scoreHome': 27, 'scoreAway': 2...</td>\n",
       "      <td>2010</td>\n",
       "      <td>28</td>\n",
       "      <td>1</td>\n",
       "      <td>...</td>\n",
       "      <td>109.79</td>\n",
       "      <td>111.98</td>\n",
       "      <td>4415.8</td>\n",
       "      <td>480.6</td>\n",
       "      <td>4907</td>\n",
       "      <td>535</td>\n",
       "      <td>111.12</td>\n",
       "      <td>111.32</td>\n",
       "      <td>108.54</td>\n",
       "      <td>108.41</td>\n",
       "    </tr>\n",
       "    <tr>\n",
       "      <th>3258</th>\n",
       "      <td>201002170TOR</td>\n",
       "      <td>NaN</td>\n",
       "      <td>3.40</td>\n",
       "      <td>1.33</td>\n",
       "      <td>109</td>\n",
       "      <td>102</td>\n",
       "      <td>[{'number': 1, 'scoreHome': 16, 'scoreAway': 2...</td>\n",
       "      <td>2009</td>\n",
       "      <td>22</td>\n",
       "      <td>6</td>\n",
       "      <td>...</td>\n",
       "      <td>111.13</td>\n",
       "      <td>109.09</td>\n",
       "      <td>647.2</td>\n",
       "      <td>451.2</td>\n",
       "      <td>669</td>\n",
       "      <td>478</td>\n",
       "      <td>103.37</td>\n",
       "      <td>105.94</td>\n",
       "      <td>111.25</td>\n",
       "      <td>114.80</td>\n",
       "    </tr>\n",
       "    <tr>\n",
       "      <th>1453</th>\n",
       "      <td>34164</td>\n",
       "      <td>Sleep Train Arena</td>\n",
       "      <td>2.25</td>\n",
       "      <td>1.68</td>\n",
       "      <td>101</td>\n",
       "      <td>116</td>\n",
       "      <td>[{'number': 1, 'scoreHome': 27, 'scoreAway': 2...</td>\n",
       "      <td>2016</td>\n",
       "      <td>18</td>\n",
       "      <td>7</td>\n",
       "      <td>...</td>\n",
       "      <td>113.58</td>\n",
       "      <td>114.36</td>\n",
       "      <td>4377.4</td>\n",
       "      <td>467.4</td>\n",
       "      <td>5143</td>\n",
       "      <td>567</td>\n",
       "      <td>117.49</td>\n",
       "      <td>121.31</td>\n",
       "      <td>112.65</td>\n",
       "      <td>115.96</td>\n",
       "    </tr>\n",
       "    <tr>\n",
       "      <th>960</th>\n",
       "      <td>32137</td>\n",
       "      <td>TD Garden</td>\n",
       "      <td>3.10</td>\n",
       "      <td>1.40</td>\n",
       "      <td>102</td>\n",
       "      <td>98</td>\n",
       "      <td>[{'number': 1, 'scoreHome': 23, 'scoreAway': 1...</td>\n",
       "      <td>2015</td>\n",
       "      <td>19</td>\n",
       "      <td>3</td>\n",
       "      <td>...</td>\n",
       "      <td>108.35</td>\n",
       "      <td>119.45</td>\n",
       "      <td>3453.4</td>\n",
       "      <td>464.0</td>\n",
       "      <td>4040</td>\n",
       "      <td>586</td>\n",
       "      <td>116.99</td>\n",
       "      <td>126.29</td>\n",
       "      <td>112.24</td>\n",
       "      <td>105.60</td>\n",
       "    </tr>\n",
       "  </tbody>\n",
       "</table>\n",
       "<p>5 rows × 141 columns</p>\n",
       "</div>"
      ],
      "text/plain": [
       "                id           location  oddsBet365Away  oddsBet365Home  \\\n",
       "3357  201003030ATL                NaN            4.50            1.22   \n",
       "3896  201011140NYK                NaN            2.25            1.68   \n",
       "3258  201002170TOR                NaN            3.40            1.33   \n",
       "1453         34164  Sleep Train Arena            2.25            1.68   \n",
       "960          32137          TD Garden            3.10            1.40   \n",
       "\n",
       "      scoreAway  scoreHome                                      scoreQuarters  \\\n",
       "3357         93        112  [{'number': 1, 'scoreHome': 32, 'scoreAway': 2...   \n",
       "3896        104         96  [{'number': 1, 'scoreHome': 27, 'scoreAway': 2...   \n",
       "3258        109        102  [{'number': 1, 'scoreHome': 16, 'scoreAway': 2...   \n",
       "1453        101        116  [{'number': 1, 'scoreHome': 27, 'scoreAway': 2...   \n",
       "960         102         98  [{'number': 1, 'scoreHome': 23, 'scoreAway': 1...   \n",
       "\n",
       "      season  statsAway.Ast  statsAway.Blk               ...                \\\n",
       "3357    2009             23              5               ...                 \n",
       "3896    2010             28              1               ...                 \n",
       "3258    2009             22              6               ...                 \n",
       "1453    2016             18              7               ...                 \n",
       "960     2015             19              3               ...                 \n",
       "\n",
       "      statsHome.seasonDefensiveRating  statsHome.last5DefensiveRating  \\\n",
       "3357                           120.15                          120.15   \n",
       "3896                           109.79                          111.98   \n",
       "3258                           111.13                          109.09   \n",
       "1453                           113.58                          114.36   \n",
       "960                            108.35                          119.45   \n",
       "\n",
       "      statsAway.seasonTotalPossessions  statsAway.last5TotalPossessions  \\\n",
       "3357                               0.0                              0.0   \n",
       "3896                            4415.8                            480.6   \n",
       "3258                             647.2                            451.2   \n",
       "1453                            4377.4                            467.4   \n",
       "960                             3453.4                            464.0   \n",
       "\n",
       "      statsAway.seasonTotalPoints  statsAway.last5TotalPoints  \\\n",
       "3357                            0                           0   \n",
       "3896                         4907                         535   \n",
       "3258                          669                         478   \n",
       "1453                         5143                         567   \n",
       "960                          4040                         586   \n",
       "\n",
       "      statsAway.seasonOffensiveRating  statsAway.last5OffensiveRating  \\\n",
       "3357                             0.00                            0.00   \n",
       "3896                           111.12                          111.32   \n",
       "3258                           103.37                          105.94   \n",
       "1453                           117.49                          121.31   \n",
       "960                            116.99                          126.29   \n",
       "\n",
       "      statsAway.seasonDefensiveRating  statsAway.last5DefensiveRating  \n",
       "3357                             0.00                            0.00  \n",
       "3896                           108.54                          108.41  \n",
       "3258                           111.25                          114.80  \n",
       "1453                           112.65                          115.96  \n",
       "960                            112.24                          105.60  \n",
       "\n",
       "[5 rows x 141 columns]"
      ]
     },
     "execution_count": 5,
     "metadata": {},
     "output_type": "execute_result"
    }
   ],
   "source": [
    "games.sample(5)"
   ]
  },
  {
   "cell_type": "code",
   "execution_count": 6,
   "metadata": {
    "collapsed": true
   },
   "outputs": [],
   "source": [
    "#load stadiums - json object\n",
    "with open('../input/stadiums.json') as stadiumsJsonRaw:\n",
    "    stadiumsJson = json.load(stadiumsJsonRaw)\n",
    "\n",
    "stadiums = json_normalize(stadiumsJson['stadiums'])"
   ]
  },
  {
   "cell_type": "code",
   "execution_count": 7,
   "metadata": {},
   "outputs": [
    {
     "data": {
      "text/html": [
       "<div>\n",
       "<style>\n",
       "    .dataframe thead tr:only-child th {\n",
       "        text-align: right;\n",
       "    }\n",
       "\n",
       "    .dataframe thead th {\n",
       "        text-align: left;\n",
       "    }\n",
       "\n",
       "    .dataframe tbody tr th {\n",
       "        vertical-align: top;\n",
       "    }\n",
       "</style>\n",
       "<table border=\"1\" class=\"dataframe\">\n",
       "  <thead>\n",
       "    <tr style=\"text-align: right;\">\n",
       "      <th></th>\n",
       "      <th>lat</th>\n",
       "      <th>lng</th>\n",
       "      <th>team</th>\n",
       "    </tr>\n",
       "  </thead>\n",
       "  <tbody>\n",
       "    <tr>\n",
       "      <th>0</th>\n",
       "      <td>33.757183</td>\n",
       "      <td>-84.396278</td>\n",
       "      <td>ATL</td>\n",
       "    </tr>\n",
       "    <tr>\n",
       "      <th>1</th>\n",
       "      <td>42.366281</td>\n",
       "      <td>-71.062266</td>\n",
       "      <td>BOS</td>\n",
       "    </tr>\n",
       "    <tr>\n",
       "      <th>2</th>\n",
       "      <td>40.682650</td>\n",
       "      <td>-73.974689</td>\n",
       "      <td>BRO</td>\n",
       "    </tr>\n",
       "    <tr>\n",
       "      <th>3</th>\n",
       "      <td>35.224519</td>\n",
       "      <td>-80.841053</td>\n",
       "      <td>CHA</td>\n",
       "    </tr>\n",
       "    <tr>\n",
       "      <th>4</th>\n",
       "      <td>41.880589</td>\n",
       "      <td>-87.674149</td>\n",
       "      <td>CHI</td>\n",
       "    </tr>\n",
       "  </tbody>\n",
       "</table>\n",
       "</div>"
      ],
      "text/plain": [
       "         lat        lng team\n",
       "0  33.757183 -84.396278  ATL\n",
       "1  42.366281 -71.062266  BOS\n",
       "2  40.682650 -73.974689  BRO\n",
       "3  35.224519 -80.841053  CHA\n",
       "4  41.880589 -87.674149  CHI"
      ]
     },
     "execution_count": 7,
     "metadata": {},
     "output_type": "execute_result"
    }
   ],
   "source": [
    "stadiums.head(5)"
   ]
  },
  {
   "cell_type": "markdown",
   "metadata": {},
   "source": [
    "   ## Data Preperation"
   ]
  },
  {
   "cell_type": "markdown",
   "metadata": {},
   "source": [
    "### Record the names of all stats - to be dropped later."
   ]
  },
  {
   "cell_type": "code",
   "execution_count": 8,
   "metadata": {
    "collapsed": true
   },
   "outputs": [],
   "source": [
    "statsColumns = pd.Series(list(games.columns.values))\n",
    "statsColumns = statsColumns.loc[statsColumns.str.startswith(('statsAway', 'statsHome'), na=False)]"
   ]
  },
  {
   "cell_type": "code",
   "execution_count": 9,
   "metadata": {
    "collapsed": true
   },
   "outputs": [],
   "source": [
    "# Replace any NaN with 0 in the stats\n",
    "games[statsColumns] = games[statsColumns].fillna(value=0)"
   ]
  },
  {
   "cell_type": "markdown",
   "metadata": {},
   "source": [
    "### Set Valid Data Types"
   ]
  },
  {
   "cell_type": "code",
   "execution_count": 10,
   "metadata": {
    "collapsed": true
   },
   "outputs": [],
   "source": [
    "#games['season'] = games['season'].astype('float')\n",
    "games['scoreAway'] = games['scoreAway'].astype('uint8')\n",
    "games['scoreHome'] = games['scoreHome'].astype('uint8')\n",
    "\n",
    "games['statsHome.FgAtt'] = games['statsHome.FgAtt'].astype('uint8')\n",
    "games['statsHome.OffReb'] = games['statsHome.OffReb'].astype('uint8')\n",
    "games['statsHome.Tov'] = games['statsHome.Tov'].astype('uint8')\n",
    "games['statsHome.FtAtt'] = games['statsHome.FtAtt'].astype('uint8')\n",
    "games['statsHome.Pts'] = games['statsHome.Pts'].astype('uint8')\n",
    "\n",
    "games['statsAway.FgAtt'] = games['statsAway.FgAtt'].astype('uint8')\n",
    "games['statsAway.OffReb'] = games['statsAway.OffReb'].astype('uint8')\n",
    "games['statsAway.Tov'] = games['statsAway.Tov'].astype('uint8')\n",
    "games['statsAway.FtAtt'] = games['statsAway.FtAtt'].astype('uint8')\n",
    "games['statsAway.Pts'] = games['statsAway.Pts'].astype('uint8')\n",
    "\n",
    "#scoreQuarters          object\n",
    "#teamAwayCode           object\n",
    "#teamHomeCode           object"
   ]
  },
  {
   "cell_type": "markdown",
   "metadata": {},
   "source": [
    "### Calculate the number of games played for season"
   ]
  },
  {
   "cell_type": "code",
   "execution_count": 11,
   "metadata": {
    "collapsed": true
   },
   "outputs": [],
   "source": [
    "if (use_parsed_data == False):\n",
    "\n",
    "    # Create a dataframe for the results - same size as dataset\n",
    "    data = pd.DataFrame(index=range(0,len(games)), columns=['gamesPlayedHome', 'gamesPlayedAway'])\n",
    "\n",
    "    # Iterate through every team\n",
    "    for team in games.teamAwayCode.unique():\n",
    "        season = 0\n",
    "\n",
    "        # Iterate through each game the team is present in.\n",
    "        for index, game in games[(games['teamAwayCode'] == team) | (games['teamHomeCode'] == team)].sort_values(by='season', ascending=True).iterrows():\n",
    "            if season != game.season:\n",
    "                gameCount = 0\n",
    "                homeGameCount = 0\n",
    "                season = game.season\n",
    "\n",
    "            gameCount += 1\n",
    "\n",
    "            # Update game count for team - whether away or home.\n",
    "            if game.teamAwayCode == team:\n",
    "                data.loc[index]['gamesPlayedAway'] = gameCount\n",
    "            else:\n",
    "                data.loc[index]['gamesPlayedHome'] = gameCount\n",
    "\n",
    "    data['gamesPlayedAway'] = data['gamesPlayedAway'].astype('uint8')\n",
    "    data['gamesPlayedHome'] = data['gamesPlayedHome'].astype('uint8')\n",
    "\n",
    "    # Append the results to the dataset\n",
    "    games = pd.merge(games, data, left_index=True, right_index=True)"
   ]
  },
  {
   "cell_type": "code",
   "execution_count": 12,
   "metadata": {},
   "outputs": [
    {
     "data": {
      "text/html": [
       "<div>\n",
       "<style>\n",
       "    .dataframe thead tr:only-child th {\n",
       "        text-align: right;\n",
       "    }\n",
       "\n",
       "    .dataframe thead th {\n",
       "        text-align: left;\n",
       "    }\n",
       "\n",
       "    .dataframe tbody tr th {\n",
       "        vertical-align: top;\n",
       "    }\n",
       "</style>\n",
       "<table border=\"1\" class=\"dataframe\">\n",
       "  <thead>\n",
       "    <tr style=\"text-align: right;\">\n",
       "      <th></th>\n",
       "      <th>teamHomeCode</th>\n",
       "      <th>teamAwayCode</th>\n",
       "      <th>season</th>\n",
       "      <th>gamesPlayedHome</th>\n",
       "      <th>gamesPlayedAway</th>\n",
       "    </tr>\n",
       "  </thead>\n",
       "  <tbody>\n",
       "    <tr>\n",
       "      <th>8030</th>\n",
       "      <td>LAC</td>\n",
       "      <td>DET</td>\n",
       "      <td>2014</td>\n",
       "      <td>72</td>\n",
       "      <td>41</td>\n",
       "    </tr>\n",
       "    <tr>\n",
       "      <th>4850</th>\n",
       "      <td>DEN</td>\n",
       "      <td>SAC</td>\n",
       "      <td>2010</td>\n",
       "      <td>36</td>\n",
       "      <td>29</td>\n",
       "    </tr>\n",
       "    <tr>\n",
       "      <th>6819</th>\n",
       "      <td>OKL</td>\n",
       "      <td>POR</td>\n",
       "      <td>2013</td>\n",
       "      <td>4</td>\n",
       "      <td>73</td>\n",
       "    </tr>\n",
       "    <tr>\n",
       "      <th>1511</th>\n",
       "      <td>BOS</td>\n",
       "      <td>SAC</td>\n",
       "      <td>2016</td>\n",
       "      <td>43</td>\n",
       "      <td>43</td>\n",
       "    </tr>\n",
       "    <tr>\n",
       "      <th>4683</th>\n",
       "      <td>CHI</td>\n",
       "      <td>NOP</td>\n",
       "      <td>2010</td>\n",
       "      <td>11</td>\n",
       "      <td>2</td>\n",
       "    </tr>\n",
       "  </tbody>\n",
       "</table>\n",
       "</div>"
      ],
      "text/plain": [
       "     teamHomeCode teamAwayCode  season  gamesPlayedHome  gamesPlayedAway\n",
       "8030          LAC          DET    2014               72               41\n",
       "4850          DEN          SAC    2010               36               29\n",
       "6819          OKL          POR    2013                4               73\n",
       "1511          BOS          SAC    2016               43               43\n",
       "4683          CHI          NOP    2010               11                2"
      ]
     },
     "execution_count": 12,
     "metadata": {},
     "output_type": "execute_result"
    }
   ],
   "source": [
    "games[['teamHomeCode', 'teamAwayCode', 'season', 'gamesPlayedHome', 'gamesPlayedAway']].sample(5)"
   ]
  },
  {
   "cell_type": "markdown",
   "metadata": {},
   "source": [
    "## Calculate the Win/Loss % for the Home team."
   ]
  },
  {
   "cell_type": "code",
   "execution_count": 13,
   "metadata": {
    "collapsed": true
   },
   "outputs": [],
   "source": [
    "def calc_percentage(x, y):\n",
    "    return 0 if y == 0 else (x / y)"
   ]
  },
  {
   "cell_type": "code",
   "execution_count": 14,
   "metadata": {},
   "outputs": [],
   "source": [
    "if (use_parsed_data == False) & (calc_win_loss == True):\n",
    "    \n",
    "    # Create a dataframe for the results - same size as dataset\n",
    "    data = pd.DataFrame(\n",
    "        index=range(0,len(games)), \n",
    "        columns=[\n",
    "            'totalGamesHome', 'totalWinsHome', 'homeGamesHome', 'homeWinsHome', 'awayGamesHome', 'awayWinsHome',\n",
    "            'percentageTotalWinHome', 'percentageHomeWinHome', 'percentageAwayWinHome',\n",
    "            'totalGamesAway', 'totalWinsAway', 'homeGamesAway', 'homeWinsAway', 'awayGamesAway', 'awayWinsAway',\n",
    "            'percentageTotalWinAway', 'percentageHomeWinAway', 'percentageAwayWinAway'\n",
    "        ]\n",
    "    )\n",
    "\n",
    "    # Iterate through each game.\n",
    "    for index, game in games.iterrows():\n",
    "\n",
    "        # Home Team\n",
    "        # ---------\n",
    "        \n",
    "        historicGames = games[(games['season'] == game.season) & (games['gamesPlayedHome'] < game.gamesPlayedHome) & ((games['teamHomeCode'] == game.teamHomeCode) | (games['teamAwayCode'] == game.teamHomeCode))].sort_values(by='gamesPlayedHome', ascending=True)\n",
    "       \n",
    "        homeGamesHome = len(historicGames[(historicGames['teamHomeCode'] == game['teamHomeCode'])])        \n",
    "        homeWinsHome = len(historicGames[(historicGames['teamHomeCode'] == game['teamHomeCode']) & (games[\"scoreAway\"] < games[\"scoreHome\"])])\n",
    "        \n",
    "        awayGamesHome = len(historicGames[(historicGames['teamAwayCode'] == game['teamHomeCode'])])        \n",
    "        awayWinsHome = len(historicGames[(historicGames['teamAwayCode'] == game['teamHomeCode']) & (games[\"scoreAway\"] > games[\"scoreHome\"])])\n",
    "\n",
    "        #totalGames = len(historicGames);\n",
    "        #totalWins = len(\n",
    "        #    historicGames[\n",
    "        #        (historicGames['teamHomeCode'] == game['teamHomeCode']) & (games[\"scoreAway\"] < games[\"scoreHome\"]) |\n",
    "        #        (historicGames['teamAwayCode'] == game['teamHomeCode']) & (games[\"scoreAway\"] > games[\"scoreHome\"])\n",
    "        #    ]\n",
    "        #)\n",
    "        \n",
    "        totalGamesHome = homeGamesHome + awayGamesHome\n",
    "        totalWinsHome = homeWinsHome + awayWinsHome\n",
    "        \n",
    "        percentageTotalWinHome = round(calc_percentage(totalWinsHome, totalGamesHome), 3)\n",
    "        percentageHomeWinHome = round(calc_percentage(homeWinsHome, homeGamesHome), 3)\n",
    "        percentageAwayWinHome = round(calc_percentage(awayWinsHome, awayGamesHome), 3)\n",
    "        \n",
    "        # print('HOME', game['gamesPlayedHome'], 'TG', totalGamesHome, 'W', totalWinsHome, 'HGP', homeGamesHome, 'HW', homeWinsHome, 'AGP', awayGamesHome, 'AW', awayWinsHome)\n",
    "        # print('HOME', 'W%', percentageTotalWinHome, 'HW%', percentageHomeWinHome, 'AW%', percentageAwayWinHome)\n",
    "        \n",
    "        # Away Team\n",
    "        # ---------\n",
    "        \n",
    "        historicGames = games[(games['season'] == game.season) & (games['gamesPlayedAway'] < game.gamesPlayedAway) & ((games['teamAwayCode'] == game.teamAwayCode) | (games['teamHomeCode'] == game.teamAwayCode))].sort_values(by='gamesPlayedAway', ascending=True)\n",
    "       \n",
    "        homeGamesAway = len(historicGames[(historicGames['teamHomeCode'] == game['teamAwayCode'])])        \n",
    "        homeWinsAway = len(historicGames[(historicGames['teamHomeCode'] == game['teamAwayCode']) & (games[\"scoreAway\"] < games[\"scoreHome\"])])\n",
    "        \n",
    "        awayGamesAway = len(historicGames[(historicGames['teamAwayCode'] == game['teamAwayCode'])])        \n",
    "        awayWinsAway = len(historicGames[(historicGames['teamAwayCode'] == game['teamAwayCode']) & (games[\"scoreAway\"] > games[\"scoreHome\"])])\n",
    "\n",
    "        #totalGames = len(historicGames);\n",
    "        #totalWins = len(\n",
    "        #    historicGames[\n",
    "        #        (historicGames['teamHomeCode'] == game['teamHomeCode']) & (games[\"scoreAway\"] < games[\"scoreHome\"]) |\n",
    "        #        (historicGames['teamAwayCode'] == game['teamHomeCode']) & (games[\"scoreAway\"] > games[\"scoreHome\"])\n",
    "        #    ]\n",
    "        #)\n",
    "        \n",
    "        totalGamesAway = homeGamesAway + awayGamesAway\n",
    "        totalWinsAway = homeWinsAway + awayWinsAway\n",
    "        \n",
    "        percentageTotalWinAway = round(calc_percentage(totalWinsAway, totalGamesAway), 3)\n",
    "        percentageHomeWinAway = round(calc_percentage(homeWinsAway, homeGamesAway), 3)\n",
    "        percentageAwayWinAway = round(calc_percentage(awayWinsAway, awayGamesAway), 3)\n",
    "        \n",
    "        # print('AWAY', game['gamesPlayedAway'], 'TG', totalGamesAway, 'W', totalWinsAway, 'HGP', homeGamesAway, 'HW', homeWinsAway, 'AGP', awayGamesAway, 'AW', awayWinsAway)\n",
    "        # print('AWAY', 'W%', percentageTotalWinAway, 'HW%', percentageHomeWinAway, 'AW%', percentageAwayWinAway)\n",
    "        \n",
    "        # ---------    \n",
    "            \n",
    "        # Update the row with the history\n",
    "        data.loc[index] = [\n",
    "            totalGamesHome, totalWinsHome, homeGamesHome, homeWinsHome, awayGamesHome, awayWinsHome,\n",
    "            percentageTotalWinHome, percentageHomeWinHome, percentageAwayWinHome,\n",
    "            totalGamesAway, totalWinsAway, homeGamesAway, homeWinsAway, awayGamesAway, awayWinsAway,\n",
    "            percentageTotalWinAway, percentageHomeWinAway, percentageAwayWinAway\n",
    "        ]\n",
    "\n",
    "    # Add results to the dataset\n",
    "    if (calc_win_loss_write_all == True):\n",
    "        games = pd.merge(games, data, left_index=True, right_index=True)\n",
    "        games[['teamHomeCode', 'teamAwayCode', 'percentageTotalWinHome', 'percentageHomeWinHome', 'percentageAwayWinHome', 'percentageTotalWinAway', 'percentageHomeWinAway', 'percentageAwayWinAway']].sample(5)\n",
    "    else:\n",
    "        games = pd.merge(games, data[['percentageHomeWinHome', 'percentageAwayWinAway']], left_index=True, right_index=True)\n",
    "        games[['teamHomeCode', 'teamAwayCode', 'percentageHomeWinHome', 'percentageAwayWinAway']].sample(5)"
   ]
  },
  {
   "cell_type": "markdown",
   "metadata": {},
   "source": [
    "### Calculate the results for the last 5 games for the Home team."
   ]
  },
  {
   "cell_type": "code",
   "execution_count": 15,
   "metadata": {
    "collapsed": true
   },
   "outputs": [],
   "source": [
    "if (use_parsed_data == False) & (calc_last_5_games == True):\n",
    "    \n",
    "    # Create a dataframe for the results - same size as dataset\n",
    "    data = pd.DataFrame(index=range(0,len(games)), columns=['lastGame1WinHome', 'lastGame1AtHomeHome', 'lastGame2WinHome', 'lastGame2AtHomeHome', 'lastGame3WinHome', 'lastGame3AtHomeHome', 'lastGame4WinHome', 'lastGame4AtHomeHome', 'lastGame5WinHome', 'lastGame5AtHomeHome'])\n",
    "\n",
    "    # Iterate through each game where the teams have played at least 5 games.\n",
    "    for index, game in games.iterrows():\n",
    "\n",
    "        # Get the last five games for the team.\n",
    "        last5games = games[(games['season'] == game.season) & (games['gamesPlayedHome'] < game.gamesPlayedHome) & ((games['teamAwayCode'] == game.teamHomeCode) | (games['teamHomeCode'] == game.teamHomeCode))].sort_values(by='gamesPlayedHome', ascending=False).head(5)\n",
    "\n",
    "        if len(last5games) == 5:\n",
    "            lastGame1WinHome = last5games[\"scoreAway\"].iloc[0] < last5games[\"scoreHome\"].iloc[0]\n",
    "            lastGame2WinHome = last5games[\"scoreAway\"].iloc[1] < last5games[\"scoreHome\"].iloc[1]\n",
    "            lastGame3WinHome = last5games[\"scoreAway\"].iloc[2] < last5games[\"scoreHome\"].iloc[2]\n",
    "            lastGame4WinHome = last5games[\"scoreAway\"].iloc[3] < last5games[\"scoreHome\"].iloc[3]\n",
    "            lastGame5WinHome = last5games[\"scoreAway\"].iloc[4] < last5games[\"scoreHome\"].iloc[4]\n",
    "            #print(lastGame1WinHome, lastGame2WinHome, lastGame3WinHome, lastGame4WinHome, lastGame5WinHome)\n",
    "\n",
    "            lastGame1AtHomeHome = last5games[\"teamHomeCode\"].iloc[0] == game.teamHomeCode\n",
    "            lastGame2AtHomeHome = last5games[\"teamHomeCode\"].iloc[1] == game.teamHomeCode\n",
    "            lastGame3AtHomeHome = last5games[\"teamHomeCode\"].iloc[2] == game.teamHomeCode\n",
    "            lastGame4AtHomeHome = last5games[\"teamHomeCode\"].iloc[3] == game.teamHomeCode\n",
    "            lastGame5AtHomeHome = last5games[\"teamHomeCode\"].iloc[4] == game.teamHomeCode\n",
    "            #print(lastGame1AtHomeHome, lastGame2AtHomeHome, lastGame3AtHomeHome, lastGame4AtHomeHome, lastGame5AtHomeHome)\n",
    "\n",
    "            # Update the row with the history\n",
    "            data.loc[index] = [lastGame1WinHome, lastGame1AtHomeHome, lastGame2WinHome, lastGame2AtHomeHome, lastGame3WinHome, lastGame3AtHomeHome, lastGame4WinHome, lastGame4AtHomeHome, lastGame5WinHome, lastGame5AtHomeHome]\n",
    "\n",
    "    # Convert types \n",
    "    data['lastGame1WinHome'] = data['lastGame1WinHome'].astype('bool')\n",
    "    data['lastGame2WinHome'] = data['lastGame2WinHome'].astype('bool')\n",
    "    data['lastGame3WinHome'] = data['lastGame3WinHome'].astype('bool')\n",
    "    data['lastGame4WinHome'] = data['lastGame4WinHome'].astype('bool')\n",
    "    data['lastGame5WinHome'] = data['lastGame5WinHome'].astype('bool')\n",
    "    data['lastGame1AtHomeHome'] = data['lastGame1AtHomeHome'].astype('bool')\n",
    "    data['lastGame2AtHomeHome'] = data['lastGame2AtHomeHome'].astype('bool')\n",
    "    data['lastGame3AtHomeHome'] = data['lastGame3AtHomeHome'].astype('bool')\n",
    "    data['lastGame4AtHomeHome'] = data['lastGame4AtHomeHome'].astype('bool')\n",
    "    data['lastGame5AtHomeHome'] = data['lastGame5AtHomeHome'].astype('bool')\n",
    "\n",
    "    # Add results to the dataset\n",
    "    games = pd.merge(games, data, left_index=True, right_index=True)\n",
    "    \n",
    "    games[['teamHomeCode', 'teamAwayCode', 'lastGame1WinHome', 'lastGame1AtHomeHome', 'lastGame2WinHome', 'lastGame2AtHomeHome', 'lastGame3WinHome', 'lastGame3AtHomeHome', 'lastGame4WinHome', 'lastGame4AtHomeHome', 'lastGame5WinHome', 'lastGame5AtHomeHome']].sample(5)"
   ]
  },
  {
   "cell_type": "markdown",
   "metadata": {},
   "source": [
    "### Calculate the results for the last 5 games for the Away team."
   ]
  },
  {
   "cell_type": "code",
   "execution_count": 16,
   "metadata": {
    "collapsed": true
   },
   "outputs": [],
   "source": [
    "if (use_parsed_data == False) & (calc_last_5_games == True):\n",
    "    \n",
    "    # Create a dataframe for the results - same size as dataset\n",
    "    data = pd.DataFrame(index=range(0,len(games)), columns=['lastGame1WinAway', 'lastGame1AtHomeAway', 'lastGame2WinAway', 'lastGame2AtHomeAway', 'lastGame3WinAway', 'lastGame3AtHomeAway', 'lastGame4WinAway', 'lastGame4AtHomeAway', 'lastGame5WinAway', 'lastGame5AtHomeAway'])\n",
    "\n",
    "    # Iterate through each game where the teams have played at least 5 games.\n",
    "    for index, game in games.iterrows():\n",
    "\n",
    "        # Get the last five games for the team.\n",
    "        last5games = games[(games['season'] == game.season) & (games['gamesPlayedAway'] < game.gamesPlayedAway) & ((games['teamAwayCode'] == game.teamAwayCode) | (games['teamHomeCode'] == game.teamAwayCode))].sort_values(by='gamesPlayedAway', ascending=False).head(5)\n",
    "\n",
    "        if len(last5games) == 5:\n",
    "            lastGame1WinAway = last5games[\"scoreAway\"].iloc[0] < last5games[\"scoreHome\"].iloc[0]\n",
    "            lastGame2WinAway = last5games[\"scoreAway\"].iloc[1] < last5games[\"scoreHome\"].iloc[1]\n",
    "            lastGame3WinAway = last5games[\"scoreAway\"].iloc[2] < last5games[\"scoreHome\"].iloc[2]\n",
    "            lastGame4WinAway = last5games[\"scoreAway\"].iloc[3] < last5games[\"scoreHome\"].iloc[3]\n",
    "            lastGame5WinAway = last5games[\"scoreAway\"].iloc[4] < last5games[\"scoreHome\"].iloc[4]\n",
    "            #print(lastGame1WinAway, lastGame2WinAway, lastGame3WinAway, lastGame4WinAway, lastGame5WinAway)\n",
    "\n",
    "            lastGame1AtHomeAway = last5games[\"teamAwayCode\"].iloc[0] == game.teamAwayCode\n",
    "            lastGame2AtHomeAway = last5games[\"teamAwayCode\"].iloc[1] == game.teamAwayCode\n",
    "            lastGame3AtHomeAway = last5games[\"teamAwayCode\"].iloc[2] == game.teamAwayCode\n",
    "            lastGame4AtHomeAway = last5games[\"teamAwayCode\"].iloc[3] == game.teamAwayCode\n",
    "            lastGame5AtHomeAway = last5games[\"teamAwayCode\"].iloc[4] == game.teamAwayCode\n",
    "            #print(lastGame1AtHomeAway, lastGame2AtHomeAway, lastGame3AtHomeAway, lastGame4AtHomeAway, lastGame5AtHomeAway)\n",
    "\n",
    "            # Update the row with the history\n",
    "            data.loc[index] = [lastGame1WinAway, lastGame1AtHomeAway, lastGame2WinAway, lastGame2AtHomeAway, lastGame3WinAway, lastGame3AtHomeAway, lastGame4WinAway, lastGame4AtHomeAway, lastGame5WinAway, lastGame5AtHomeAway]\n",
    "\n",
    "    # Convert types         \n",
    "    data['lastGame1WinAway'] = data['lastGame1WinAway'].astype('bool')\n",
    "    data['lastGame2WinAway'] = data['lastGame2WinAway'].astype('bool')\n",
    "    data['lastGame3WinAway'] = data['lastGame3WinAway'].astype('bool')\n",
    "    data['lastGame4WinAway'] = data['lastGame4WinAway'].astype('bool')\n",
    "    data['lastGame5WinAway'] = data['lastGame5WinAway'].astype('bool')\n",
    "    data['lastGame1AtHomeAway'] = data['lastGame1AtHomeAway'].astype('bool')\n",
    "    data['lastGame2AtHomeAway'] = data['lastGame2AtHomeAway'].astype('bool')\n",
    "    data['lastGame3AtHomeAway'] = data['lastGame3AtHomeAway'].astype('bool')\n",
    "    data['lastGame4AtHomeAway'] = data['lastGame4AtHomeAway'].astype('bool')\n",
    "    data['lastGame5AtHomeAway'] = data['lastGame5AtHomeAway'].astype('bool')\n",
    "\n",
    "    # Add results to the dataset\n",
    "    games = pd.merge(games, data, left_index=True, right_index=True)\n",
    "    \n",
    "    games[['teamHomeCode', 'teamAwayCode', 'lastGame1WinHome', 'lastGame1AtHomeHome', 'lastGame2WinHome', 'lastGame2AtHomeHome', 'lastGame3WinHome', 'lastGame3AtHomeHome', 'lastGame4WinHome', 'lastGame4AtHomeHome', 'lastGame5WinHome', 'lastGame5AtHomeHome']].sample(5)"
   ]
  },
  {
   "cell_type": "markdown",
   "metadata": {},
   "source": [
    "### Calculate the average shooting % for the last 5 games"
   ]
  },
  {
   "cell_type": "code",
   "execution_count": 17,
   "metadata": {},
   "outputs": [],
   "source": [
    "if (use_parsed_data == False) & (calc_ratings == True):\n",
    "    \n",
    "    # Create a dataframe for the results - same size as dataset\n",
    "    data = pd.DataFrame(index=range(0,len(games)), columns=[\n",
    "        'statsHome.seasonTotalPossessions', 'statsHome.last5TotalPossessions',\n",
    "        'statsHome.seasonTotalPoints', 'statsHome.last5TotalPoints',\n",
    "        'statsHome.seasonOffensiveRating', 'statsHome.last5OffensiveRating',\n",
    "        'statsHome.seasonDefensiveRating', 'statsHome.last5DefensiveRating',\n",
    "        'statsAway.seasonTotalPossessions', 'statsAway.last5TotalPossessions',\n",
    "        'statsAway.seasonTotalPoints', 'statsAway.last5TotalPoints',\n",
    "        'statsAway.seasonOffensiveRating', 'statsAway.last5OffensiveRating',\n",
    "        'statsAway.seasonDefensiveRating', 'statsAway.last5DefensiveRating'\n",
    "    ])\n",
    "\n",
    "    # Iterate through each game where the teams have played at least 5 games.\n",
    "    for index, game in games.iterrows():\n",
    "\n",
    "        # Get all previous games - Home\n",
    "        allgames = games[(games['season'] == game.season) & (games['gamesPlayedHome'] < game.gamesPlayedHome) & ((games['teamAwayCode'] == game.teamHomeCode) | (games['teamHomeCode'] == game.teamHomeCode))].sort_values(by='gamesPlayedHome', ascending=False)\n",
    "\n",
    "        totalPossessionsHome = allgames['statsHome.FgAtt'].sum() - allgames['statsHome.OffReb'].sum() + allgames['statsHome.Tov'].sum() + (0.4 * allgames['statsHome.FtAtt'].sum());\n",
    "        last5PossessionsHome = allgames['statsHome.FgAtt'].head(5).sum() - allgames['statsHome.OffReb'].head(5).sum() + allgames['statsHome.Tov'].head(5).sum() + (0.4 * allgames['statsHome.FtAtt'].head(5).sum());\n",
    "\n",
    "        totalPointsScoredHome = allgames['statsHome.Pts'].sum()\n",
    "        last5PointsScoredHome = allgames['statsHome.Pts'].head(5).sum()\n",
    "\n",
    "        totalOffensiveRatingHome = round(calc_percentage(totalPointsScoredHome, totalPossessionsHome) * 100, 2)\n",
    "        last5OffensiveRatingHome = round(calc_percentage(last5PointsScoredHome, last5PossessionsHome) * 100, 2)\n",
    "\n",
    "        totalPointsAgainstHome = allgames['statsHome.PtsAgainst'].sum()\n",
    "        last5PointsAgainstHome = allgames['statsHome.PtsAgainst'].head(5).sum()\n",
    "\n",
    "        totalDefensiveRatingHome = round(calc_percentage(totalPointsAgainstHome, totalPossessionsHome) * 100, 2)\n",
    "        last5DefensiveRatingHome = round(calc_percentage(last5PointsAgainstHome, last5PossessionsHome) * 100, 2)\n",
    "        \n",
    "        # Get all previous games - Away\n",
    "        allgames = games[(games['season'] == game.season) & (games['gamesPlayedAway'] < game.gamesPlayedAway) & ((games['teamAwayCode'] == game.teamAwayCode) | (games['teamHomeCode'] == game.teamAwayCode))].sort_values(by='gamesPlayedAway', ascending=False)\n",
    "\n",
    "        totalPossessionsAway = allgames['statsHome.FgAtt'].sum() - allgames['statsHome.OffReb'].sum() + allgames['statsHome.Tov'].sum() + (0.4 * allgames['statsHome.FtAtt'].sum());\n",
    "        last5PossessionsAway = allgames['statsHome.FgAtt'].head(5).sum() - allgames['statsHome.OffReb'].head(5).sum() + allgames['statsHome.Tov'].head(5).sum() + (0.4 * allgames['statsHome.FtAtt'].head(5).sum());\n",
    "\n",
    "        totalPointsScoredAway = allgames['statsHome.Pts'].sum()\n",
    "        last5PointsScoredAway = allgames['statsHome.Pts'].head(5).sum()\n",
    "\n",
    "        totalOffensiveRatingAway = round(calc_percentage(totalPointsScoredAway, totalPossessionsAway) * 100, 2)\n",
    "        last5OffensiveRatingAway = round(calc_percentage(last5PointsScoredAway, last5PossessionsAway) * 100, 2)\n",
    "\n",
    "        totalPointsAgainstAway = allgames['statsHome.PtsAgainst'].sum()\n",
    "        last5PointsAgainstAway = allgames['statsHome.PtsAgainst'].head(5).sum()\n",
    "\n",
    "        totalDefensiveRatingAway = round(calc_percentage(totalPointsAgainstAway, totalPossessionsAway) * 100, 2)\n",
    "        last5DefensiveRatingAway = round(calc_percentage(last5PointsAgainstAway, last5PossessionsAway) * 100, 2)\n",
    "\n",
    "        data.loc[index] = [\n",
    "            totalPossessionsHome, last5PossessionsHome, \n",
    "            totalPointsScoredHome, last5PointsScoredHome, \n",
    "            totalOffensiveRatingHome, last5OffensiveRatingHome,\n",
    "            totalDefensiveRatingHome, last5DefensiveRatingHome,\n",
    "            totalPossessionsAway, last5PossessionsAway, \n",
    "            totalPointsScoredAway, last5PointsScoredAway, \n",
    "            totalOffensiveRatingAway, last5OffensiveRatingAway,\n",
    "            totalDefensiveRatingAway, last5DefensiveRatingAway\n",
    "        ]\n",
    "\n",
    "        # Update the row with the history\n",
    "        # data.loc[index] = [lastGame1WinAway, lastGame1AtHomeAway, lastGame2WinAway, lastGame2AtHomeAway, lastGame3WinAway, lastGame3AtHomeAway, lastGame4WinAway, lastGame4AtHomeAway, lastGame5WinAway, lastGame5AtHomeAway]\n",
    "\n",
    "    data.sample(5)\n",
    "\n",
    "    # Convert types\n",
    "    # data['lastGame1WinAway'] = data['lastGame1WinAway'].astype('bool')\n",
    "\n",
    "    # Add results to the dataset\n",
    "    games = pd.merge(games, data, left_index=True, right_index=True)\n",
    "\n",
    "    #games[['teamHomeCode', 'teamAwayCode', 'lastGame1WinHome', 'lastGame1AtHomeHome', 'lastGame2WinHome', 'lastGame2AtHomeHome', 'lastGame3WinHome', 'lastGame3AtHomeHome', 'lastGame4WinHome', 'lastGame4AtHomeHome', 'lastGame5WinHome', 'lastGame5AtHomeHome']].sample(5)\n"
   ]
  },
  {
   "cell_type": "code",
   "execution_count": 18,
   "metadata": {},
   "outputs": [
    {
     "data": {
      "text/plain": [
       "337.6783477035334"
      ]
     },
     "execution_count": 18,
     "metadata": {},
     "output_type": "execute_result"
    }
   ],
   "source": [
    "# test entry for stadium distance calc\n",
    "\n",
    "coords_1 = (37.750267, -122.202853)\n",
    "coords_2 = (34.04303865743706, -118.26711416244507)\n",
    "\n",
    "geopy.distance.vincenty(coords_1, coords_2).miles\n"
   ]
  },
  {
   "cell_type": "markdown",
   "metadata": {},
   "source": [
    "#### Save data to CSV to save on processing"
   ]
  },
  {
   "cell_type": "code",
   "execution_count": 19,
   "metadata": {
    "collapsed": true
   },
   "outputs": [],
   "source": [
    "if use_parsed_data == False:\n",
    "    games.to_csv(output_parsed_data_filename, encoding='utf-8')"
   ]
  },
  {
   "cell_type": "markdown",
   "metadata": {},
   "source": [
    "## Data Cleanse\n",
    "Look at data types"
   ]
  },
  {
   "cell_type": "code",
   "execution_count": 20,
   "metadata": {},
   "outputs": [
    {
     "data": {
      "text/plain": [
       "id                                   object\n",
       "location                             object\n",
       "oddsBet365Away                      float64\n",
       "oddsBet365Home                      float64\n",
       "scoreAway                             uint8\n",
       "scoreHome                             uint8\n",
       "scoreQuarters                        object\n",
       "season                                int64\n",
       "statsAway.Ast                         int64\n",
       "statsAway.Blk                         int64\n",
       "statsAway.BlkAgainst                  int64\n",
       "statsAway.DefReb                      int64\n",
       "statsAway.Ejections                   int64\n",
       "statsAway.Fg2PtAtt                    int64\n",
       "statsAway.Fg2PtMade                   int64\n",
       "statsAway.Fg2PtPct                  float64\n",
       "statsAway.Fg3PtAtt                    int64\n",
       "statsAway.Fg3PtMade                   int64\n",
       "statsAway.Fg3PtPct                  float64\n",
       "statsAway.FgAtt                       uint8\n",
       "statsAway.FgMade                      int64\n",
       "statsAway.FgPct                     float64\n",
       "statsAway.FoulFlag1                   int64\n",
       "statsAway.FoulFlag1Drawn              int64\n",
       "statsAway.FoulFlag2                   int64\n",
       "statsAway.FoulFlag2Drawn              int64\n",
       "statsAway.FoulPers                    int64\n",
       "statsAway.FoulPersDrawn               int64\n",
       "statsAway.FoulTech                    int64\n",
       "statsAway.FoulTechDrawn               int64\n",
       "                                     ...   \n",
       "lastGame4WinHome                       bool\n",
       "lastGame4AtHomeHome                    bool\n",
       "lastGame5WinHome                       bool\n",
       "lastGame5AtHomeHome                    bool\n",
       "lastGame1WinAway                       bool\n",
       "lastGame1AtHomeAway                    bool\n",
       "lastGame2WinAway                       bool\n",
       "lastGame2AtHomeAway                    bool\n",
       "lastGame3WinAway                       bool\n",
       "lastGame3AtHomeAway                    bool\n",
       "lastGame4WinAway                       bool\n",
       "lastGame4AtHomeAway                    bool\n",
       "lastGame5WinAway                       bool\n",
       "lastGame5AtHomeAway                    bool\n",
       "statsHome.seasonTotalPossessions    float64\n",
       "statsHome.last5TotalPossessions     float64\n",
       "statsHome.seasonTotalPoints           int64\n",
       "statsHome.last5TotalPoints            int64\n",
       "statsHome.seasonOffensiveRating     float64\n",
       "statsHome.last5OffensiveRating      float64\n",
       "statsHome.seasonDefensiveRating     float64\n",
       "statsHome.last5DefensiveRating      float64\n",
       "statsAway.seasonTotalPossessions    float64\n",
       "statsAway.last5TotalPossessions     float64\n",
       "statsAway.seasonTotalPoints           int64\n",
       "statsAway.last5TotalPoints            int64\n",
       "statsAway.seasonOffensiveRating     float64\n",
       "statsAway.last5OffensiveRating      float64\n",
       "statsAway.seasonDefensiveRating     float64\n",
       "statsAway.last5DefensiveRating      float64\n",
       "Length: 141, dtype: object"
      ]
     },
     "execution_count": 20,
     "metadata": {},
     "output_type": "execute_result"
    }
   ],
   "source": [
    "games.dtypes"
   ]
  },
  {
   "cell_type": "markdown",
   "metadata": {},
   "source": [
    "Transform the Time column into a datetime object."
   ]
  },
  {
   "cell_type": "code",
   "execution_count": 21,
   "metadata": {
    "collapsed": true
   },
   "outputs": [],
   "source": [
    "games[\"time\"] = pd.to_datetime(games[\"time\"])"
   ]
  },
  {
   "cell_type": "code",
   "execution_count": null,
   "metadata": {
    "collapsed": true
   },
   "outputs": [],
   "source": []
  },
  {
   "cell_type": "markdown",
   "metadata": {},
   "source": [
    "### Convert the home and away teams to one-hot encoding "
   ]
  },
  {
   "cell_type": "code",
   "execution_count": 22,
   "metadata": {
    "collapsed": true
   },
   "outputs": [],
   "source": [
    "if use_team_hot_encoding == True:\n",
    "    homeTeam = pd.get_dummies(games[\"teamHomeCode\"], prefix='team')\n",
    "    awayTeam = pd.get_dummies(games[\"teamAwayCode\"], prefix='team')\n",
    "\n",
    "    homeTeam = homeTeam.replace({0:np.nan})\n",
    "    awayTeam = awayTeam.replace({0:np.nan})\n",
    "\n",
    "    teams = homeTeam.fillna(awayTeam).fillna(0).astype('bool')\n",
    "    # teams[['team_NYK', 'team_CLE', 'team_ATL', 'team_BOS']].head(2)\n",
    "    \n",
    "    games = pd.concat([games, teams], axis=1)\n",
    "    \n",
    "    games[['teamHomeCode', 'teamAwayCode', 'team_NYK', 'team_CLE']].head(2)"
   ]
  },
  {
   "cell_type": "code",
   "execution_count": 23,
   "metadata": {
    "collapsed": true
   },
   "outputs": [],
   "source": [
    "if use_team_home_away_hot_encoding == True:\n",
    "    homeTeam = pd.get_dummies(games[\"teamHomeCode\"], prefix='hometeam').astype('bool')\n",
    "    awayTeam = pd.get_dummies(games[\"teamAwayCode\"], prefix='awayteam').astype('bool')\n",
    "\n",
    "    games = pd.concat([games, homeTeam, awayTeam], axis=1)\n",
    "    \n",
    "    games[['teamHomeCode', 'teamAwayCode', 'hometeam_NYK', 'hometeam_CLE', 'awayteam_NYK', 'awayteam_CLE']].head(2)"
   ]
  },
  {
   "cell_type": "markdown",
   "metadata": {},
   "source": [
    "Drop the id fields for teams."
   ]
  },
  {
   "cell_type": "code",
   "execution_count": 24,
   "metadata": {},
   "outputs": [],
   "source": [
    "#if (use_team_hot_encoding == True) | (use_team_home_away_hot_encoding == True) | (use_team_keys == False):\n",
    "#    games = games.drop([\"teamAwayId\", \"teamHomeId\"], axis=1)"
   ]
  },
  {
   "cell_type": "code",
   "execution_count": 25,
   "metadata": {},
   "outputs": [],
   "source": [
    "games = games.drop([\"teamAwayCode\", \"teamHomeCode\"], axis=1)"
   ]
  },
  {
   "cell_type": "code",
   "execution_count": 26,
   "metadata": {
    "collapsed": true
   },
   "outputs": [],
   "source": [
    "games = games.drop([\"location\", \"scoreQuarters\", \"time\"], axis=1)"
   ]
  },
  {
   "cell_type": "code",
   "execution_count": 27,
   "metadata": {
    "collapsed": true
   },
   "outputs": [],
   "source": [
    "games = games.drop(statsColumns, axis=1)"
   ]
  },
  {
   "cell_type": "code",
   "execution_count": 28,
   "metadata": {
    "collapsed": true
   },
   "outputs": [],
   "source": [
    "#gamesQuarters = json_normalize(data=d['games'], record_path='scoreQuarters', meta=['id'])\n",
    "#gamesQuarters.head(10)"
   ]
  },
  {
   "cell_type": "code",
   "execution_count": 29,
   "metadata": {
    "collapsed": true
   },
   "outputs": [],
   "source": [
    "games[\"homeWin\"] = games[\"scoreHome\"] > games[\"scoreAway\"]"
   ]
  },
  {
   "cell_type": "code",
   "execution_count": 30,
   "metadata": {
    "collapsed": true
   },
   "outputs": [],
   "source": [
    "# Remove games scores ... not possible to predict the future, if you already know it :)\n",
    "games = games.drop([\"scoreAway\", \"scoreHome\"], axis=1)"
   ]
  },
  {
   "cell_type": "code",
   "execution_count": 31,
   "metadata": {
    "collapsed": true
   },
   "outputs": [],
   "source": [
    "# Remove any games that have less than a 5 game history.\n",
    "if calc_last_5_games == True:\n",
    "    games = games[(pd.notnull(games['lastGame1WinHome'])) & (pd.notnull(games['lastGame1AtHomeAway']))]"
   ]
  },
  {
   "cell_type": "code",
   "execution_count": 32,
   "metadata": {
    "collapsed": true
   },
   "outputs": [],
   "source": [
    "# Fill any NaN stats with 0\n",
    "games.fillna(0, inplace=True)\n",
    "#games['statsHome.Ejections'].fillna(0, inplace=True)\n",
    "#games['statsAway.Ejections'].fillna(0, inplace=True)"
   ]
  },
  {
   "cell_type": "code",
   "execution_count": 33,
   "metadata": {},
   "outputs": [
    {
     "data": {
      "text/html": [
       "<div>\n",
       "<style>\n",
       "    .dataframe thead tr:only-child th {\n",
       "        text-align: right;\n",
       "    }\n",
       "\n",
       "    .dataframe thead th {\n",
       "        text-align: left;\n",
       "    }\n",
       "\n",
       "    .dataframe tbody tr th {\n",
       "        vertical-align: top;\n",
       "    }\n",
       "</style>\n",
       "<table border=\"1\" class=\"dataframe\">\n",
       "  <thead>\n",
       "    <tr style=\"text-align: right;\">\n",
       "      <th></th>\n",
       "      <th>id</th>\n",
       "      <th>oddsBet365Away</th>\n",
       "      <th>oddsBet365Home</th>\n",
       "      <th>season</th>\n",
       "      <th>gamesPlayedHome</th>\n",
       "      <th>gamesPlayedAway</th>\n",
       "      <th>totalGamesHome</th>\n",
       "      <th>totalWinsHome</th>\n",
       "      <th>homeGamesHome</th>\n",
       "      <th>homeWinsHome</th>\n",
       "      <th>...</th>\n",
       "      <th>lastGame1AtHomeAway</th>\n",
       "      <th>lastGame2WinAway</th>\n",
       "      <th>lastGame2AtHomeAway</th>\n",
       "      <th>lastGame3WinAway</th>\n",
       "      <th>lastGame3AtHomeAway</th>\n",
       "      <th>lastGame4WinAway</th>\n",
       "      <th>lastGame4AtHomeAway</th>\n",
       "      <th>lastGame5WinAway</th>\n",
       "      <th>lastGame5AtHomeAway</th>\n",
       "      <th>homeWin</th>\n",
       "    </tr>\n",
       "  </thead>\n",
       "  <tbody>\n",
       "  </tbody>\n",
       "</table>\n",
       "<p>0 rows × 45 columns</p>\n",
       "</div>"
      ],
      "text/plain": [
       "Empty DataFrame\n",
       "Columns: [id, oddsBet365Away, oddsBet365Home, season, gamesPlayedHome, gamesPlayedAway, totalGamesHome, totalWinsHome, homeGamesHome, homeWinsHome, awayGamesHome, awayWinsHome, percentageTotalWinHome, percentageHomeWinHome, percentageAwayWinHome, totalGamesAway, totalWinsAway, homeGamesAway, homeWinsAway, awayGamesAway, awayWinsAway, percentageTotalWinAway, percentageHomeWinAway, percentageAwayWinAway, lastGame1WinHome, lastGame1AtHomeHome, lastGame2WinHome, lastGame2AtHomeHome, lastGame3WinHome, lastGame3AtHomeHome, lastGame4WinHome, lastGame4AtHomeHome, lastGame5WinHome, lastGame5AtHomeHome, lastGame1WinAway, lastGame1AtHomeAway, lastGame2WinAway, lastGame2AtHomeAway, lastGame3WinAway, lastGame3AtHomeAway, lastGame4WinAway, lastGame4AtHomeAway, lastGame5WinAway, lastGame5AtHomeAway, homeWin]\n",
       "Index: []\n",
       "\n",
       "[0 rows x 45 columns]"
      ]
     },
     "execution_count": 33,
     "metadata": {},
     "output_type": "execute_result"
    }
   ],
   "source": [
    "# Show any NaN\n",
    "games[games.isnull().T.any().T]"
   ]
  },
  {
   "cell_type": "code",
   "execution_count": 34,
   "metadata": {},
   "outputs": [
    {
     "data": {
      "text/html": [
       "<div>\n",
       "<style>\n",
       "    .dataframe thead tr:only-child th {\n",
       "        text-align: right;\n",
       "    }\n",
       "\n",
       "    .dataframe thead th {\n",
       "        text-align: left;\n",
       "    }\n",
       "\n",
       "    .dataframe tbody tr th {\n",
       "        vertical-align: top;\n",
       "    }\n",
       "</style>\n",
       "<table border=\"1\" class=\"dataframe\">\n",
       "  <thead>\n",
       "    <tr style=\"text-align: right;\">\n",
       "      <th></th>\n",
       "      <th>id</th>\n",
       "      <th>oddsBet365Away</th>\n",
       "      <th>oddsBet365Home</th>\n",
       "      <th>season</th>\n",
       "      <th>gamesPlayedHome</th>\n",
       "      <th>gamesPlayedAway</th>\n",
       "      <th>totalGamesHome</th>\n",
       "      <th>totalWinsHome</th>\n",
       "      <th>homeGamesHome</th>\n",
       "      <th>homeWinsHome</th>\n",
       "      <th>...</th>\n",
       "      <th>lastGame1AtHomeAway</th>\n",
       "      <th>lastGame2WinAway</th>\n",
       "      <th>lastGame2AtHomeAway</th>\n",
       "      <th>lastGame3WinAway</th>\n",
       "      <th>lastGame3AtHomeAway</th>\n",
       "      <th>lastGame4WinAway</th>\n",
       "      <th>lastGame4AtHomeAway</th>\n",
       "      <th>lastGame5WinAway</th>\n",
       "      <th>lastGame5AtHomeAway</th>\n",
       "      <th>homeWin</th>\n",
       "    </tr>\n",
       "  </thead>\n",
       "  <tbody>\n",
       "    <tr>\n",
       "      <th>3628</th>\n",
       "      <td>201004090CLE</td>\n",
       "      <td>2.04</td>\n",
       "      <td>1.80</td>\n",
       "      <td>2009</td>\n",
       "      <td>28</td>\n",
       "      <td>24</td>\n",
       "      <td>24</td>\n",
       "      <td>18</td>\n",
       "      <td>16</td>\n",
       "      <td>14</td>\n",
       "      <td>...</td>\n",
       "      <td>False</td>\n",
       "      <td>True</td>\n",
       "      <td>False</td>\n",
       "      <td>True</td>\n",
       "      <td>False</td>\n",
       "      <td>True</td>\n",
       "      <td>True</td>\n",
       "      <td>True</td>\n",
       "      <td>True</td>\n",
       "      <td>False</td>\n",
       "    </tr>\n",
       "    <tr>\n",
       "      <th>2860</th>\n",
       "      <td>200912210IND</td>\n",
       "      <td>2.25</td>\n",
       "      <td>1.68</td>\n",
       "      <td>2009</td>\n",
       "      <td>76</td>\n",
       "      <td>79</td>\n",
       "      <td>75</td>\n",
       "      <td>31</td>\n",
       "      <td>38</td>\n",
       "      <td>22</td>\n",
       "      <td>...</td>\n",
       "      <td>False</td>\n",
       "      <td>True</td>\n",
       "      <td>True</td>\n",
       "      <td>True</td>\n",
       "      <td>True</td>\n",
       "      <td>False</td>\n",
       "      <td>False</td>\n",
       "      <td>False</td>\n",
       "      <td>True</td>\n",
       "      <td>False</td>\n",
       "    </tr>\n",
       "    <tr>\n",
       "      <th>470</th>\n",
       "      <td>31647</td>\n",
       "      <td>9.50</td>\n",
       "      <td>1.07</td>\n",
       "      <td>2015</td>\n",
       "      <td>87</td>\n",
       "      <td>69</td>\n",
       "      <td>90</td>\n",
       "      <td>59</td>\n",
       "      <td>42</td>\n",
       "      <td>32</td>\n",
       "      <td>...</td>\n",
       "      <td>True</td>\n",
       "      <td>False</td>\n",
       "      <td>False</td>\n",
       "      <td>False</td>\n",
       "      <td>True</td>\n",
       "      <td>True</td>\n",
       "      <td>False</td>\n",
       "      <td>True</td>\n",
       "      <td>True</td>\n",
       "      <td>True</td>\n",
       "    </tr>\n",
       "  </tbody>\n",
       "</table>\n",
       "<p>3 rows × 45 columns</p>\n",
       "</div>"
      ],
      "text/plain": [
       "                id  oddsBet365Away  oddsBet365Home  season  gamesPlayedHome  \\\n",
       "3628  201004090CLE            2.04            1.80    2009               28   \n",
       "2860  200912210IND            2.25            1.68    2009               76   \n",
       "470          31647            9.50            1.07    2015               87   \n",
       "\n",
       "      gamesPlayedAway  totalGamesHome  totalWinsHome  homeGamesHome  \\\n",
       "3628               24              24             18             16   \n",
       "2860               79              75             31             38   \n",
       "470                69              90             59             42   \n",
       "\n",
       "      homeWinsHome   ...     lastGame1AtHomeAway  lastGame2WinAway  \\\n",
       "3628            14   ...                   False              True   \n",
       "2860            22   ...                   False              True   \n",
       "470             32   ...                    True             False   \n",
       "\n",
       "      lastGame2AtHomeAway  lastGame3WinAway  lastGame3AtHomeAway  \\\n",
       "3628                False              True                False   \n",
       "2860                 True              True                 True   \n",
       "470                 False             False                 True   \n",
       "\n",
       "      lastGame4WinAway  lastGame4AtHomeAway  lastGame5WinAway  \\\n",
       "3628              True                 True              True   \n",
       "2860             False                False             False   \n",
       "470               True                False              True   \n",
       "\n",
       "      lastGame5AtHomeAway  homeWin  \n",
       "3628                 True    False  \n",
       "2860                 True    False  \n",
       "470                  True     True  \n",
       "\n",
       "[3 rows x 45 columns]"
      ]
     },
     "execution_count": 34,
     "metadata": {},
     "output_type": "execute_result"
    }
   ],
   "source": [
    "games.sample(3)"
   ]
  },
  {
   "cell_type": "code",
   "execution_count": 35,
   "metadata": {},
   "outputs": [
    {
     "data": {
      "text/plain": [
       "((7280, 43), (7280,), (1788, 43))"
      ]
     },
     "execution_count": 35,
     "metadata": {},
     "output_type": "execute_result"
    }
   ],
   "source": [
    "msk = np.random.rand(len(games)) < 0.8\n",
    "msk\n",
    "\n",
    "train = games[msk]\n",
    "test = games[~msk]\n",
    "\n",
    "Y_train = train[\"homeWin\"]\n",
    "X_train = train.drop([\"id\",\"homeWin\"], axis=1)\n",
    "\n",
    "#\n",
    "X_test  = test.drop([\"id\", \"homeWin\"], axis=1).copy()\n",
    "X_train.shape, Y_train.shape, X_test.shape"
   ]
  },
  {
   "cell_type": "code",
   "execution_count": 36,
   "metadata": {
    "collapsed": true
   },
   "outputs": [],
   "source": [
    "# Reset the index\n",
    "test.index = range(len(test.index))"
   ]
  },
  {
   "cell_type": "code",
   "execution_count": 37,
   "metadata": {},
   "outputs": [
    {
     "data": {
      "text/html": [
       "<div>\n",
       "<style>\n",
       "    .dataframe thead tr:only-child th {\n",
       "        text-align: right;\n",
       "    }\n",
       "\n",
       "    .dataframe thead th {\n",
       "        text-align: left;\n",
       "    }\n",
       "\n",
       "    .dataframe tbody tr th {\n",
       "        vertical-align: top;\n",
       "    }\n",
       "</style>\n",
       "<table border=\"1\" class=\"dataframe\">\n",
       "  <thead>\n",
       "    <tr style=\"text-align: right;\">\n",
       "      <th></th>\n",
       "      <th>oddsBet365Away</th>\n",
       "      <th>oddsBet365Home</th>\n",
       "      <th>season</th>\n",
       "      <th>gamesPlayedHome</th>\n",
       "      <th>gamesPlayedAway</th>\n",
       "      <th>totalGamesHome</th>\n",
       "      <th>totalWinsHome</th>\n",
       "      <th>homeGamesHome</th>\n",
       "      <th>homeWinsHome</th>\n",
       "      <th>awayGamesHome</th>\n",
       "      <th>...</th>\n",
       "      <th>lastGame1WinAway</th>\n",
       "      <th>lastGame1AtHomeAway</th>\n",
       "      <th>lastGame2WinAway</th>\n",
       "      <th>lastGame2AtHomeAway</th>\n",
       "      <th>lastGame3WinAway</th>\n",
       "      <th>lastGame3AtHomeAway</th>\n",
       "      <th>lastGame4WinAway</th>\n",
       "      <th>lastGame4AtHomeAway</th>\n",
       "      <th>lastGame5WinAway</th>\n",
       "      <th>lastGame5AtHomeAway</th>\n",
       "    </tr>\n",
       "  </thead>\n",
       "  <tbody>\n",
       "    <tr>\n",
       "      <th>3724</th>\n",
       "      <td>3.55</td>\n",
       "      <td>1.31</td>\n",
       "      <td>2009</td>\n",
       "      <td>88</td>\n",
       "      <td>33</td>\n",
       "      <td>88</td>\n",
       "      <td>65</td>\n",
       "      <td>45</td>\n",
       "      <td>39</td>\n",
       "      <td>43</td>\n",
       "      <td>...</td>\n",
       "      <td>True</td>\n",
       "      <td>False</td>\n",
       "      <td>False</td>\n",
       "      <td>True</td>\n",
       "      <td>True</td>\n",
       "      <td>False</td>\n",
       "      <td>False</td>\n",
       "      <td>True</td>\n",
       "      <td>False</td>\n",
       "      <td>True</td>\n",
       "    </tr>\n",
       "    <tr>\n",
       "      <th>6428</th>\n",
       "      <td>1.71</td>\n",
       "      <td>2.20</td>\n",
       "      <td>2013</td>\n",
       "      <td>6</td>\n",
       "      <td>56</td>\n",
       "      <td>5</td>\n",
       "      <td>3</td>\n",
       "      <td>3</td>\n",
       "      <td>3</td>\n",
       "      <td>2</td>\n",
       "      <td>...</td>\n",
       "      <td>False</td>\n",
       "      <td>True</td>\n",
       "      <td>True</td>\n",
       "      <td>True</td>\n",
       "      <td>True</td>\n",
       "      <td>False</td>\n",
       "      <td>True</td>\n",
       "      <td>False</td>\n",
       "      <td>False</td>\n",
       "      <td>False</td>\n",
       "    </tr>\n",
       "    <tr>\n",
       "      <th>992</th>\n",
       "      <td>1.55</td>\n",
       "      <td>2.60</td>\n",
       "      <td>2015</td>\n",
       "      <td>34</td>\n",
       "      <td>56</td>\n",
       "      <td>32</td>\n",
       "      <td>17</td>\n",
       "      <td>17</td>\n",
       "      <td>10</td>\n",
       "      <td>15</td>\n",
       "      <td>...</td>\n",
       "      <td>True</td>\n",
       "      <td>False</td>\n",
       "      <td>True</td>\n",
       "      <td>False</td>\n",
       "      <td>True</td>\n",
       "      <td>False</td>\n",
       "      <td>False</td>\n",
       "      <td>True</td>\n",
       "      <td>True</td>\n",
       "      <td>True</td>\n",
       "    </tr>\n",
       "    <tr>\n",
       "      <th>301</th>\n",
       "      <td>6.50</td>\n",
       "      <td>1.12</td>\n",
       "      <td>2015</td>\n",
       "      <td>78</td>\n",
       "      <td>62</td>\n",
       "      <td>82</td>\n",
       "      <td>52</td>\n",
       "      <td>37</td>\n",
       "      <td>28</td>\n",
       "      <td>45</td>\n",
       "      <td>...</td>\n",
       "      <td>False</td>\n",
       "      <td>True</td>\n",
       "      <td>False</td>\n",
       "      <td>False</td>\n",
       "      <td>False</td>\n",
       "      <td>False</td>\n",
       "      <td>True</td>\n",
       "      <td>False</td>\n",
       "      <td>True</td>\n",
       "      <td>False</td>\n",
       "    </tr>\n",
       "    <tr>\n",
       "      <th>6844</th>\n",
       "      <td>2.65</td>\n",
       "      <td>1.54</td>\n",
       "      <td>2013</td>\n",
       "      <td>56</td>\n",
       "      <td>1</td>\n",
       "      <td>60</td>\n",
       "      <td>35</td>\n",
       "      <td>28</td>\n",
       "      <td>20</td>\n",
       "      <td>32</td>\n",
       "      <td>...</td>\n",
       "      <td>True</td>\n",
       "      <td>True</td>\n",
       "      <td>True</td>\n",
       "      <td>True</td>\n",
       "      <td>True</td>\n",
       "      <td>True</td>\n",
       "      <td>True</td>\n",
       "      <td>True</td>\n",
       "      <td>True</td>\n",
       "      <td>True</td>\n",
       "    </tr>\n",
       "  </tbody>\n",
       "</table>\n",
       "<p>5 rows × 43 columns</p>\n",
       "</div>"
      ],
      "text/plain": [
       "      oddsBet365Away  oddsBet365Home  season  gamesPlayedHome  \\\n",
       "3724            3.55            1.31    2009               88   \n",
       "6428            1.71            2.20    2013                6   \n",
       "992             1.55            2.60    2015               34   \n",
       "301             6.50            1.12    2015               78   \n",
       "6844            2.65            1.54    2013               56   \n",
       "\n",
       "      gamesPlayedAway  totalGamesHome  totalWinsHome  homeGamesHome  \\\n",
       "3724               33              88             65             45   \n",
       "6428               56               5              3              3   \n",
       "992                56              32             17             17   \n",
       "301                62              82             52             37   \n",
       "6844                1              60             35             28   \n",
       "\n",
       "      homeWinsHome  awayGamesHome         ...           lastGame1WinAway  \\\n",
       "3724            39             43         ...                       True   \n",
       "6428             3              2         ...                      False   \n",
       "992             10             15         ...                       True   \n",
       "301             28             45         ...                      False   \n",
       "6844            20             32         ...                       True   \n",
       "\n",
       "      lastGame1AtHomeAway  lastGame2WinAway  lastGame2AtHomeAway  \\\n",
       "3724                False             False                 True   \n",
       "6428                 True              True                 True   \n",
       "992                 False              True                False   \n",
       "301                  True             False                False   \n",
       "6844                 True              True                 True   \n",
       "\n",
       "      lastGame3WinAway  lastGame3AtHomeAway  lastGame4WinAway  \\\n",
       "3724              True                False             False   \n",
       "6428              True                False              True   \n",
       "992               True                False             False   \n",
       "301              False                False              True   \n",
       "6844              True                 True              True   \n",
       "\n",
       "      lastGame4AtHomeAway  lastGame5WinAway  lastGame5AtHomeAway  \n",
       "3724                 True             False                 True  \n",
       "6428                False             False                False  \n",
       "992                  True              True                 True  \n",
       "301                 False              True                False  \n",
       "6844                 True              True                 True  \n",
       "\n",
       "[5 rows x 43 columns]"
      ]
     },
     "execution_count": 37,
     "metadata": {},
     "output_type": "execute_result"
    }
   ],
   "source": [
    "X_test.sample(5)"
   ]
  },
  {
   "cell_type": "markdown",
   "metadata": {},
   "source": [
    "### Logistic Regression"
   ]
  },
  {
   "cell_type": "code",
   "execution_count": 38,
   "metadata": {},
   "outputs": [
    {
     "data": {
      "text/plain": [
       "69.709999999999994"
      ]
     },
     "execution_count": 38,
     "metadata": {},
     "output_type": "execute_result"
    }
   ],
   "source": [
    "logreg = LogisticRegression()\n",
    "logreg.fit(X_train, Y_train)\n",
    "Y_pred = logreg.predict(X_test)\n",
    "acc_log = round(logreg.score(X_train, Y_train) * 100, 2)\n",
    "acc_log"
   ]
  },
  {
   "cell_type": "code",
   "execution_count": 39,
   "metadata": {},
   "outputs": [
    {
     "data": {
      "text/html": [
       "<div>\n",
       "<style>\n",
       "    .dataframe thead tr:only-child th {\n",
       "        text-align: right;\n",
       "    }\n",
       "\n",
       "    .dataframe thead th {\n",
       "        text-align: left;\n",
       "    }\n",
       "\n",
       "    .dataframe tbody tr th {\n",
       "        vertical-align: top;\n",
       "    }\n",
       "</style>\n",
       "<table border=\"1\" class=\"dataframe\">\n",
       "  <thead>\n",
       "    <tr style=\"text-align: right;\">\n",
       "      <th></th>\n",
       "      <th>Feature</th>\n",
       "      <th>Correlation</th>\n",
       "    </tr>\n",
       "  </thead>\n",
       "  <tbody>\n",
       "    <tr>\n",
       "      <th>0</th>\n",
       "      <td>oddsBet365Away</td>\n",
       "      <td>0.249638</td>\n",
       "    </tr>\n",
       "    <tr>\n",
       "      <th>28</th>\n",
       "      <td>lastGame3AtHomeHome</td>\n",
       "      <td>0.133958</td>\n",
       "    </tr>\n",
       "    <tr>\n",
       "      <th>13</th>\n",
       "      <td>percentageAwayWinHome</td>\n",
       "      <td>0.125711</td>\n",
       "    </tr>\n",
       "    <tr>\n",
       "      <th>39</th>\n",
       "      <td>lastGame4WinAway</td>\n",
       "      <td>0.123032</td>\n",
       "    </tr>\n",
       "    <tr>\n",
       "      <th>36</th>\n",
       "      <td>lastGame2AtHomeAway</td>\n",
       "      <td>0.109503</td>\n",
       "    </tr>\n",
       "    <tr>\n",
       "      <th>11</th>\n",
       "      <td>percentageTotalWinHome</td>\n",
       "      <td>0.088235</td>\n",
       "    </tr>\n",
       "    <tr>\n",
       "      <th>40</th>\n",
       "      <td>lastGame4AtHomeAway</td>\n",
       "      <td>0.060227</td>\n",
       "    </tr>\n",
       "    <tr>\n",
       "      <th>32</th>\n",
       "      <td>lastGame5AtHomeHome</td>\n",
       "      <td>0.053950</td>\n",
       "    </tr>\n",
       "    <tr>\n",
       "      <th>38</th>\n",
       "      <td>lastGame3AtHomeAway</td>\n",
       "      <td>0.048964</td>\n",
       "    </tr>\n",
       "    <tr>\n",
       "      <th>23</th>\n",
       "      <td>lastGame1WinHome</td>\n",
       "      <td>0.048299</td>\n",
       "    </tr>\n",
       "    <tr>\n",
       "      <th>24</th>\n",
       "      <td>lastGame1AtHomeHome</td>\n",
       "      <td>0.046124</td>\n",
       "    </tr>\n",
       "    <tr>\n",
       "      <th>26</th>\n",
       "      <td>lastGame2AtHomeHome</td>\n",
       "      <td>0.045477</td>\n",
       "    </tr>\n",
       "    <tr>\n",
       "      <th>21</th>\n",
       "      <td>percentageHomeWinAway</td>\n",
       "      <td>0.040810</td>\n",
       "    </tr>\n",
       "    <tr>\n",
       "      <th>30</th>\n",
       "      <td>lastGame4AtHomeHome</td>\n",
       "      <td>0.038280</td>\n",
       "    </tr>\n",
       "    <tr>\n",
       "      <th>42</th>\n",
       "      <td>lastGame5AtHomeAway</td>\n",
       "      <td>0.032259</td>\n",
       "    </tr>\n",
       "    <tr>\n",
       "      <th>41</th>\n",
       "      <td>lastGame5WinAway</td>\n",
       "      <td>0.030439</td>\n",
       "    </tr>\n",
       "    <tr>\n",
       "      <th>31</th>\n",
       "      <td>lastGame5WinHome</td>\n",
       "      <td>0.026866</td>\n",
       "    </tr>\n",
       "    <tr>\n",
       "      <th>12</th>\n",
       "      <td>percentageHomeWinHome</td>\n",
       "      <td>0.021833</td>\n",
       "    </tr>\n",
       "    <tr>\n",
       "      <th>9</th>\n",
       "      <td>awayGamesHome</td>\n",
       "      <td>0.019865</td>\n",
       "    </tr>\n",
       "    <tr>\n",
       "      <th>37</th>\n",
       "      <td>lastGame3WinAway</td>\n",
       "      <td>0.018440</td>\n",
       "    </tr>\n",
       "    <tr>\n",
       "      <th>5</th>\n",
       "      <td>totalGamesHome</td>\n",
       "      <td>0.011519</td>\n",
       "    </tr>\n",
       "    <tr>\n",
       "      <th>10</th>\n",
       "      <td>awayWinsHome</td>\n",
       "      <td>0.010383</td>\n",
       "    </tr>\n",
       "    <tr>\n",
       "      <th>6</th>\n",
       "      <td>totalWinsHome</td>\n",
       "      <td>0.010340</td>\n",
       "    </tr>\n",
       "    <tr>\n",
       "      <th>16</th>\n",
       "      <td>homeGamesAway</td>\n",
       "      <td>0.010156</td>\n",
       "    </tr>\n",
       "    <tr>\n",
       "      <th>14</th>\n",
       "      <td>totalGamesAway</td>\n",
       "      <td>0.006956</td>\n",
       "    </tr>\n",
       "    <tr>\n",
       "      <th>34</th>\n",
       "      <td>lastGame1AtHomeAway</td>\n",
       "      <td>0.006660</td>\n",
       "    </tr>\n",
       "    <tr>\n",
       "      <th>20</th>\n",
       "      <td>percentageTotalWinAway</td>\n",
       "      <td>0.006630</td>\n",
       "    </tr>\n",
       "    <tr>\n",
       "      <th>19</th>\n",
       "      <td>awayWinsAway</td>\n",
       "      <td>0.003140</td>\n",
       "    </tr>\n",
       "    <tr>\n",
       "      <th>2</th>\n",
       "      <td>season</td>\n",
       "      <td>-0.000023</td>\n",
       "    </tr>\n",
       "    <tr>\n",
       "      <th>8</th>\n",
       "      <td>homeWinsHome</td>\n",
       "      <td>-0.000043</td>\n",
       "    </tr>\n",
       "    <tr>\n",
       "      <th>4</th>\n",
       "      <td>gamesPlayedAway</td>\n",
       "      <td>-0.000493</td>\n",
       "    </tr>\n",
       "    <tr>\n",
       "      <th>18</th>\n",
       "      <td>awayGamesAway</td>\n",
       "      <td>-0.003199</td>\n",
       "    </tr>\n",
       "    <tr>\n",
       "      <th>27</th>\n",
       "      <td>lastGame3WinHome</td>\n",
       "      <td>-0.005370</td>\n",
       "    </tr>\n",
       "    <tr>\n",
       "      <th>7</th>\n",
       "      <td>homeGamesHome</td>\n",
       "      <td>-0.008346</td>\n",
       "    </tr>\n",
       "    <tr>\n",
       "      <th>15</th>\n",
       "      <td>totalWinsAway</td>\n",
       "      <td>-0.010624</td>\n",
       "    </tr>\n",
       "    <tr>\n",
       "      <th>17</th>\n",
       "      <td>homeWinsAway</td>\n",
       "      <td>-0.013764</td>\n",
       "    </tr>\n",
       "    <tr>\n",
       "      <th>3</th>\n",
       "      <td>gamesPlayedHome</td>\n",
       "      <td>-0.023263</td>\n",
       "    </tr>\n",
       "    <tr>\n",
       "      <th>35</th>\n",
       "      <td>lastGame2WinAway</td>\n",
       "      <td>-0.025163</td>\n",
       "    </tr>\n",
       "    <tr>\n",
       "      <th>25</th>\n",
       "      <td>lastGame2WinHome</td>\n",
       "      <td>-0.053274</td>\n",
       "    </tr>\n",
       "    <tr>\n",
       "      <th>29</th>\n",
       "      <td>lastGame4WinHome</td>\n",
       "      <td>-0.057704</td>\n",
       "    </tr>\n",
       "    <tr>\n",
       "      <th>22</th>\n",
       "      <td>percentageAwayWinAway</td>\n",
       "      <td>-0.108687</td>\n",
       "    </tr>\n",
       "    <tr>\n",
       "      <th>33</th>\n",
       "      <td>lastGame1WinAway</td>\n",
       "      <td>-0.130851</td>\n",
       "    </tr>\n",
       "    <tr>\n",
       "      <th>1</th>\n",
       "      <td>oddsBet365Home</td>\n",
       "      <td>-0.389618</td>\n",
       "    </tr>\n",
       "    <tr>\n",
       "      <th>43</th>\n",
       "      <td>homeWin</td>\n",
       "      <td>NaN</td>\n",
       "    </tr>\n",
       "  </tbody>\n",
       "</table>\n",
       "</div>"
      ],
      "text/plain": [
       "                   Feature  Correlation\n",
       "0           oddsBet365Away     0.249638\n",
       "28     lastGame3AtHomeHome     0.133958\n",
       "13   percentageAwayWinHome     0.125711\n",
       "39        lastGame4WinAway     0.123032\n",
       "36     lastGame2AtHomeAway     0.109503\n",
       "11  percentageTotalWinHome     0.088235\n",
       "40     lastGame4AtHomeAway     0.060227\n",
       "32     lastGame5AtHomeHome     0.053950\n",
       "38     lastGame3AtHomeAway     0.048964\n",
       "23        lastGame1WinHome     0.048299\n",
       "24     lastGame1AtHomeHome     0.046124\n",
       "26     lastGame2AtHomeHome     0.045477\n",
       "21   percentageHomeWinAway     0.040810\n",
       "30     lastGame4AtHomeHome     0.038280\n",
       "42     lastGame5AtHomeAway     0.032259\n",
       "41        lastGame5WinAway     0.030439\n",
       "31        lastGame5WinHome     0.026866\n",
       "12   percentageHomeWinHome     0.021833\n",
       "9            awayGamesHome     0.019865\n",
       "37        lastGame3WinAway     0.018440\n",
       "5           totalGamesHome     0.011519\n",
       "10            awayWinsHome     0.010383\n",
       "6            totalWinsHome     0.010340\n",
       "16           homeGamesAway     0.010156\n",
       "14          totalGamesAway     0.006956\n",
       "34     lastGame1AtHomeAway     0.006660\n",
       "20  percentageTotalWinAway     0.006630\n",
       "19            awayWinsAway     0.003140\n",
       "2                   season    -0.000023\n",
       "8             homeWinsHome    -0.000043\n",
       "4          gamesPlayedAway    -0.000493\n",
       "18           awayGamesAway    -0.003199\n",
       "27        lastGame3WinHome    -0.005370\n",
       "7            homeGamesHome    -0.008346\n",
       "15           totalWinsAway    -0.010624\n",
       "17            homeWinsAway    -0.013764\n",
       "3          gamesPlayedHome    -0.023263\n",
       "35        lastGame2WinAway    -0.025163\n",
       "25        lastGame2WinHome    -0.053274\n",
       "29        lastGame4WinHome    -0.057704\n",
       "22   percentageAwayWinAway    -0.108687\n",
       "33        lastGame1WinAway    -0.130851\n",
       "1           oddsBet365Home    -0.389618\n",
       "43                 homeWin          NaN"
      ]
     },
     "execution_count": 39,
     "metadata": {},
     "output_type": "execute_result"
    }
   ],
   "source": [
    "coeff_df = pd.DataFrame(games.columns.delete(0))\n",
    "coeff_df.columns = ['Feature']\n",
    "coeff_df[\"Correlation\"] = pd.Series(logreg.coef_[0])\n",
    "\n",
    "coeff_df.sort_values(by='Correlation', ascending=False)"
   ]
  },
  {
   "cell_type": "code",
   "execution_count": 40,
   "metadata": {},
   "outputs": [
    {
     "name": "stdout",
     "output_type": "stream",
     "text": [
      "66.95 1788 1197 591\n"
     ]
    }
   ],
   "source": [
    "result = pd.concat([test, pd.DataFrame(Y_pred, columns=['forecast'])], axis=1)\n",
    "total = len(result)\n",
    "correct = len(result[(result['homeWin'] == result['forecast'])])\n",
    "incorrect = len(result[(result['homeWin'] != result['forecast'])])\n",
    "correct_log = round((correct / total) * 100, 2)\n",
    "\n",
    "print(correct_log, total, correct, incorrect)"
   ]
  },
  {
   "cell_type": "markdown",
   "metadata": {},
   "source": [
    "### Support Vector Machines"
   ]
  },
  {
   "cell_type": "code",
   "execution_count": 41,
   "metadata": {},
   "outputs": [
    {
     "data": {
      "text/plain": [
       "96.900000000000006"
      ]
     },
     "execution_count": 41,
     "metadata": {},
     "output_type": "execute_result"
    }
   ],
   "source": [
    "svc = SVC()\n",
    "svc.fit(X_train, Y_train)\n",
    "Y_pred = svc.predict(X_test)\n",
    "acc_svc = round(svc.score(X_train, Y_train) * 100, 2)\n",
    "acc_svc"
   ]
  },
  {
   "cell_type": "code",
   "execution_count": 42,
   "metadata": {},
   "outputs": [
    {
     "name": "stdout",
     "output_type": "stream",
     "text": [
      "59.9 1788 1071 717\n"
     ]
    }
   ],
   "source": [
    "result = pd.concat([test, pd.DataFrame(Y_pred, columns=['forecast'])], axis=1)\n",
    "total = len(result)\n",
    "correct = len(result[(result['homeWin'] == result['forecast'])])\n",
    "incorrect = len(result[(result['homeWin'] != result['forecast'])])\n",
    "correct_svc = round((correct / total) * 100, 2)\n",
    "\n",
    "print(correct_svc, total, correct, incorrect)"
   ]
  },
  {
   "cell_type": "markdown",
   "metadata": {},
   "source": [
    "### k-Nearest Neighbors"
   ]
  },
  {
   "cell_type": "code",
   "execution_count": 43,
   "metadata": {},
   "outputs": [
    {
     "data": {
      "text/plain": [
       "79.090000000000003"
      ]
     },
     "execution_count": 43,
     "metadata": {},
     "output_type": "execute_result"
    }
   ],
   "source": [
    "knn = KNeighborsClassifier(n_neighbors = 3)\n",
    "knn.fit(X_train, Y_train)\n",
    "Y_pred = knn.predict(X_test)\n",
    "acc_knn = round(knn.score(X_train, Y_train) * 100, 2)\n",
    "acc_knn"
   ]
  },
  {
   "cell_type": "code",
   "execution_count": 44,
   "metadata": {},
   "outputs": [
    {
     "name": "stdout",
     "output_type": "stream",
     "text": [
      "60.07 1788 1074 714\n"
     ]
    }
   ],
   "source": [
    "result = pd.concat([test, pd.DataFrame(Y_pred, columns=['forecast'])], axis=1)\n",
    "total = len(result)\n",
    "correct = len(result[(result['homeWin'] == result['forecast'])])\n",
    "incorrect = len(result[(result['homeWin'] != result['forecast'])])\n",
    "correct_knn = round((correct / total) * 100, 2)\n",
    "\n",
    "print(correct_knn, total, correct, incorrect)"
   ]
  },
  {
   "cell_type": "markdown",
   "metadata": {},
   "source": [
    "### Gaussian Naive Bayes"
   ]
  },
  {
   "cell_type": "code",
   "execution_count": 45,
   "metadata": {},
   "outputs": [
    {
     "data": {
      "text/plain": [
       "65.400000000000006"
      ]
     },
     "execution_count": 45,
     "metadata": {},
     "output_type": "execute_result"
    }
   ],
   "source": [
    "gaussian = GaussianNB()\n",
    "gaussian.fit(X_train, Y_train)\n",
    "Y_pred = gaussian.predict(X_test)\n",
    "acc_gaussian = round(gaussian.score(X_train, Y_train) * 100, 2)\n",
    "acc_gaussian"
   ]
  },
  {
   "cell_type": "code",
   "execution_count": 46,
   "metadata": {},
   "outputs": [
    {
     "name": "stdout",
     "output_type": "stream",
     "text": [
      "66.44 1788 1188 600\n"
     ]
    }
   ],
   "source": [
    "result = pd.concat([test, pd.DataFrame(Y_pred, columns=['forecast'])], axis=1)\n",
    "total = len(result)\n",
    "correct = len(result[(result['homeWin'] == result['forecast'])])\n",
    "incorrect = len(result[(result['homeWin'] != result['forecast'])])\n",
    "correct_gaussian = round((correct / total) * 100, 2)\n",
    "\n",
    "print(correct_gaussian, total, correct, incorrect)"
   ]
  },
  {
   "cell_type": "markdown",
   "metadata": {},
   "source": [
    "### Perceptron"
   ]
  },
  {
   "cell_type": "code",
   "execution_count": 47,
   "metadata": {},
   "outputs": [
    {
     "data": {
      "text/plain": [
       "59.990000000000002"
      ]
     },
     "execution_count": 47,
     "metadata": {},
     "output_type": "execute_result"
    }
   ],
   "source": [
    "perceptron = Perceptron(max_iter = 5)\n",
    "perceptron.fit(X_train, Y_train)\n",
    "Y_pred = perceptron.predict(X_test)\n",
    "acc_perceptron = round(perceptron.score(X_train, Y_train) * 100, 2)\n",
    "acc_perceptron"
   ]
  },
  {
   "cell_type": "code",
   "execution_count": 48,
   "metadata": {},
   "outputs": [
    {
     "name": "stdout",
     "output_type": "stream",
     "text": [
      "56.38 1788 1008 780\n"
     ]
    }
   ],
   "source": [
    "result = pd.concat([test, pd.DataFrame(Y_pred, columns=['forecast'])], axis=1)\n",
    "total = len(result)\n",
    "correct = len(result[(result['homeWin'] == result['forecast'])])\n",
    "incorrect = len(result[(result['homeWin'] != result['forecast'])])\n",
    "correct_perceptron = round((correct / total) * 100, 2)\n",
    "\n",
    "print(correct_perceptron, total, correct, incorrect)"
   ]
  },
  {
   "cell_type": "markdown",
   "metadata": {},
   "source": [
    "### Linear SVC"
   ]
  },
  {
   "cell_type": "code",
   "execution_count": 49,
   "metadata": {},
   "outputs": [
    {
     "data": {
      "text/plain": [
       "60.469999999999999"
      ]
     },
     "execution_count": 49,
     "metadata": {},
     "output_type": "execute_result"
    }
   ],
   "source": [
    "linear_svc = LinearSVC()\n",
    "linear_svc.fit(X_train, Y_train)\n",
    "Y_pred = linear_svc.predict(X_test)\n",
    "acc_linear_svc = round(linear_svc.score(X_train, Y_train) * 100, 2)\n",
    "acc_linear_svc"
   ]
  },
  {
   "cell_type": "code",
   "execution_count": 50,
   "metadata": {},
   "outputs": [
    {
     "name": "stdout",
     "output_type": "stream",
     "text": [
      "57.05 1788 1020 768\n"
     ]
    }
   ],
   "source": [
    "result = pd.concat([test, pd.DataFrame(Y_pred, columns=['forecast'])], axis=1)\n",
    "total = len(result)\n",
    "correct = len(result[(result['homeWin'] == result['forecast'])])\n",
    "incorrect = len(result[(result['homeWin'] != result['forecast'])])\n",
    "correct_linear_svc = round((correct / total) * 100, 2)\n",
    "\n",
    "print(correct_linear_svc, total, correct, incorrect)"
   ]
  },
  {
   "cell_type": "markdown",
   "metadata": {},
   "source": [
    "### Stochastic Gradient Descent"
   ]
  },
  {
   "cell_type": "code",
   "execution_count": 51,
   "metadata": {},
   "outputs": [
    {
     "data": {
      "text/plain": [
       "60.140000000000001"
      ]
     },
     "execution_count": 51,
     "metadata": {},
     "output_type": "execute_result"
    }
   ],
   "source": [
    "sgd = SGDClassifier(max_iter = 5)\n",
    "sgd.fit(X_train, Y_train)\n",
    "Y_pred = sgd.predict(X_test)\n",
    "acc_sgd = round(sgd.score(X_train, Y_train) * 100, 2)\n",
    "acc_sgd"
   ]
  },
  {
   "cell_type": "code",
   "execution_count": 52,
   "metadata": {},
   "outputs": [
    {
     "name": "stdout",
     "output_type": "stream",
     "text": [
      "56.6 1788 1012 776\n"
     ]
    }
   ],
   "source": [
    "result = pd.concat([test, pd.DataFrame(Y_pred, columns=['forecast'])], axis=1)\n",
    "total = len(result)\n",
    "correct = len(result[(result['homeWin'] == result['forecast'])])\n",
    "incorrect = len(result[(result['homeWin'] != result['forecast'])])\n",
    "correct_sgd = round((correct / total) * 100, 2)\n",
    "\n",
    "print(correct_sgd, total, correct, incorrect)"
   ]
  },
  {
   "cell_type": "markdown",
   "metadata": {},
   "source": [
    "### Decision Tree"
   ]
  },
  {
   "cell_type": "code",
   "execution_count": 53,
   "metadata": {},
   "outputs": [
    {
     "data": {
      "text/plain": [
       "100.0"
      ]
     },
     "execution_count": 53,
     "metadata": {},
     "output_type": "execute_result"
    }
   ],
   "source": [
    "decision_tree = DecisionTreeClassifier()\n",
    "decision_tree.fit(X_train, Y_train)\n",
    "Y_pred = decision_tree.predict(X_test)\n",
    "acc_decision_tree = round(decision_tree.score(X_train, Y_train) * 100, 2)\n",
    "acc_decision_tree"
   ]
  },
  {
   "cell_type": "code",
   "execution_count": 54,
   "metadata": {},
   "outputs": [
    {
     "name": "stdout",
     "output_type": "stream",
     "text": [
      "58.39 1788 1044 744\n"
     ]
    }
   ],
   "source": [
    "result = pd.concat([test, pd.DataFrame(Y_pred, columns=['forecast'])], axis=1)\n",
    "total = len(result)\n",
    "correct = len(result[(result['homeWin'] == result['forecast'])])\n",
    "incorrect = len(result[(result['homeWin'] != result['forecast'])])\n",
    "correct_decision_tree = round((correct / total) * 100, 2)\n",
    "\n",
    "print(correct_decision_tree, total, correct, incorrect)"
   ]
  },
  {
   "cell_type": "markdown",
   "metadata": {},
   "source": [
    "### Random Forest"
   ]
  },
  {
   "cell_type": "code",
   "execution_count": 55,
   "metadata": {},
   "outputs": [
    {
     "data": {
      "text/plain": [
       "100.0"
      ]
     },
     "execution_count": 55,
     "metadata": {},
     "output_type": "execute_result"
    }
   ],
   "source": [
    "random_forest = RandomForestClassifier(n_estimators=100)\n",
    "random_forest.fit(X_train, Y_train)\n",
    "Y_pred = random_forest.predict(X_test)\n",
    "random_forest.score(X_train, Y_train)\n",
    "acc_random_forest = round(random_forest.score(X_train, Y_train) * 100, 2)\n",
    "acc_random_forest"
   ]
  },
  {
   "cell_type": "code",
   "execution_count": 56,
   "metadata": {},
   "outputs": [
    {
     "name": "stdout",
     "output_type": "stream",
     "text": [
      "65.83 1788 1788 1177 611\n"
     ]
    }
   ],
   "source": [
    "result = pd.concat([test, pd.DataFrame(Y_pred, columns=['forecast'])], axis=1)\n",
    "total = len(result)\n",
    "correct = len(result[(result['homeWin'] == result['forecast'])])\n",
    "incorrect = len(result[(result['homeWin'] != result['forecast'])])\n",
    "correct_random_forest = round((correct / total) * 100, 2)\n",
    "\n",
    "print(correct_random_forest, len(Y_pred), total, correct, incorrect)"
   ]
  },
  {
   "cell_type": "markdown",
   "metadata": {},
   "source": [
    "## Model Evaluation Results"
   ]
  },
  {
   "cell_type": "code",
   "execution_count": 57,
   "metadata": {},
   "outputs": [
    {
     "data": {
      "text/html": [
       "<div>\n",
       "<style>\n",
       "    .dataframe thead tr:only-child th {\n",
       "        text-align: right;\n",
       "    }\n",
       "\n",
       "    .dataframe thead th {\n",
       "        text-align: left;\n",
       "    }\n",
       "\n",
       "    .dataframe tbody tr th {\n",
       "        vertical-align: top;\n",
       "    }\n",
       "</style>\n",
       "<table border=\"1\" class=\"dataframe\">\n",
       "  <thead>\n",
       "    <tr style=\"text-align: right;\">\n",
       "      <th></th>\n",
       "      <th>Correct</th>\n",
       "      <th>Model</th>\n",
       "      <th>Score</th>\n",
       "    </tr>\n",
       "  </thead>\n",
       "  <tbody>\n",
       "    <tr>\n",
       "      <th>2</th>\n",
       "      <td>66.95</td>\n",
       "      <td>Logistic Regression</td>\n",
       "      <td>69.71</td>\n",
       "    </tr>\n",
       "    <tr>\n",
       "      <th>4</th>\n",
       "      <td>66.44</td>\n",
       "      <td>Naive Bayes</td>\n",
       "      <td>65.40</td>\n",
       "    </tr>\n",
       "    <tr>\n",
       "      <th>3</th>\n",
       "      <td>65.83</td>\n",
       "      <td>Random Forest</td>\n",
       "      <td>100.00</td>\n",
       "    </tr>\n",
       "    <tr>\n",
       "      <th>1</th>\n",
       "      <td>60.07</td>\n",
       "      <td>KNN</td>\n",
       "      <td>79.09</td>\n",
       "    </tr>\n",
       "    <tr>\n",
       "      <th>0</th>\n",
       "      <td>59.90</td>\n",
       "      <td>Support Vector Machines</td>\n",
       "      <td>96.90</td>\n",
       "    </tr>\n",
       "    <tr>\n",
       "      <th>8</th>\n",
       "      <td>58.39</td>\n",
       "      <td>Decision Tree</td>\n",
       "      <td>100.00</td>\n",
       "    </tr>\n",
       "    <tr>\n",
       "      <th>7</th>\n",
       "      <td>57.05</td>\n",
       "      <td>Linear SVC</td>\n",
       "      <td>60.47</td>\n",
       "    </tr>\n",
       "    <tr>\n",
       "      <th>6</th>\n",
       "      <td>56.60</td>\n",
       "      <td>Stochastic Gradient Decent</td>\n",
       "      <td>60.14</td>\n",
       "    </tr>\n",
       "    <tr>\n",
       "      <th>5</th>\n",
       "      <td>56.38</td>\n",
       "      <td>Perceptron</td>\n",
       "      <td>59.99</td>\n",
       "    </tr>\n",
       "  </tbody>\n",
       "</table>\n",
       "</div>"
      ],
      "text/plain": [
       "   Correct                       Model   Score\n",
       "2    66.95         Logistic Regression   69.71\n",
       "4    66.44                 Naive Bayes   65.40\n",
       "3    65.83               Random Forest  100.00\n",
       "1    60.07                         KNN   79.09\n",
       "0    59.90     Support Vector Machines   96.90\n",
       "8    58.39               Decision Tree  100.00\n",
       "7    57.05                  Linear SVC   60.47\n",
       "6    56.60  Stochastic Gradient Decent   60.14\n",
       "5    56.38                  Perceptron   59.99"
      ]
     },
     "execution_count": 57,
     "metadata": {},
     "output_type": "execute_result"
    }
   ],
   "source": [
    "models = pd.DataFrame({\n",
    "    'Score': [acc_svc, acc_knn, acc_log, \n",
    "              acc_random_forest, acc_gaussian, acc_perceptron, \n",
    "              acc_sgd, acc_linear_svc, acc_decision_tree],\n",
    "    'Correct': [correct_svc, correct_knn, correct_log, \n",
    "              correct_random_forest, correct_gaussian, correct_perceptron, \n",
    "              correct_sgd, correct_linear_svc, correct_decision_tree],\n",
    "    'Model': ['Support Vector Machines', 'KNN', 'Logistic Regression', \n",
    "              'Random Forest', 'Naive Bayes', 'Perceptron', \n",
    "              'Stochastic Gradient Decent', 'Linear SVC', \n",
    "              'Decision Tree']})\n",
    "models.sort_values(by='Correct', ascending=False)"
   ]
  },
  {
   "cell_type": "code",
   "execution_count": 58,
   "metadata": {},
   "outputs": [
    {
     "data": {
      "text/html": [
       "<div>\n",
       "<style>\n",
       "    .dataframe thead tr:only-child th {\n",
       "        text-align: right;\n",
       "    }\n",
       "\n",
       "    .dataframe thead th {\n",
       "        text-align: left;\n",
       "    }\n",
       "\n",
       "    .dataframe tbody tr th {\n",
       "        vertical-align: top;\n",
       "    }\n",
       "</style>\n",
       "<table border=\"1\" class=\"dataframe\">\n",
       "  <thead>\n",
       "    <tr style=\"text-align: right;\">\n",
       "      <th></th>\n",
       "      <th>id</th>\n",
       "      <th>oddsBet365Away</th>\n",
       "      <th>oddsBet365Home</th>\n",
       "      <th>season</th>\n",
       "      <th>gamesPlayedHome</th>\n",
       "      <th>gamesPlayedAway</th>\n",
       "      <th>totalGamesHome</th>\n",
       "      <th>totalWinsHome</th>\n",
       "      <th>homeGamesHome</th>\n",
       "      <th>homeWinsHome</th>\n",
       "      <th>...</th>\n",
       "      <th>lastGame2WinAway</th>\n",
       "      <th>lastGame2AtHomeAway</th>\n",
       "      <th>lastGame3WinAway</th>\n",
       "      <th>lastGame3AtHomeAway</th>\n",
       "      <th>lastGame4WinAway</th>\n",
       "      <th>lastGame4AtHomeAway</th>\n",
       "      <th>lastGame5WinAway</th>\n",
       "      <th>lastGame5AtHomeAway</th>\n",
       "      <th>homeWin</th>\n",
       "      <th>forecast</th>\n",
       "    </tr>\n",
       "  </thead>\n",
       "  <tbody>\n",
       "    <tr>\n",
       "      <th>1494</th>\n",
       "      <td>201404190TOR</td>\n",
       "      <td>2.20</td>\n",
       "      <td>1.71</td>\n",
       "      <td>2013</td>\n",
       "      <td>51</td>\n",
       "      <td>54</td>\n",
       "      <td>50</td>\n",
       "      <td>25</td>\n",
       "      <td>22</td>\n",
       "      <td>12</td>\n",
       "      <td>...</td>\n",
       "      <td>True</td>\n",
       "      <td>False</td>\n",
       "      <td>False</td>\n",
       "      <td>True</td>\n",
       "      <td>True</td>\n",
       "      <td>True</td>\n",
       "      <td>True</td>\n",
       "      <td>False</td>\n",
       "      <td>False</td>\n",
       "      <td>True</td>\n",
       "    </tr>\n",
       "    <tr>\n",
       "      <th>14</th>\n",
       "      <td>31243</td>\n",
       "      <td>3.20</td>\n",
       "      <td>1.37</td>\n",
       "      <td>2015</td>\n",
       "      <td>56</td>\n",
       "      <td>66</td>\n",
       "      <td>53</td>\n",
       "      <td>28</td>\n",
       "      <td>27</td>\n",
       "      <td>17</td>\n",
       "      <td>...</td>\n",
       "      <td>False</td>\n",
       "      <td>False</td>\n",
       "      <td>True</td>\n",
       "      <td>True</td>\n",
       "      <td>False</td>\n",
       "      <td>False</td>\n",
       "      <td>True</td>\n",
       "      <td>True</td>\n",
       "      <td>False</td>\n",
       "      <td>True</td>\n",
       "    </tr>\n",
       "    <tr>\n",
       "      <th>303</th>\n",
       "      <td>34270</td>\n",
       "      <td>1.58</td>\n",
       "      <td>2.50</td>\n",
       "      <td>2016</td>\n",
       "      <td>63</td>\n",
       "      <td>81</td>\n",
       "      <td>62</td>\n",
       "      <td>40</td>\n",
       "      <td>29</td>\n",
       "      <td>21</td>\n",
       "      <td>...</td>\n",
       "      <td>False</td>\n",
       "      <td>True</td>\n",
       "      <td>False</td>\n",
       "      <td>True</td>\n",
       "      <td>True</td>\n",
       "      <td>False</td>\n",
       "      <td>True</td>\n",
       "      <td>False</td>\n",
       "      <td>False</td>\n",
       "      <td>True</td>\n",
       "    </tr>\n",
       "    <tr>\n",
       "      <th>1166</th>\n",
       "      <td>201303020MIL</td>\n",
       "      <td>2.85</td>\n",
       "      <td>1.44</td>\n",
       "      <td>2012</td>\n",
       "      <td>75</td>\n",
       "      <td>18</td>\n",
       "      <td>77</td>\n",
       "      <td>33</td>\n",
       "      <td>37</td>\n",
       "      <td>17</td>\n",
       "      <td>...</td>\n",
       "      <td>False</td>\n",
       "      <td>False</td>\n",
       "      <td>True</td>\n",
       "      <td>True</td>\n",
       "      <td>False</td>\n",
       "      <td>False</td>\n",
       "      <td>False</td>\n",
       "      <td>False</td>\n",
       "      <td>True</td>\n",
       "      <td>False</td>\n",
       "    </tr>\n",
       "    <tr>\n",
       "      <th>1532</th>\n",
       "      <td>201411130TOR</td>\n",
       "      <td>2.25</td>\n",
       "      <td>1.68</td>\n",
       "      <td>2014</td>\n",
       "      <td>21</td>\n",
       "      <td>10</td>\n",
       "      <td>19</td>\n",
       "      <td>13</td>\n",
       "      <td>11</td>\n",
       "      <td>9</td>\n",
       "      <td>...</td>\n",
       "      <td>False</td>\n",
       "      <td>True</td>\n",
       "      <td>True</td>\n",
       "      <td>False</td>\n",
       "      <td>True</td>\n",
       "      <td>False</td>\n",
       "      <td>True</td>\n",
       "      <td>False</td>\n",
       "      <td>False</td>\n",
       "      <td>True</td>\n",
       "    </tr>\n",
       "    <tr>\n",
       "      <th>1367</th>\n",
       "      <td>201401190TOR</td>\n",
       "      <td>4.75</td>\n",
       "      <td>1.20</td>\n",
       "      <td>2013</td>\n",
       "      <td>69</td>\n",
       "      <td>42</td>\n",
       "      <td>67</td>\n",
       "      <td>38</td>\n",
       "      <td>34</td>\n",
       "      <td>21</td>\n",
       "      <td>...</td>\n",
       "      <td>False</td>\n",
       "      <td>True</td>\n",
       "      <td>True</td>\n",
       "      <td>True</td>\n",
       "      <td>True</td>\n",
       "      <td>True</td>\n",
       "      <td>True</td>\n",
       "      <td>False</td>\n",
       "      <td>False</td>\n",
       "      <td>True</td>\n",
       "    </tr>\n",
       "    <tr>\n",
       "      <th>246</th>\n",
       "      <td>33973</td>\n",
       "      <td>2.15</td>\n",
       "      <td>1.74</td>\n",
       "      <td>2016</td>\n",
       "      <td>1</td>\n",
       "      <td>59</td>\n",
       "      <td>0</td>\n",
       "      <td>0</td>\n",
       "      <td>0</td>\n",
       "      <td>0</td>\n",
       "      <td>...</td>\n",
       "      <td>True</td>\n",
       "      <td>True</td>\n",
       "      <td>False</td>\n",
       "      <td>True</td>\n",
       "      <td>False</td>\n",
       "      <td>True</td>\n",
       "      <td>True</td>\n",
       "      <td>False</td>\n",
       "      <td>False</td>\n",
       "      <td>True</td>\n",
       "    </tr>\n",
       "    <tr>\n",
       "      <th>1447</th>\n",
       "      <td>201403210ATL</td>\n",
       "      <td>3.40</td>\n",
       "      <td>1.33</td>\n",
       "      <td>2013</td>\n",
       "      <td>62</td>\n",
       "      <td>36</td>\n",
       "      <td>66</td>\n",
       "      <td>34</td>\n",
       "      <td>32</td>\n",
       "      <td>20</td>\n",
       "      <td>...</td>\n",
       "      <td>True</td>\n",
       "      <td>False</td>\n",
       "      <td>False</td>\n",
       "      <td>True</td>\n",
       "      <td>True</td>\n",
       "      <td>True</td>\n",
       "      <td>False</td>\n",
       "      <td>False</td>\n",
       "      <td>False</td>\n",
       "      <td>True</td>\n",
       "    </tr>\n",
       "    <tr>\n",
       "      <th>716</th>\n",
       "      <td>201004290POR</td>\n",
       "      <td>2.00</td>\n",
       "      <td>1.83</td>\n",
       "      <td>2009</td>\n",
       "      <td>85</td>\n",
       "      <td>24</td>\n",
       "      <td>84</td>\n",
       "      <td>49</td>\n",
       "      <td>41</td>\n",
       "      <td>25</td>\n",
       "      <td>...</td>\n",
       "      <td>True</td>\n",
       "      <td>True</td>\n",
       "      <td>False</td>\n",
       "      <td>True</td>\n",
       "      <td>True</td>\n",
       "      <td>False</td>\n",
       "      <td>False</td>\n",
       "      <td>True</td>\n",
       "      <td>False</td>\n",
       "      <td>True</td>\n",
       "    </tr>\n",
       "    <tr>\n",
       "      <th>378</th>\n",
       "      <td>34755</td>\n",
       "      <td>2.80</td>\n",
       "      <td>1.45</td>\n",
       "      <td>2016</td>\n",
       "      <td>7</td>\n",
       "      <td>8</td>\n",
       "      <td>7</td>\n",
       "      <td>4</td>\n",
       "      <td>3</td>\n",
       "      <td>2</td>\n",
       "      <td>...</td>\n",
       "      <td>True</td>\n",
       "      <td>False</td>\n",
       "      <td>True</td>\n",
       "      <td>True</td>\n",
       "      <td>True</td>\n",
       "      <td>True</td>\n",
       "      <td>False</td>\n",
       "      <td>True</td>\n",
       "      <td>False</td>\n",
       "      <td>True</td>\n",
       "    </tr>\n",
       "  </tbody>\n",
       "</table>\n",
       "<p>10 rows × 46 columns</p>\n",
       "</div>"
      ],
      "text/plain": [
       "                id  oddsBet365Away  oddsBet365Home  season  gamesPlayedHome  \\\n",
       "1494  201404190TOR            2.20            1.71    2013               51   \n",
       "14           31243            3.20            1.37    2015               56   \n",
       "303          34270            1.58            2.50    2016               63   \n",
       "1166  201303020MIL            2.85            1.44    2012               75   \n",
       "1532  201411130TOR            2.25            1.68    2014               21   \n",
       "1367  201401190TOR            4.75            1.20    2013               69   \n",
       "246          33973            2.15            1.74    2016                1   \n",
       "1447  201403210ATL            3.40            1.33    2013               62   \n",
       "716   201004290POR            2.00            1.83    2009               85   \n",
       "378          34755            2.80            1.45    2016                7   \n",
       "\n",
       "      gamesPlayedAway  totalGamesHome  totalWinsHome  homeGamesHome  \\\n",
       "1494               54              50             25             22   \n",
       "14                 66              53             28             27   \n",
       "303                81              62             40             29   \n",
       "1166               18              77             33             37   \n",
       "1532               10              19             13             11   \n",
       "1367               42              67             38             34   \n",
       "246                59               0              0              0   \n",
       "1447               36              66             34             32   \n",
       "716                24              84             49             41   \n",
       "378                 8               7              4              3   \n",
       "\n",
       "      homeWinsHome    ...     lastGame2WinAway  lastGame2AtHomeAway  \\\n",
       "1494            12    ...                 True                False   \n",
       "14              17    ...                False                False   \n",
       "303             21    ...                False                 True   \n",
       "1166            17    ...                False                False   \n",
       "1532             9    ...                False                 True   \n",
       "1367            21    ...                False                 True   \n",
       "246              0    ...                 True                 True   \n",
       "1447            20    ...                 True                False   \n",
       "716             25    ...                 True                 True   \n",
       "378              2    ...                 True                False   \n",
       "\n",
       "      lastGame3WinAway  lastGame3AtHomeAway  lastGame4WinAway  \\\n",
       "1494             False                 True              True   \n",
       "14                True                 True             False   \n",
       "303              False                 True              True   \n",
       "1166              True                 True             False   \n",
       "1532              True                False              True   \n",
       "1367              True                 True              True   \n",
       "246              False                 True             False   \n",
       "1447             False                 True              True   \n",
       "716              False                 True              True   \n",
       "378               True                 True              True   \n",
       "\n",
       "      lastGame4AtHomeAway  lastGame5WinAway  lastGame5AtHomeAway  homeWin  \\\n",
       "1494                 True              True                False    False   \n",
       "14                  False              True                 True    False   \n",
       "303                 False              True                False    False   \n",
       "1166                False             False                False     True   \n",
       "1532                False              True                False    False   \n",
       "1367                 True              True                False    False   \n",
       "246                  True              True                False    False   \n",
       "1447                 True             False                False    False   \n",
       "716                 False             False                 True    False   \n",
       "378                  True             False                 True    False   \n",
       "\n",
       "      forecast  \n",
       "1494      True  \n",
       "14        True  \n",
       "303       True  \n",
       "1166     False  \n",
       "1532      True  \n",
       "1367      True  \n",
       "246       True  \n",
       "1447      True  \n",
       "716       True  \n",
       "378       True  \n",
       "\n",
       "[10 rows x 46 columns]"
      ]
     },
     "execution_count": 58,
     "metadata": {},
     "output_type": "execute_result"
    }
   ],
   "source": [
    "result[(result['homeWin'] != result['forecast'])].sample(10)"
   ]
  },
  {
   "cell_type": "code",
   "execution_count": 59,
   "metadata": {},
   "outputs": [
    {
     "data": {
      "text/html": [
       "<div>\n",
       "<style>\n",
       "    .dataframe thead tr:only-child th {\n",
       "        text-align: right;\n",
       "    }\n",
       "\n",
       "    .dataframe thead th {\n",
       "        text-align: left;\n",
       "    }\n",
       "\n",
       "    .dataframe tbody tr th {\n",
       "        vertical-align: top;\n",
       "    }\n",
       "</style>\n",
       "<table border=\"1\" class=\"dataframe\">\n",
       "  <thead>\n",
       "    <tr style=\"text-align: right;\">\n",
       "      <th></th>\n",
       "      <th>id</th>\n",
       "      <th>oddsBet365Away</th>\n",
       "      <th>oddsBet365Home</th>\n",
       "      <th>season</th>\n",
       "      <th>gamesPlayedHome</th>\n",
       "      <th>gamesPlayedAway</th>\n",
       "      <th>totalGamesHome</th>\n",
       "      <th>totalWinsHome</th>\n",
       "      <th>homeGamesHome</th>\n",
       "      <th>homeWinsHome</th>\n",
       "      <th>...</th>\n",
       "      <th>lastGame2WinAway</th>\n",
       "      <th>lastGame2AtHomeAway</th>\n",
       "      <th>lastGame3WinAway</th>\n",
       "      <th>lastGame3AtHomeAway</th>\n",
       "      <th>lastGame4WinAway</th>\n",
       "      <th>lastGame4AtHomeAway</th>\n",
       "      <th>lastGame5WinAway</th>\n",
       "      <th>lastGame5AtHomeAway</th>\n",
       "      <th>homeWin</th>\n",
       "      <th>forecast</th>\n",
       "    </tr>\n",
       "  </thead>\n",
       "  <tbody>\n",
       "  </tbody>\n",
       "</table>\n",
       "<p>0 rows × 46 columns</p>\n",
       "</div>"
      ],
      "text/plain": [
       "Empty DataFrame\n",
       "Columns: [id, oddsBet365Away, oddsBet365Home, season, gamesPlayedHome, gamesPlayedAway, totalGamesHome, totalWinsHome, homeGamesHome, homeWinsHome, awayGamesHome, awayWinsHome, percentageTotalWinHome, percentageHomeWinHome, percentageAwayWinHome, totalGamesAway, totalWinsAway, homeGamesAway, homeWinsAway, awayGamesAway, awayWinsAway, percentageTotalWinAway, percentageHomeWinAway, percentageAwayWinAway, lastGame1WinHome, lastGame1AtHomeHome, lastGame2WinHome, lastGame2AtHomeHome, lastGame3WinHome, lastGame3AtHomeHome, lastGame4WinHome, lastGame4AtHomeHome, lastGame5WinHome, lastGame5AtHomeHome, lastGame1WinAway, lastGame1AtHomeAway, lastGame2WinAway, lastGame2AtHomeAway, lastGame3WinAway, lastGame3AtHomeAway, lastGame4WinAway, lastGame4AtHomeAway, lastGame5WinAway, lastGame5AtHomeAway, homeWin, forecast]\n",
       "Index: []\n",
       "\n",
       "[0 rows x 46 columns]"
      ]
     },
     "execution_count": 59,
     "metadata": {},
     "output_type": "execute_result"
    }
   ],
   "source": [
    "result[(result['id'] == 33946) | (result['id'] == 34601)]"
   ]
  },
  {
   "cell_type": "code",
   "execution_count": 60,
   "metadata": {},
   "outputs": [
    {
     "data": {
      "text/html": [
       "<div>\n",
       "<style>\n",
       "    .dataframe thead tr:only-child th {\n",
       "        text-align: right;\n",
       "    }\n",
       "\n",
       "    .dataframe thead th {\n",
       "        text-align: left;\n",
       "    }\n",
       "\n",
       "    .dataframe tbody tr th {\n",
       "        vertical-align: top;\n",
       "    }\n",
       "</style>\n",
       "<table border=\"1\" class=\"dataframe\">\n",
       "  <thead>\n",
       "    <tr style=\"text-align: right;\">\n",
       "      <th></th>\n",
       "      <th>id</th>\n",
       "      <th>oddsBet365Away</th>\n",
       "      <th>oddsBet365Home</th>\n",
       "      <th>season</th>\n",
       "      <th>gamesPlayedHome</th>\n",
       "      <th>gamesPlayedAway</th>\n",
       "      <th>totalGamesHome</th>\n",
       "      <th>totalWinsHome</th>\n",
       "      <th>homeGamesHome</th>\n",
       "      <th>homeWinsHome</th>\n",
       "      <th>...</th>\n",
       "      <th>lastGame1AtHomeAway</th>\n",
       "      <th>lastGame2WinAway</th>\n",
       "      <th>lastGame2AtHomeAway</th>\n",
       "      <th>lastGame3WinAway</th>\n",
       "      <th>lastGame3AtHomeAway</th>\n",
       "      <th>lastGame4WinAway</th>\n",
       "      <th>lastGame4AtHomeAway</th>\n",
       "      <th>lastGame5WinAway</th>\n",
       "      <th>lastGame5AtHomeAway</th>\n",
       "      <th>homeWin</th>\n",
       "    </tr>\n",
       "  </thead>\n",
       "  <tbody>\n",
       "  </tbody>\n",
       "</table>\n",
       "<p>0 rows × 45 columns</p>\n",
       "</div>"
      ],
      "text/plain": [
       "Empty DataFrame\n",
       "Columns: [id, oddsBet365Away, oddsBet365Home, season, gamesPlayedHome, gamesPlayedAway, totalGamesHome, totalWinsHome, homeGamesHome, homeWinsHome, awayGamesHome, awayWinsHome, percentageTotalWinHome, percentageHomeWinHome, percentageAwayWinHome, totalGamesAway, totalWinsAway, homeGamesAway, homeWinsAway, awayGamesAway, awayWinsAway, percentageTotalWinAway, percentageHomeWinAway, percentageAwayWinAway, lastGame1WinHome, lastGame1AtHomeHome, lastGame2WinHome, lastGame2AtHomeHome, lastGame3WinHome, lastGame3AtHomeHome, lastGame4WinHome, lastGame4AtHomeHome, lastGame5WinHome, lastGame5AtHomeHome, lastGame1WinAway, lastGame1AtHomeAway, lastGame2WinAway, lastGame2AtHomeAway, lastGame3WinAway, lastGame3AtHomeAway, lastGame4WinAway, lastGame4AtHomeAway, lastGame5WinAway, lastGame5AtHomeAway, homeWin]\n",
       "Index: []\n",
       "\n",
       "[0 rows x 45 columns]"
      ]
     },
     "execution_count": 60,
     "metadata": {},
     "output_type": "execute_result"
    }
   ],
   "source": [
    "games[(games['id'] == 33946) | (games['id'] == 34601)]"
   ]
  },
  {
   "cell_type": "code",
   "execution_count": null,
   "metadata": {
    "collapsed": true
   },
   "outputs": [],
   "source": []
  }
 ],
 "metadata": {
  "kernelspec": {
   "display_name": "Python 3",
   "language": "python",
   "name": "python3"
  },
  "language_info": {
   "codemirror_mode": {
    "name": "ipython",
    "version": 3
   },
   "file_extension": ".py",
   "mimetype": "text/x-python",
   "name": "python",
   "nbconvert_exporter": "python",
   "pygments_lexer": "ipython3",
   "version": "3.6.3"
  }
 },
 "nbformat": 4,
 "nbformat_minor": 2
}
